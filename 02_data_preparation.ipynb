{
 "cells": [
  {
   "cell_type": "markdown",
   "metadata": {},
   "source": [
    "##### Imports"
   ]
  },
  {
   "cell_type": "code",
   "execution_count": null,
   "metadata": {},
   "outputs": [],
   "source": [
    "from scripts.data_preparation import *"
   ]
  },
  {
   "cell_type": "markdown",
   "metadata": {},
   "source": [
    "Progress tracking"
   ]
  },
  {
   "cell_type": "code",
   "execution_count": 2,
   "metadata": {},
   "outputs": [],
   "source": [
    "# track progress for pipeline processing\n",
    "tqdm.pandas()"
   ]
  },
  {
   "cell_type": "markdown",
   "metadata": {},
   "source": [
    "## Data Preparation"
   ]
  },
  {
   "cell_type": "markdown",
   "metadata": {},
   "source": [
    "### Real data"
   ]
  },
  {
   "cell_type": "code",
   "execution_count": 3,
   "metadata": {},
   "outputs": [],
   "source": [
    "# lightly processed real user data\n",
    "df_pandora = pd.read_csv(\"../original_data/pandora/PANDORA_original.csv\", encoding = \"utf-8\")"
   ]
  },
  {
   "cell_type": "code",
   "execution_count": 4,
   "metadata": {},
   "outputs": [
    {
     "name": "stdout",
     "output_type": "stream",
     "text": [
      "Original features:\n",
      "['author', 'author_flair_text', 'body', 'downs', 'created_utc', 'subreddit_id', 'link_id', 'parent_id', 'score', 'controversiality', 'gilded', 'id', 'subreddit', 'ups', 'word_count', 'word_count_quoteless', 'gender', 'age', 'openness', 'conscientiousness', 'extraversion', 'agreeableness', 'neuroticism']\n",
      "\n",
      "Shape:\n",
      "(2733505, 23)\n",
      "\n"
     ]
    },
    {
     "data": {
      "text/html": [
       "<div>\n",
       "<style scoped>\n",
       "    .dataframe tbody tr th:only-of-type {\n",
       "        vertical-align: middle;\n",
       "    }\n",
       "\n",
       "    .dataframe tbody tr th {\n",
       "        vertical-align: top;\n",
       "    }\n",
       "\n",
       "    .dataframe thead th {\n",
       "        text-align: right;\n",
       "    }\n",
       "</style>\n",
       "<table border=\"1\" class=\"dataframe\">\n",
       "  <thead>\n",
       "    <tr style=\"text-align: right;\">\n",
       "      <th></th>\n",
       "      <th>author</th>\n",
       "      <th>author_flair_text</th>\n",
       "      <th>body</th>\n",
       "      <th>downs</th>\n",
       "      <th>created_utc</th>\n",
       "      <th>subreddit_id</th>\n",
       "      <th>link_id</th>\n",
       "      <th>parent_id</th>\n",
       "      <th>score</th>\n",
       "      <th>controversiality</th>\n",
       "      <th>gilded</th>\n",
       "      <th>id</th>\n",
       "      <th>subreddit</th>\n",
       "      <th>ups</th>\n",
       "      <th>word_count</th>\n",
       "      <th>word_count_quoteless</th>\n",
       "      <th>gender</th>\n",
       "      <th>age</th>\n",
       "      <th>openness</th>\n",
       "      <th>conscientiousness</th>\n",
       "      <th>extraversion</th>\n",
       "      <th>agreeableness</th>\n",
       "      <th>neuroticism</th>\n",
       "    </tr>\n",
       "  </thead>\n",
       "  <tbody>\n",
       "    <tr>\n",
       "      <th>0</th>\n",
       "      <td>MetricExpansion</td>\n",
       "      <td>ENTP</td>\n",
       "      <td>Those stats come from the test. [Echoing the c...</td>\n",
       "      <td>0.0</td>\n",
       "      <td>1.474429e+09</td>\n",
       "      <td>t5_2s90r</td>\n",
       "      <td>t3_53plrw</td>\n",
       "      <td>t3_53plrw</td>\n",
       "      <td>6.0</td>\n",
       "      <td>0.0</td>\n",
       "      <td>0.0</td>\n",
       "      <td>d7vkyrf</td>\n",
       "      <td>mbti</td>\n",
       "      <td>6.0</td>\n",
       "      <td>151.0</td>\n",
       "      <td>149</td>\n",
       "      <td>m</td>\n",
       "      <td>23.0</td>\n",
       "      <td>70.0</td>\n",
       "      <td>15.0</td>\n",
       "      <td>15.0</td>\n",
       "      <td>30.0</td>\n",
       "      <td>50.0</td>\n",
       "    </tr>\n",
       "  </tbody>\n",
       "</table>\n",
       "</div>"
      ],
      "text/plain": [
       "            author author_flair_text                                               body  downs   created_utc subreddit_id    link_id  parent_id  score  controversiality  gilded       id subreddit  ups  word_count  word_count_quoteless gender   age  openness  conscientiousness  extraversion  agreeableness  neuroticism\n",
       "0  MetricExpansion              ENTP  Those stats come from the test. [Echoing the c...    0.0  1.474429e+09     t5_2s90r  t3_53plrw  t3_53plrw    6.0               0.0     0.0  d7vkyrf      mbti  6.0       151.0                   149      m  23.0      70.0               15.0          15.0           30.0         50.0"
      ]
     },
     "execution_count": 4,
     "metadata": {},
     "output_type": "execute_result"
    }
   ],
   "source": [
    "# original features\n",
    "feats = df_pandora.columns.to_list()\n",
    "print(f\"Original features:\\n{feats}\\n\")\n",
    "\n",
    "# size, features and sample\n",
    "print(f\"Shape:\\n{df_pandora.shape}\\n\")\n",
    "df_pandora.head(1)"
   ]
  },
  {
   "cell_type": "markdown",
   "metadata": {},
   "source": [
    "Empty comments check and removal"
   ]
  },
  {
   "cell_type": "code",
   "execution_count": 5,
   "metadata": {},
   "outputs": [
    {
     "name": "stdout",
     "output_type": "stream",
     "text": [
      "Check for empty comments\n",
      "0\n",
      "Check for NaN comments\n",
      "0\n"
     ]
    }
   ],
   "source": [
    "# checking for empty comments\n",
    "print(\"Check for empty comments\")\n",
    "print(len(df_pandora[df_pandora[\"body\"].isin([\"\", \" \", \"NaN\", \"None\", \"NULL\", \"null\", \"NA\"])]))\n",
    "print(\"Check for NaN comments\")\n",
    "print(len(df_pandora[df_pandora[\"body\"].isna()]))\n",
    "\n",
    "# drop NaN comments\n",
    "df_pandora = df_pandora[df_pandora[\"body\"].notna()].reset_index(drop = True)"
   ]
  },
  {
   "cell_type": "markdown",
   "metadata": {},
   "source": [
    "Data types check and casting"
   ]
  },
  {
   "cell_type": "code",
   "execution_count": 6,
   "metadata": {},
   "outputs": [
    {
     "name": "stdout",
     "output_type": "stream",
     "text": [
      "Unique dtypes author\n",
      "<class 'str'>    2733505\n",
      "Name: count, dtype: int64\n",
      "\n",
      "Unique dtypes author_flair_text\n",
      "<class 'float'>    1522709\n",
      "<class 'str'>      1210796\n",
      "Name: count, dtype: int64\n",
      "\n",
      "Unique dtypes body\n",
      "<class 'str'>    2733505\n",
      "Name: count, dtype: int64\n",
      "\n",
      "Unique dtypes downs\n",
      "<class 'float'>    2733505\n",
      "Name: count, dtype: int64\n",
      "\n",
      "Unique dtypes created_utc\n",
      "<class 'float'>    2733505\n",
      "Name: count, dtype: int64\n",
      "\n",
      "Unique dtypes subreddit_id\n",
      "<class 'str'>    2733505\n",
      "Name: count, dtype: int64\n",
      "\n",
      "Unique dtypes link_id\n",
      "<class 'str'>    2733505\n",
      "Name: count, dtype: int64\n",
      "\n",
      "Unique dtypes parent_id\n",
      "<class 'str'>    2733505\n",
      "Name: count, dtype: int64\n",
      "\n",
      "Unique dtypes score\n",
      "<class 'float'>    2733505\n",
      "Name: count, dtype: int64\n",
      "\n",
      "Unique dtypes controversiality\n",
      "<class 'float'>    2733505\n",
      "Name: count, dtype: int64\n",
      "\n",
      "Unique dtypes gilded\n",
      "<class 'float'>    2733505\n",
      "Name: count, dtype: int64\n",
      "\n",
      "Unique dtypes id\n",
      "<class 'str'>    2733505\n",
      "Name: count, dtype: int64\n",
      "\n",
      "Unique dtypes subreddit\n",
      "<class 'str'>    2733505\n",
      "Name: count, dtype: int64\n",
      "\n",
      "Unique dtypes ups\n",
      "<class 'float'>    2733505\n",
      "Name: count, dtype: int64\n",
      "\n",
      "Unique dtypes word_count\n",
      "<class 'float'>    2733505\n",
      "Name: count, dtype: int64\n",
      "\n",
      "Unique dtypes word_count_quoteless\n",
      "<class 'int'>    2733505\n",
      "Name: count, dtype: int64\n",
      "\n",
      "Unique dtypes gender\n",
      "<class 'str'>    2733505\n",
      "Name: count, dtype: int64\n",
      "\n",
      "Unique dtypes age\n",
      "<class 'float'>    2733505\n",
      "Name: count, dtype: int64\n",
      "\n",
      "Unique dtypes openness\n",
      "<class 'float'>    2733505\n",
      "Name: count, dtype: int64\n",
      "\n",
      "Unique dtypes conscientiousness\n",
      "<class 'float'>    2733505\n",
      "Name: count, dtype: int64\n",
      "\n",
      "Unique dtypes extraversion\n",
      "<class 'float'>    2733505\n",
      "Name: count, dtype: int64\n",
      "\n",
      "Unique dtypes agreeableness\n",
      "<class 'float'>    2733505\n",
      "Name: count, dtype: int64\n",
      "\n",
      "Unique dtypes neuroticism\n",
      "<class 'float'>    2733505\n",
      "Name: count, dtype: int64\n",
      "\n"
     ]
    }
   ],
   "source": [
    "# unique dtypes for each column\n",
    "for c in df_pandora.columns:\n",
    "    print(f\"Unique dtypes {df_pandora.loc[:, c].apply(type).value_counts()}\\n\")\n",
    "    \n",
    "# casting dtypes\n",
    "df_pandora[\"author_flair_text\"] = df_pandora[\"author_flair_text\"].astype(str)\n",
    "df_pandora[\"score\"] = df_pandora[\"score\"].astype(float)\n",
    "df_pandora[\"word_count\"] = df_pandora[\"word_count\"].astype(int)"
   ]
  },
  {
   "cell_type": "markdown",
   "metadata": {},
   "source": [
    "Comments features exploration"
   ]
  },
  {
   "cell_type": "code",
   "execution_count": 7,
   "metadata": {},
   "outputs": [
    {
     "name": "stdout",
     "output_type": "stream",
     "text": [
      "Number of distinct values:\n",
      "author: 1362\n",
      "author_flair_text: 10891\n",
      "body: 2468372\n",
      "downs: 2\n",
      "created_utc: 2407143\n",
      "subreddit_id: 15161\n",
      "link_id: 1208468\n",
      "parent_id: 2307121\n",
      "score: 1932\n",
      "controversiality: 2\n",
      "gilded: 4\n",
      "id: 2432399\n",
      "subreddit: 15161\n",
      "ups: 1119\n",
      "word_count: 1683\n",
      "word_count_quoteless: 1524\n",
      "gender: 3\n",
      "age: 41\n",
      "openness: 109\n",
      "conscientiousness: 107\n",
      "extraversion: 109\n",
      "agreeableness: 108\n",
      "neuroticism: 109\n",
      "\n",
      "Distinct values:\n",
      "downs:\n",
      "[ 0. nan]\n",
      "controversiality:\n",
      "[0. 1.]\n",
      "gilded:\n",
      "[0. 1. 2. 3.]\n",
      "gender:\n",
      "['m' 'f' 't']\n"
     ]
    }
   ],
   "source": [
    "analyze_distinct(df_pandora)"
   ]
  },
  {
   "cell_type": "markdown",
   "metadata": {},
   "source": [
    "Irrelevant features removal\n",
    "- a posteriori, we don't consider neither: parent_id, score, id and subreddit, so we can remove them"
   ]
  },
  {
   "cell_type": "code",
   "execution_count": null,
   "metadata": {},
   "outputs": [
    {
     "data": {
      "text/html": [
       "<div>\n",
       "<style scoped>\n",
       "    .dataframe tbody tr th:only-of-type {\n",
       "        vertical-align: middle;\n",
       "    }\n",
       "\n",
       "    .dataframe tbody tr th {\n",
       "        vertical-align: top;\n",
       "    }\n",
       "\n",
       "    .dataframe thead th {\n",
       "        text-align: right;\n",
       "    }\n",
       "</style>\n",
       "<table border=\"1\" class=\"dataframe\">\n",
       "  <thead>\n",
       "    <tr style=\"text-align: right;\">\n",
       "      <th></th>\n",
       "      <th>author</th>\n",
       "      <th>body</th>\n",
       "      <th>created_utc</th>\n",
       "      <th>parent_id</th>\n",
       "      <th>score</th>\n",
       "      <th>id</th>\n",
       "      <th>subreddit</th>\n",
       "      <th>gender</th>\n",
       "      <th>age</th>\n",
       "      <th>openness</th>\n",
       "      <th>conscientiousness</th>\n",
       "      <th>extraversion</th>\n",
       "      <th>agreeableness</th>\n",
       "      <th>neuroticism</th>\n",
       "    </tr>\n",
       "  </thead>\n",
       "  <tbody>\n",
       "    <tr>\n",
       "      <th>0</th>\n",
       "      <td>MetricExpansion</td>\n",
       "      <td>Those stats come from the test. [Echoing the c...</td>\n",
       "      <td>1.474429e+09</td>\n",
       "      <td>t3_53plrw</td>\n",
       "      <td>6.0</td>\n",
       "      <td>d7vkyrf</td>\n",
       "      <td>mbti</td>\n",
       "      <td>m</td>\n",
       "      <td>23.0</td>\n",
       "      <td>70.0</td>\n",
       "      <td>15.0</td>\n",
       "      <td>15.0</td>\n",
       "      <td>30.0</td>\n",
       "      <td>50.0</td>\n",
       "    </tr>\n",
       "  </tbody>\n",
       "</table>\n",
       "</div>"
      ],
      "text/plain": [
       "            author                                               body   created_utc  parent_id  score       id subreddit gender   age  openness  conscientiousness  extraversion  agreeableness  neuroticism\n",
       "0  MetricExpansion  Those stats come from the test. [Echoing the c...  1.474429e+09  t3_53plrw    6.0  d7vkyrf      mbti      m  23.0      70.0               15.0          15.0           30.0         50.0"
      ]
     },
     "execution_count": 8,
     "metadata": {},
     "output_type": "execute_result"
    }
   ],
   "source": [
    "# features to delete\n",
    "to_del = [\"author_flair_text\", \"downs\", \"subreddit_id\", \"link_id\", \"controversiality\", \"gilded\", \"ups\", \"word_count\", \"word_count_quoteless\"]\n",
    "\n",
    "# drop irrelevant columns\n",
    "df = df_pandora.drop(columns = to_del)\n",
    "df.head(1)"
   ]
  },
  {
   "cell_type": "markdown",
   "metadata": {},
   "source": [
    "Time conversion"
   ]
  },
  {
   "cell_type": "code",
   "execution_count": 9,
   "metadata": {},
   "outputs": [],
   "source": [
    "# convert time from utc to date and time of day features\n",
    "convert_utc_time(df, \"created_utc\")"
   ]
  },
  {
   "cell_type": "markdown",
   "metadata": {},
   "source": [
    "### Simulated data (ex-ante moderations)\n",
    "- we analyze comments focusing on before moderation content, which we need"
   ]
  },
  {
   "cell_type": "code",
   "execution_count": 25,
   "metadata": {},
   "outputs": [],
   "source": [
    "# lightly processed simulated (ex-ante) data\n",
    "df_sim = pd.read_csv(\"../original_data/simulator/exante/SIMULATOR_exante_original.csv\", encoding = \"utf-8\")"
   ]
  },
  {
   "cell_type": "code",
   "execution_count": 26,
   "metadata": {},
   "outputs": [
    {
     "name": "stdout",
     "output_type": "stream",
     "text": [
      "Original features:\n",
      "['username', 'comment_id', 'thread_id', 'root_id', 'parent_id', 'node_id', 'b_content', 'a_content_ofsa', 'a_content_neut', 'a_content_emp', 'a_content_pres', 'age', 'gender', 'race', 'income', 'education', 'sex_orientation', 'political_leaning', 'religion', 'agreeableness', 'openness', 'conscientiousness', 'extraversion', 'neuroticism', 'simulate_seed']\n",
      "\n",
      "Shape:\n",
      "(3135, 25)\n",
      "\n"
     ]
    },
    {
     "data": {
      "text/html": [
       "<div>\n",
       "<style scoped>\n",
       "    .dataframe tbody tr th:only-of-type {\n",
       "        vertical-align: middle;\n",
       "    }\n",
       "\n",
       "    .dataframe tbody tr th {\n",
       "        vertical-align: top;\n",
       "    }\n",
       "\n",
       "    .dataframe thead th {\n",
       "        text-align: right;\n",
       "    }\n",
       "</style>\n",
       "<table border=\"1\" class=\"dataframe\">\n",
       "  <thead>\n",
       "    <tr style=\"text-align: right;\">\n",
       "      <th></th>\n",
       "      <th>username</th>\n",
       "      <th>comment_id</th>\n",
       "      <th>thread_id</th>\n",
       "      <th>root_id</th>\n",
       "      <th>parent_id</th>\n",
       "      <th>node_id</th>\n",
       "      <th>b_content</th>\n",
       "      <th>a_content_ofsa</th>\n",
       "      <th>a_content_neut</th>\n",
       "      <th>a_content_emp</th>\n",
       "      <th>a_content_pres</th>\n",
       "      <th>age</th>\n",
       "      <th>gender</th>\n",
       "      <th>race</th>\n",
       "      <th>income</th>\n",
       "      <th>education</th>\n",
       "      <th>sex_orientation</th>\n",
       "      <th>political_leaning</th>\n",
       "      <th>religion</th>\n",
       "      <th>agreeableness</th>\n",
       "      <th>openness</th>\n",
       "      <th>conscientiousness</th>\n",
       "      <th>extraversion</th>\n",
       "      <th>neuroticism</th>\n",
       "      <th>simulate_seed</th>\n",
       "    </tr>\n",
       "  </thead>\n",
       "  <tbody>\n",
       "    <tr>\n",
       "      <th>0</th>\n",
       "      <td>joylukclub</td>\n",
       "      <td>2</td>\n",
       "      <td>1</td>\n",
       "      <td>1</td>\n",
       "      <td>1.0</td>\n",
       "      <td>2</td>\n",
       "      <td>Since I strongly lean towards the republican s...</td>\n",
       "      <td>Since I strongly lean towards the republican s...</td>\n",
       "      <td>Since I strongly lean towards the republican s...</td>\n",
       "      <td>Since I strongly lean towards the republican s...</td>\n",
       "      <td>Since I strongly lean towards the republican s...</td>\n",
       "      <td>21</td>\n",
       "      <td>female</td>\n",
       "      <td>white</td>\n",
       "      <td>low</td>\n",
       "      <td>high school</td>\n",
       "      <td>heterosexual</td>\n",
       "      <td>republican</td>\n",
       "      <td>atheist</td>\n",
       "      <td>low</td>\n",
       "      <td>medium</td>\n",
       "      <td>very high</td>\n",
       "      <td>very low</td>\n",
       "      <td>very high</td>\n",
       "      <td>5</td>\n",
       "    </tr>\n",
       "  </tbody>\n",
       "</table>\n",
       "</div>"
      ],
      "text/plain": [
       "     username  comment_id  thread_id  root_id  parent_id  node_id                                          b_content                                     a_content_ofsa                                     a_content_neut                                      a_content_emp                                     a_content_pres  age  gender   race income    education sex_orientation political_leaning religion agreeableness openness conscientiousness extraversion neuroticism  simulate_seed\n",
       "0  joylukclub           2          1        1        1.0        2  Since I strongly lean towards the republican s...  Since I strongly lean towards the republican s...  Since I strongly lean towards the republican s...  Since I strongly lean towards the republican s...  Since I strongly lean towards the republican s...   21  female  white    low  high school    heterosexual        republican  atheist           low   medium         very high     very low   very high              5"
      ]
     },
     "execution_count": 26,
     "metadata": {},
     "output_type": "execute_result"
    }
   ],
   "source": [
    "# original features\n",
    "feats = df_sim.columns.to_list()\n",
    "print(f\"Original features:\\n{feats}\\n\")\n",
    "\n",
    "# size, features and sample\n",
    "print(f\"Shape:\\n{df_sim.shape}\\n\")\n",
    "df_sim.head(1)"
   ]
  },
  {
   "cell_type": "markdown",
   "metadata": {},
   "source": [
    "Empty comments check and removal"
   ]
  },
  {
   "cell_type": "code",
   "execution_count": 27,
   "metadata": {},
   "outputs": [
    {
     "name": "stdout",
     "output_type": "stream",
     "text": [
      "Check for empty comments\n",
      "0\n",
      "Check for NaN comments\n",
      "0\n"
     ]
    }
   ],
   "source": [
    "# checking for empty comments\n",
    "print(\"Check for empty comments\")\n",
    "print(len(df_sim[df_sim[\"b_content\"].isin([\"\", \" \", \"NaN\", \"None\", \"NULL\", \"null\", \"NA\"])]))\n",
    "print(\"Check for NaN comments\")\n",
    "print(len(df_sim[df_sim[\"b_content\"].isna()]))\n",
    "\n",
    "# drop NaN comments\n",
    "df_sim = df_sim[df_sim[\"b_content\"].notna()].reset_index(drop = True)"
   ]
  },
  {
   "cell_type": "markdown",
   "metadata": {},
   "source": [
    "Data types check"
   ]
  },
  {
   "cell_type": "code",
   "execution_count": 28,
   "metadata": {},
   "outputs": [
    {
     "name": "stdout",
     "output_type": "stream",
     "text": [
      "Unique dtypes username\n",
      "<class 'str'>    3135\n",
      "Name: count, dtype: int64\n",
      "\n",
      "Unique dtypes comment_id\n",
      "<class 'int'>    3135\n",
      "Name: count, dtype: int64\n",
      "\n",
      "Unique dtypes thread_id\n",
      "<class 'int'>    3135\n",
      "Name: count, dtype: int64\n",
      "\n",
      "Unique dtypes root_id\n",
      "<class 'int'>    3135\n",
      "Name: count, dtype: int64\n",
      "\n",
      "Unique dtypes parent_id\n",
      "<class 'float'>    3135\n",
      "Name: count, dtype: int64\n",
      "\n",
      "Unique dtypes node_id\n",
      "<class 'int'>    3135\n",
      "Name: count, dtype: int64\n",
      "\n",
      "Unique dtypes b_content\n",
      "<class 'str'>    3135\n",
      "Name: count, dtype: int64\n",
      "\n",
      "Unique dtypes a_content_ofsa\n",
      "<class 'str'>      2675\n",
      "<class 'float'>     460\n",
      "Name: count, dtype: int64\n",
      "\n",
      "Unique dtypes a_content_neut\n",
      "<class 'str'>      2686\n",
      "<class 'float'>     449\n",
      "Name: count, dtype: int64\n",
      "\n",
      "Unique dtypes a_content_emp\n",
      "<class 'str'>      2728\n",
      "<class 'float'>     407\n",
      "Name: count, dtype: int64\n",
      "\n",
      "Unique dtypes a_content_pres\n",
      "<class 'str'>      2710\n",
      "<class 'float'>     425\n",
      "Name: count, dtype: int64\n",
      "\n",
      "Unique dtypes age\n",
      "<class 'int'>    3135\n",
      "Name: count, dtype: int64\n",
      "\n",
      "Unique dtypes gender\n",
      "<class 'str'>    3135\n",
      "Name: count, dtype: int64\n",
      "\n",
      "Unique dtypes race\n",
      "<class 'str'>    3135\n",
      "Name: count, dtype: int64\n",
      "\n",
      "Unique dtypes income\n",
      "<class 'str'>    3135\n",
      "Name: count, dtype: int64\n",
      "\n",
      "Unique dtypes education\n",
      "<class 'str'>    3135\n",
      "Name: count, dtype: int64\n",
      "\n",
      "Unique dtypes sex_orientation\n",
      "<class 'str'>    3135\n",
      "Name: count, dtype: int64\n",
      "\n",
      "Unique dtypes political_leaning\n",
      "<class 'str'>    3135\n",
      "Name: count, dtype: int64\n",
      "\n",
      "Unique dtypes religion\n",
      "<class 'str'>    3135\n",
      "Name: count, dtype: int64\n",
      "\n",
      "Unique dtypes agreeableness\n",
      "<class 'str'>    3135\n",
      "Name: count, dtype: int64\n",
      "\n",
      "Unique dtypes openness\n",
      "<class 'str'>    3135\n",
      "Name: count, dtype: int64\n",
      "\n",
      "Unique dtypes conscientiousness\n",
      "<class 'str'>    3135\n",
      "Name: count, dtype: int64\n",
      "\n",
      "Unique dtypes extraversion\n",
      "<class 'str'>    3135\n",
      "Name: count, dtype: int64\n",
      "\n",
      "Unique dtypes neuroticism\n",
      "<class 'str'>    3135\n",
      "Name: count, dtype: int64\n",
      "\n",
      "Unique dtypes simulate_seed\n",
      "<class 'int'>    3135\n",
      "Name: count, dtype: int64\n",
      "\n"
     ]
    }
   ],
   "source": [
    "# unique dtypes for each column\n",
    "for c in df_sim.columns:\n",
    "    print(f\"Unique dtypes {df_sim.loc[:, c].apply(type).value_counts()}\\n\")"
   ]
  },
  {
   "cell_type": "markdown",
   "metadata": {},
   "source": [
    "Comments features exploration"
   ]
  },
  {
   "cell_type": "code",
   "execution_count": 29,
   "metadata": {},
   "outputs": [
    {
     "name": "stdout",
     "output_type": "stream",
     "text": [
      "Number of distinct values:\n",
      "username: 30\n",
      "comment_id: 3135\n",
      "thread_id: 785\n",
      "root_id: 1181\n",
      "parent_id: 817\n",
      "node_id: 1455\n",
      "b_content: 3135\n",
      "a_content_ofsa: 2587\n",
      "a_content_neut: 2628\n",
      "a_content_emp: 2632\n",
      "a_content_pres: 2607\n",
      "age: 17\n",
      "gender: 2\n",
      "race: 4\n",
      "income: 3\n",
      "education: 3\n",
      "sex_orientation: 2\n",
      "political_leaning: 2\n",
      "religion: 3\n",
      "agreeableness: 5\n",
      "openness: 5\n",
      "conscientiousness: 4\n",
      "extraversion: 5\n",
      "neuroticism: 5\n",
      "simulate_seed: 3\n",
      "\n",
      "Distinct values:\n",
      "age:\n",
      "[21 18 24 20 39 23 22 37 29 40 51 19 32 31 35 30 28]\n",
      "gender:\n",
      "['female' 'male']\n",
      "race:\n",
      "['white' 'asian' 'latino' 'black']\n",
      "income:\n",
      "['low' 'medium' 'high']\n",
      "education:\n",
      "['high school' 'middle school' 'university']\n",
      "sex_orientation:\n",
      "['heterosexual' 'homosexual']\n",
      "political_leaning:\n",
      "['republican' 'democratic']\n",
      "religion:\n",
      "['atheist' 'catholic' 'protestant']\n",
      "agreeableness:\n",
      "['low' 'very low' 'very high' 'medium' 'high']\n",
      "openness:\n",
      "['medium' 'very low' 'low' 'high' 'very high']\n",
      "conscientiousness:\n",
      "['very high' 'very low' 'medium' 'low']\n",
      "extraversion:\n",
      "['very low' 'very high' 'high' 'medium' 'low']\n",
      "neuroticism:\n",
      "['very high' 'medium' 'very low' 'high' 'low']\n",
      "simulate_seed:\n",
      "[ 5  7 17]\n"
     ]
    }
   ],
   "source": [
    "analyze_distinct(df_sim)"
   ]
  },
  {
   "cell_type": "markdown",
   "metadata": {},
   "source": [
    "### Data formatting and standardization\n",
    "- the goal is to process the simulated data to make it as similar as possible to the real users'."
   ]
  },
  {
   "cell_type": "code",
   "execution_count": null,
   "metadata": {},
   "outputs": [],
   "source": [
    "# real data viz\n",
    "df.head(1)"
   ]
  },
  {
   "cell_type": "code",
   "execution_count": 30,
   "metadata": {},
   "outputs": [
    {
     "data": {
      "text/html": [
       "<div>\n",
       "<style scoped>\n",
       "    .dataframe tbody tr th:only-of-type {\n",
       "        vertical-align: middle;\n",
       "    }\n",
       "\n",
       "    .dataframe tbody tr th {\n",
       "        vertical-align: top;\n",
       "    }\n",
       "\n",
       "    .dataframe thead th {\n",
       "        text-align: right;\n",
       "    }\n",
       "</style>\n",
       "<table border=\"1\" class=\"dataframe\">\n",
       "  <thead>\n",
       "    <tr style=\"text-align: right;\">\n",
       "      <th></th>\n",
       "      <th>username</th>\n",
       "      <th>comment_id</th>\n",
       "      <th>thread_id</th>\n",
       "      <th>root_id</th>\n",
       "      <th>parent_id</th>\n",
       "      <th>node_id</th>\n",
       "      <th>b_content</th>\n",
       "      <th>a_content_ofsa</th>\n",
       "      <th>a_content_neut</th>\n",
       "      <th>a_content_emp</th>\n",
       "      <th>a_content_pres</th>\n",
       "      <th>age</th>\n",
       "      <th>gender</th>\n",
       "      <th>race</th>\n",
       "      <th>income</th>\n",
       "      <th>education</th>\n",
       "      <th>sex_orientation</th>\n",
       "      <th>political_leaning</th>\n",
       "      <th>religion</th>\n",
       "      <th>agreeableness</th>\n",
       "      <th>openness</th>\n",
       "      <th>conscientiousness</th>\n",
       "      <th>extraversion</th>\n",
       "      <th>neuroticism</th>\n",
       "      <th>simulate_seed</th>\n",
       "    </tr>\n",
       "  </thead>\n",
       "  <tbody>\n",
       "    <tr>\n",
       "      <th>0</th>\n",
       "      <td>joylukclub</td>\n",
       "      <td>2</td>\n",
       "      <td>1</td>\n",
       "      <td>1</td>\n",
       "      <td>1.0</td>\n",
       "      <td>2</td>\n",
       "      <td>Since I strongly lean towards the republican s...</td>\n",
       "      <td>Since I strongly lean towards the republican s...</td>\n",
       "      <td>Since I strongly lean towards the republican s...</td>\n",
       "      <td>Since I strongly lean towards the republican s...</td>\n",
       "      <td>Since I strongly lean towards the republican s...</td>\n",
       "      <td>21</td>\n",
       "      <td>female</td>\n",
       "      <td>white</td>\n",
       "      <td>low</td>\n",
       "      <td>high school</td>\n",
       "      <td>heterosexual</td>\n",
       "      <td>republican</td>\n",
       "      <td>atheist</td>\n",
       "      <td>low</td>\n",
       "      <td>medium</td>\n",
       "      <td>very high</td>\n",
       "      <td>very low</td>\n",
       "      <td>very high</td>\n",
       "      <td>5</td>\n",
       "    </tr>\n",
       "  </tbody>\n",
       "</table>\n",
       "</div>"
      ],
      "text/plain": [
       "     username  comment_id  thread_id  root_id  parent_id  node_id                                          b_content                                     a_content_ofsa                                     a_content_neut                                      a_content_emp                                     a_content_pres  age  gender   race income    education sex_orientation political_leaning religion agreeableness openness conscientiousness extraversion neuroticism  simulate_seed\n",
       "0  joylukclub           2          1        1        1.0        2  Since I strongly lean towards the republican s...  Since I strongly lean towards the republican s...  Since I strongly lean towards the republican s...  Since I strongly lean towards the republican s...  Since I strongly lean towards the republican s...   21  female  white    low  high school    heterosexual        republican  atheist           low   medium         very high     very low   very high              5"
      ]
     },
     "execution_count": 30,
     "metadata": {},
     "output_type": "execute_result"
    }
   ],
   "source": [
    "# simulated data viz\n",
    "df_sim.head(1)"
   ]
  },
  {
   "cell_type": "markdown",
   "metadata": {},
   "source": [
    "Features renaming"
   ]
  },
  {
   "cell_type": "code",
   "execution_count": 31,
   "metadata": {},
   "outputs": [],
   "source": [
    "# rename features according to real data (as much as possible)\n",
    "df_sim = df_sim.rename(columns = {\"username\": \"author\"})"
   ]
  },
  {
   "cell_type": "code",
   "execution_count": 32,
   "metadata": {},
   "outputs": [
    {
     "data": {
      "text/html": [
       "<div>\n",
       "<style scoped>\n",
       "    .dataframe tbody tr th:only-of-type {\n",
       "        vertical-align: middle;\n",
       "    }\n",
       "\n",
       "    .dataframe tbody tr th {\n",
       "        vertical-align: top;\n",
       "    }\n",
       "\n",
       "    .dataframe thead th {\n",
       "        text-align: right;\n",
       "    }\n",
       "</style>\n",
       "<table border=\"1\" class=\"dataframe\">\n",
       "  <thead>\n",
       "    <tr style=\"text-align: right;\">\n",
       "      <th></th>\n",
       "      <th>author</th>\n",
       "      <th>comment_id</th>\n",
       "      <th>thread_id</th>\n",
       "      <th>root_id</th>\n",
       "      <th>parent_id</th>\n",
       "      <th>node_id</th>\n",
       "      <th>b_content</th>\n",
       "      <th>a_content_ofsa</th>\n",
       "      <th>a_content_neut</th>\n",
       "      <th>a_content_emp</th>\n",
       "      <th>a_content_pres</th>\n",
       "      <th>age</th>\n",
       "      <th>gender</th>\n",
       "      <th>race</th>\n",
       "      <th>income</th>\n",
       "      <th>education</th>\n",
       "      <th>sex_orientation</th>\n",
       "      <th>political_leaning</th>\n",
       "      <th>religion</th>\n",
       "      <th>agreeableness</th>\n",
       "      <th>openness</th>\n",
       "      <th>conscientiousness</th>\n",
       "      <th>extraversion</th>\n",
       "      <th>neuroticism</th>\n",
       "      <th>simulate_seed</th>\n",
       "    </tr>\n",
       "  </thead>\n",
       "  <tbody>\n",
       "    <tr>\n",
       "      <th>0</th>\n",
       "      <td>joylukclub</td>\n",
       "      <td>2</td>\n",
       "      <td>1</td>\n",
       "      <td>1</td>\n",
       "      <td>1.0</td>\n",
       "      <td>2</td>\n",
       "      <td>Since I strongly lean towards the republican s...</td>\n",
       "      <td>Since I strongly lean towards the republican s...</td>\n",
       "      <td>Since I strongly lean towards the republican s...</td>\n",
       "      <td>Since I strongly lean towards the republican s...</td>\n",
       "      <td>Since I strongly lean towards the republican s...</td>\n",
       "      <td>21</td>\n",
       "      <td>female</td>\n",
       "      <td>white</td>\n",
       "      <td>low</td>\n",
       "      <td>high school</td>\n",
       "      <td>heterosexual</td>\n",
       "      <td>republican</td>\n",
       "      <td>atheist</td>\n",
       "      <td>low</td>\n",
       "      <td>medium</td>\n",
       "      <td>very high</td>\n",
       "      <td>very low</td>\n",
       "      <td>very high</td>\n",
       "      <td>5</td>\n",
       "    </tr>\n",
       "  </tbody>\n",
       "</table>\n",
       "</div>"
      ],
      "text/plain": [
       "       author  comment_id  thread_id  root_id  parent_id  node_id                                          b_content                                     a_content_ofsa                                     a_content_neut                                      a_content_emp                                     a_content_pres  age  gender   race income    education sex_orientation political_leaning religion agreeableness openness conscientiousness extraversion neuroticism  simulate_seed\n",
       "0  joylukclub           2          1        1        1.0        2  Since I strongly lean towards the republican s...  Since I strongly lean towards the republican s...  Since I strongly lean towards the republican s...  Since I strongly lean towards the republican s...  Since I strongly lean towards the republican s...   21  female  white    low  high school    heterosexual        republican  atheist           low   medium         very high     very low   very high              5"
      ]
     },
     "execution_count": 32,
     "metadata": {},
     "output_type": "execute_result"
    }
   ],
   "source": [
    "df_sim.head(1)"
   ]
  },
  {
   "cell_type": "markdown",
   "metadata": {},
   "source": [
    "Features rearrangement"
   ]
  },
  {
   "cell_type": "code",
   "execution_count": null,
   "metadata": {},
   "outputs": [],
   "source": [
    "df = df[[\"author\", \"body\", \"gender\", \"age\", \"openness\", \"conscientiousness\", \n",
    "         \"extraversion\", \"agreeableness\", \"neuroticism\", \"score\", \"subreddit\",\n",
    "         \"id\", \"parent_id\", \"date\", \"time_of_day\"]]"
   ]
  },
  {
   "cell_type": "code",
   "execution_count": 33,
   "metadata": {},
   "outputs": [],
   "source": [
    "df_sim = df_sim[[\"author\", \"comment_id\", \"b_content\", \"a_content_ofsa\", \"a_content_neut\", \"a_content_emp\", \"a_content_pres\", \n",
    "                 \"gender\", \"age\", \"openness\", \"conscientiousness\", \"extraversion\", \"agreeableness\", \n",
    "                 \"neuroticism\", \"thread_id\", \"node_id\", \"parent_id\", \"root_id\", \"race\", \"income\", \"education\", \n",
    "                 \"sex_orientation\", \"political_leaning\", \"religion\", \"simulate_seed\"]]"
   ]
  },
  {
   "cell_type": "code",
   "execution_count": 38,
   "metadata": {},
   "outputs": [
    {
     "data": {
      "text/html": [
       "<div>\n",
       "<style scoped>\n",
       "    .dataframe tbody tr th:only-of-type {\n",
       "        vertical-align: middle;\n",
       "    }\n",
       "\n",
       "    .dataframe tbody tr th {\n",
       "        vertical-align: top;\n",
       "    }\n",
       "\n",
       "    .dataframe thead th {\n",
       "        text-align: right;\n",
       "    }\n",
       "</style>\n",
       "<table border=\"1\" class=\"dataframe\">\n",
       "  <thead>\n",
       "    <tr style=\"text-align: right;\">\n",
       "      <th></th>\n",
       "      <th>author</th>\n",
       "      <th>body</th>\n",
       "      <th>gender</th>\n",
       "      <th>age</th>\n",
       "      <th>openness</th>\n",
       "      <th>conscientiousness</th>\n",
       "      <th>extraversion</th>\n",
       "      <th>agreeableness</th>\n",
       "      <th>neuroticism</th>\n",
       "      <th>score</th>\n",
       "      <th>subreddit</th>\n",
       "      <th>id</th>\n",
       "      <th>parent_id</th>\n",
       "      <th>date</th>\n",
       "      <th>time_of_day</th>\n",
       "    </tr>\n",
       "  </thead>\n",
       "  <tbody>\n",
       "    <tr>\n",
       "      <th>0</th>\n",
       "      <td>MetricExpansion</td>\n",
       "      <td>Those stats come from the test. [Echoing the c...</td>\n",
       "      <td>m</td>\n",
       "      <td>23.0</td>\n",
       "      <td>70.0</td>\n",
       "      <td>15.0</td>\n",
       "      <td>15.0</td>\n",
       "      <td>30.0</td>\n",
       "      <td>50.0</td>\n",
       "      <td>6.0</td>\n",
       "      <td>mbti</td>\n",
       "      <td>d7vkyrf</td>\n",
       "      <td>t3_53plrw</td>\n",
       "      <td>2016-09-21</td>\n",
       "      <td>03:41:38</td>\n",
       "    </tr>\n",
       "  </tbody>\n",
       "</table>\n",
       "</div>"
      ],
      "text/plain": [
       "            author                                               body gender   age  openness  conscientiousness  extraversion  agreeableness  neuroticism  score subreddit       id  parent_id        date time_of_day\n",
       "0  MetricExpansion  Those stats come from the test. [Echoing the c...      m  23.0      70.0               15.0          15.0           30.0         50.0    6.0      mbti  d7vkyrf  t3_53plrw  2016-09-21    03:41:38"
      ]
     },
     "execution_count": 38,
     "metadata": {},
     "output_type": "execute_result"
    }
   ],
   "source": [
    "df.head(1)"
   ]
  },
  {
   "cell_type": "code",
   "execution_count": 34,
   "metadata": {},
   "outputs": [
    {
     "data": {
      "text/html": [
       "<div>\n",
       "<style scoped>\n",
       "    .dataframe tbody tr th:only-of-type {\n",
       "        vertical-align: middle;\n",
       "    }\n",
       "\n",
       "    .dataframe tbody tr th {\n",
       "        vertical-align: top;\n",
       "    }\n",
       "\n",
       "    .dataframe thead th {\n",
       "        text-align: right;\n",
       "    }\n",
       "</style>\n",
       "<table border=\"1\" class=\"dataframe\">\n",
       "  <thead>\n",
       "    <tr style=\"text-align: right;\">\n",
       "      <th></th>\n",
       "      <th>author</th>\n",
       "      <th>comment_id</th>\n",
       "      <th>b_content</th>\n",
       "      <th>a_content_ofsa</th>\n",
       "      <th>a_content_neut</th>\n",
       "      <th>a_content_emp</th>\n",
       "      <th>a_content_pres</th>\n",
       "      <th>gender</th>\n",
       "      <th>age</th>\n",
       "      <th>openness</th>\n",
       "      <th>conscientiousness</th>\n",
       "      <th>extraversion</th>\n",
       "      <th>agreeableness</th>\n",
       "      <th>neuroticism</th>\n",
       "      <th>thread_id</th>\n",
       "      <th>node_id</th>\n",
       "      <th>parent_id</th>\n",
       "      <th>root_id</th>\n",
       "      <th>race</th>\n",
       "      <th>income</th>\n",
       "      <th>education</th>\n",
       "      <th>sex_orientation</th>\n",
       "      <th>political_leaning</th>\n",
       "      <th>religion</th>\n",
       "      <th>simulate_seed</th>\n",
       "    </tr>\n",
       "  </thead>\n",
       "  <tbody>\n",
       "    <tr>\n",
       "      <th>0</th>\n",
       "      <td>joylukclub</td>\n",
       "      <td>2</td>\n",
       "      <td>Since I strongly lean towards the republican s...</td>\n",
       "      <td>Since I strongly lean towards the republican s...</td>\n",
       "      <td>Since I strongly lean towards the republican s...</td>\n",
       "      <td>Since I strongly lean towards the republican s...</td>\n",
       "      <td>Since I strongly lean towards the republican s...</td>\n",
       "      <td>female</td>\n",
       "      <td>21</td>\n",
       "      <td>medium</td>\n",
       "      <td>very high</td>\n",
       "      <td>very low</td>\n",
       "      <td>low</td>\n",
       "      <td>very high</td>\n",
       "      <td>1</td>\n",
       "      <td>2</td>\n",
       "      <td>1.0</td>\n",
       "      <td>1</td>\n",
       "      <td>white</td>\n",
       "      <td>low</td>\n",
       "      <td>high school</td>\n",
       "      <td>heterosexual</td>\n",
       "      <td>republican</td>\n",
       "      <td>atheist</td>\n",
       "      <td>5</td>\n",
       "    </tr>\n",
       "  </tbody>\n",
       "</table>\n",
       "</div>"
      ],
      "text/plain": [
       "       author  comment_id                                          b_content                                     a_content_ofsa                                     a_content_neut                                      a_content_emp                                     a_content_pres  gender  age openness conscientiousness extraversion agreeableness neuroticism  thread_id  node_id  parent_id  root_id   race income    education sex_orientation political_leaning religion  simulate_seed\n",
       "0  joylukclub           2  Since I strongly lean towards the republican s...  Since I strongly lean towards the republican s...  Since I strongly lean towards the republican s...  Since I strongly lean towards the republican s...  Since I strongly lean towards the republican s...  female   21   medium         very high     very low           low   very high          1        2        1.0        1  white    low  high school    heterosexual        republican  atheist              5"
      ]
     },
     "execution_count": 34,
     "metadata": {},
     "output_type": "execute_result"
    }
   ],
   "source": [
    "df_sim.head(1)"
   ]
  },
  {
   "cell_type": "markdown",
   "metadata": {},
   "source": [
    "Data representation"
   ]
  },
  {
   "cell_type": "code",
   "execution_count": 35,
   "metadata": {},
   "outputs": [],
   "source": [
    "# homogeneous values across datasets (gender)\n",
    "df_sim[\"gender\"] = df_sim[\"gender\"].apply(lambda x: \"f\" if x == \"female\" else \"m\")"
   ]
  },
  {
   "cell_type": "markdown",
   "metadata": {},
   "source": [
    "##### Discretization of OCEAN features\n",
    "- since the simulated data has OCEAN features discretized, we do the same in the real users' data"
   ]
  },
  {
   "cell_type": "code",
   "execution_count": 23,
   "metadata": {},
   "outputs": [],
   "source": [
    "# bins\n",
    "bins = [0, 20, 40, 60, 80, 100]\n",
    "# labels\n",
    "labels = [\"very low\", \"low\", \"medium\", \"high\", \"very high\"]\n",
    "\n",
    "# discretization of OCEAN\n",
    "ocean = [\"openness\", \"conscientiousness\", \"extraversion\", \"agreeableness\", \"neuroticism\"]\n",
    "\n",
    "for c in ocean:\n",
    "    df[c] = pd.cut(df[c], bins = bins, labels = labels, right = True, include_lowest = True)"
   ]
  },
  {
   "cell_type": "code",
   "execution_count": 24,
   "metadata": {},
   "outputs": [
    {
     "data": {
      "text/html": [
       "<div>\n",
       "<style scoped>\n",
       "    .dataframe tbody tr th:only-of-type {\n",
       "        vertical-align: middle;\n",
       "    }\n",
       "\n",
       "    .dataframe tbody tr th {\n",
       "        vertical-align: top;\n",
       "    }\n",
       "\n",
       "    .dataframe thead th {\n",
       "        text-align: right;\n",
       "    }\n",
       "</style>\n",
       "<table border=\"1\" class=\"dataframe\">\n",
       "  <thead>\n",
       "    <tr style=\"text-align: right;\">\n",
       "      <th></th>\n",
       "      <th>author</th>\n",
       "      <th>body</th>\n",
       "      <th>gender</th>\n",
       "      <th>age</th>\n",
       "      <th>openness</th>\n",
       "      <th>conscientiousness</th>\n",
       "      <th>extraversion</th>\n",
       "      <th>agreeableness</th>\n",
       "      <th>neuroticism</th>\n",
       "      <th>score</th>\n",
       "      <th>subreddit</th>\n",
       "      <th>id</th>\n",
       "      <th>parent_id</th>\n",
       "      <th>date</th>\n",
       "      <th>time_of_day</th>\n",
       "    </tr>\n",
       "  </thead>\n",
       "  <tbody>\n",
       "    <tr>\n",
       "      <th>0</th>\n",
       "      <td>MetricExpansion</td>\n",
       "      <td>Those stats come from the test. [Echoing the c...</td>\n",
       "      <td>m</td>\n",
       "      <td>23.0</td>\n",
       "      <td>high</td>\n",
       "      <td>very low</td>\n",
       "      <td>very low</td>\n",
       "      <td>low</td>\n",
       "      <td>medium</td>\n",
       "      <td>6.0</td>\n",
       "      <td>mbti</td>\n",
       "      <td>d7vkyrf</td>\n",
       "      <td>t3_53plrw</td>\n",
       "      <td>2016-09-21</td>\n",
       "      <td>03:41:38</td>\n",
       "    </tr>\n",
       "  </tbody>\n",
       "</table>\n",
       "</div>"
      ],
      "text/plain": [
       "            author                                               body gender   age openness conscientiousness extraversion agreeableness neuroticism  score subreddit       id  parent_id        date time_of_day\n",
       "0  MetricExpansion  Those stats come from the test. [Echoing the c...      m  23.0     high          very low     very low           low      medium    6.0      mbti  d7vkyrf  t3_53plrw  2016-09-21    03:41:38"
      ]
     },
     "execution_count": 24,
     "metadata": {},
     "output_type": "execute_result"
    }
   ],
   "source": [
    "df.head(1)"
   ]
  },
  {
   "cell_type": "markdown",
   "metadata": {},
   "source": [
    "### Before moderation dataset\n",
    "- we only consider the comments before moderation\n",
    "- we remove information about all a_contents (for each moderation)\n",
    "- we remove duplicates for b_content\n",
    "- we remove missing values if any"
   ]
  },
  {
   "cell_type": "code",
   "execution_count": 36,
   "metadata": {},
   "outputs": [
    {
     "name": "stdout",
     "output_type": "stream",
     "text": [
      "Shape:\n",
      "(3135, 21)\n"
     ]
    },
    {
     "data": {
      "text/html": [
       "<div>\n",
       "<style scoped>\n",
       "    .dataframe tbody tr th:only-of-type {\n",
       "        vertical-align: middle;\n",
       "    }\n",
       "\n",
       "    .dataframe tbody tr th {\n",
       "        vertical-align: top;\n",
       "    }\n",
       "\n",
       "    .dataframe thead th {\n",
       "        text-align: right;\n",
       "    }\n",
       "</style>\n",
       "<table border=\"1\" class=\"dataframe\">\n",
       "  <thead>\n",
       "    <tr style=\"text-align: right;\">\n",
       "      <th></th>\n",
       "      <th>author</th>\n",
       "      <th>comment_id</th>\n",
       "      <th>body</th>\n",
       "      <th>gender</th>\n",
       "      <th>age</th>\n",
       "      <th>openness</th>\n",
       "      <th>conscientiousness</th>\n",
       "      <th>extraversion</th>\n",
       "      <th>agreeableness</th>\n",
       "      <th>neuroticism</th>\n",
       "      <th>thread_id</th>\n",
       "      <th>node_id</th>\n",
       "      <th>parent_id</th>\n",
       "      <th>root_id</th>\n",
       "      <th>race</th>\n",
       "      <th>income</th>\n",
       "      <th>education</th>\n",
       "      <th>sex_orientation</th>\n",
       "      <th>political_leaning</th>\n",
       "      <th>religion</th>\n",
       "      <th>simulate_seed</th>\n",
       "    </tr>\n",
       "  </thead>\n",
       "  <tbody>\n",
       "    <tr>\n",
       "      <th>0</th>\n",
       "      <td>joylukclub</td>\n",
       "      <td>2</td>\n",
       "      <td>Since I strongly lean towards the republican s...</td>\n",
       "      <td>f</td>\n",
       "      <td>21</td>\n",
       "      <td>medium</td>\n",
       "      <td>very high</td>\n",
       "      <td>very low</td>\n",
       "      <td>low</td>\n",
       "      <td>very high</td>\n",
       "      <td>1</td>\n",
       "      <td>2</td>\n",
       "      <td>1.0</td>\n",
       "      <td>1</td>\n",
       "      <td>white</td>\n",
       "      <td>low</td>\n",
       "      <td>high school</td>\n",
       "      <td>heterosexual</td>\n",
       "      <td>republican</td>\n",
       "      <td>atheist</td>\n",
       "      <td>5</td>\n",
       "    </tr>\n",
       "  </tbody>\n",
       "</table>\n",
       "</div>"
      ],
      "text/plain": [
       "       author  comment_id                                               body gender  age openness conscientiousness extraversion agreeableness neuroticism  thread_id  node_id  parent_id  root_id   race income    education sex_orientation political_leaning religion  simulate_seed\n",
       "0  joylukclub           2  Since I strongly lean towards the republican s...      f   21   medium         very high     very low           low   very high          1        2        1.0        1  white    low  high school    heterosexual        republican  atheist              5"
      ]
     },
     "execution_count": 36,
     "metadata": {},
     "output_type": "execute_result"
    }
   ],
   "source": [
    "# before moderation dataset\n",
    "df_bef = df_sim.drop(columns = [\"a_content_ofsa\", \"a_content_neut\", \"a_content_emp\", \"a_content_pres\"])\n",
    "# rename the b_content into body consistently to the real data\n",
    "df_bef.rename(columns = {\"b_content\": \"body\"}, inplace = True)\n",
    "\n",
    "print(f\"Shape:\\n{df_bef.shape}\")\n",
    "df_bef.head(1)"
   ]
  },
  {
   "cell_type": "code",
   "execution_count": 37,
   "metadata": {},
   "outputs": [
    {
     "name": "stdout",
     "output_type": "stream",
     "text": [
      "Shape after duplicates removal:\n",
      "(3135, 21)\n",
      "Check for empty comments\n",
      "0\n",
      "Check for NaN comments\n",
      "0\n",
      "Shape:\n",
      "(3135, 21)\n",
      "\n"
     ]
    }
   ],
   "source": [
    "# remove duplicates and missing values of the content before moderation\n",
    "process_dataset(df_bef, \"body\")"
   ]
  },
  {
   "cell_type": "markdown",
   "metadata": {},
   "source": [
    "### After moderation datasets\n",
    "- we only consider the comments after moderation, by type of moderation\n",
    "- we remove information about the b_content, focusing on after moderation comments\n",
    "- we remove duplicates for a_content, but based on the type of moderation\n",
    "- we remove missing values if any"
   ]
  },
  {
   "cell_type": "code",
   "execution_count": 38,
   "metadata": {},
   "outputs": [
    {
     "name": "stdout",
     "output_type": "stream",
     "text": [
      "Shape ofsa:\n",
      "(3135, 21)\n",
      "Shape neut:\n",
      "(3135, 21)\n",
      "Shape emp:\n",
      "(3135, 21)\n",
      "Shape pres:\n",
      "(3135, 21)\n"
     ]
    },
    {
     "data": {
      "text/html": [
       "<div>\n",
       "<style scoped>\n",
       "    .dataframe tbody tr th:only-of-type {\n",
       "        vertical-align: middle;\n",
       "    }\n",
       "\n",
       "    .dataframe tbody tr th {\n",
       "        vertical-align: top;\n",
       "    }\n",
       "\n",
       "    .dataframe thead th {\n",
       "        text-align: right;\n",
       "    }\n",
       "</style>\n",
       "<table border=\"1\" class=\"dataframe\">\n",
       "  <thead>\n",
       "    <tr style=\"text-align: right;\">\n",
       "      <th></th>\n",
       "      <th>author</th>\n",
       "      <th>comment_id</th>\n",
       "      <th>body</th>\n",
       "      <th>gender</th>\n",
       "      <th>age</th>\n",
       "      <th>openness</th>\n",
       "      <th>conscientiousness</th>\n",
       "      <th>extraversion</th>\n",
       "      <th>agreeableness</th>\n",
       "      <th>neuroticism</th>\n",
       "      <th>thread_id</th>\n",
       "      <th>node_id</th>\n",
       "      <th>parent_id</th>\n",
       "      <th>root_id</th>\n",
       "      <th>race</th>\n",
       "      <th>income</th>\n",
       "      <th>education</th>\n",
       "      <th>sex_orientation</th>\n",
       "      <th>political_leaning</th>\n",
       "      <th>religion</th>\n",
       "      <th>simulate_seed</th>\n",
       "    </tr>\n",
       "  </thead>\n",
       "  <tbody>\n",
       "    <tr>\n",
       "      <th>0</th>\n",
       "      <td>joylukclub</td>\n",
       "      <td>2</td>\n",
       "      <td>Since I strongly lean towards the republican s...</td>\n",
       "      <td>f</td>\n",
       "      <td>21</td>\n",
       "      <td>medium</td>\n",
       "      <td>very high</td>\n",
       "      <td>very low</td>\n",
       "      <td>low</td>\n",
       "      <td>very high</td>\n",
       "      <td>1</td>\n",
       "      <td>2</td>\n",
       "      <td>1.0</td>\n",
       "      <td>1</td>\n",
       "      <td>white</td>\n",
       "      <td>low</td>\n",
       "      <td>high school</td>\n",
       "      <td>heterosexual</td>\n",
       "      <td>republican</td>\n",
       "      <td>atheist</td>\n",
       "      <td>5</td>\n",
       "    </tr>\n",
       "  </tbody>\n",
       "</table>\n",
       "</div>"
      ],
      "text/plain": [
       "       author  comment_id                                               body gender  age openness conscientiousness extraversion agreeableness neuroticism  thread_id  node_id  parent_id  root_id   race income    education sex_orientation political_leaning religion  simulate_seed\n",
       "0  joylukclub           2  Since I strongly lean towards the republican s...      f   21   medium         very high     very low           low   very high          1        2        1.0        1  white    low  high school    heterosexual        republican  atheist              5"
      ]
     },
     "execution_count": 38,
     "metadata": {},
     "output_type": "execute_result"
    }
   ],
   "source": [
    "# after moderation datasets\n",
    "df_ofsa = df_sim.drop(columns = [\"b_content\", \"a_content_neut\", \"a_content_emp\", \"a_content_pres\"])\n",
    "df_neut = df_sim.drop(columns = [\"b_content\", \"a_content_ofsa\", \"a_content_emp\", \"a_content_pres\"])\n",
    "df_emp = df_sim.drop(columns = [\"b_content\", \"a_content_neut\", \"a_content_ofsa\", \"a_content_pres\"])\n",
    "df_pres = df_sim.drop(columns = [\"b_content\", \"a_content_neut\", \"a_content_emp\", \"a_content_ofsa\"])\n",
    "\n",
    "# rename the a_content into body consistently to the real data\n",
    "df_ofsa.rename(columns = {\"a_content_ofsa\": \"body\"}, inplace = True)\n",
    "df_neut.rename(columns = {\"a_content_neut\": \"body\"}, inplace = True)\n",
    "df_emp.rename(columns = {\"a_content_emp\": \"body\"}, inplace = True)\n",
    "df_pres.rename(columns = {\"a_content_pres\": \"body\"}, inplace = True)\n",
    "\n",
    "print(f\"Shape ofsa:\\n{df_ofsa.shape}\")\n",
    "print(f\"Shape neut:\\n{df_neut.shape}\")\n",
    "print(f\"Shape emp:\\n{df_emp.shape}\")\n",
    "print(f\"Shape pres:\\n{df_pres.shape}\")\n",
    "df_ofsa.head(1)"
   ]
  },
  {
   "cell_type": "code",
   "execution_count": 39,
   "metadata": {},
   "outputs": [
    {
     "name": "stdout",
     "output_type": "stream",
     "text": [
      "ofsa\n",
      "Shape after duplicates removal:\n",
      "(2587, 21)\n",
      "Check for empty comments\n",
      "0\n",
      "Check for NaN comments\n",
      "1\n",
      "Shape:\n",
      "(2586, 21)\n",
      "\n",
      "neutral\n",
      "Shape after duplicates removal:\n",
      "(2628, 21)\n",
      "Check for empty comments\n",
      "0\n",
      "Check for NaN comments\n",
      "1\n",
      "Shape:\n",
      "(2627, 21)\n",
      "\n",
      "empathizing\n",
      "Shape after duplicates removal:\n",
      "(2632, 21)\n",
      "Check for empty comments\n",
      "0\n",
      "Check for NaN comments\n",
      "1\n",
      "Shape:\n",
      "(2631, 21)\n",
      "\n",
      "prescriptive\n",
      "Shape after duplicates removal:\n",
      "(2607, 21)\n",
      "Check for empty comments\n",
      "0\n",
      "Check for NaN comments\n",
      "1\n",
      "Shape:\n",
      "(2606, 21)\n",
      "\n"
     ]
    }
   ],
   "source": [
    "# processing datasets after moderations\n",
    "print(\"ofsa\")\n",
    "process_dataset(df_ofsa, \"body\")\n",
    "\n",
    "print(\"neutral\")\n",
    "process_dataset(df_neut, \"body\")\n",
    "\n",
    "print(\"empathizing\")\n",
    "process_dataset(df_emp, \"body\")\n",
    "\n",
    "print(\"prescriptive\")\n",
    "process_dataset(df_pres, \"body\")"
   ]
  },
  {
   "cell_type": "markdown",
   "metadata": {},
   "source": [
    "## Comments pre-processing"
   ]
  },
  {
   "cell_type": "markdown",
   "metadata": {},
   "source": [
    "General cleansing of textual data.\n",
    "- html, urls, mentions, hashtags, replacement symbols, contractions extension, extra spaces removal"
   ]
  },
  {
   "cell_type": "code",
   "execution_count": null,
   "metadata": {},
   "outputs": [],
   "source": [
    "# real comments\n",
    "general_text_cleaning(df, \"body\")"
   ]
  },
  {
   "cell_type": "code",
   "execution_count": 42,
   "metadata": {},
   "outputs": [
    {
     "name": "stderr",
     "output_type": "stream",
     "text": [
      "  0%|          | 0/3135 [00:00<?, ?it/s]"
     ]
    },
    {
     "name": "stderr",
     "output_type": "stream",
     "text": [
      "100%|██████████| 3135/3135 [00:00<00:00, 17827.32it/s]\n"
     ]
    },
    {
     "name": "stdout",
     "output_type": "stream",
     "text": [
      "Text cleaned.\n",
      "\n"
     ]
    },
    {
     "name": "stderr",
     "output_type": "stream",
     "text": [
      "100%|██████████| 2587/2587 [00:00<00:00, 20086.57it/s]\n"
     ]
    },
    {
     "name": "stdout",
     "output_type": "stream",
     "text": [
      "Text cleaned.\n",
      "\n"
     ]
    },
    {
     "name": "stderr",
     "output_type": "stream",
     "text": [
      "100%|██████████| 2628/2628 [00:00<00:00, 19962.42it/s]\n"
     ]
    },
    {
     "name": "stdout",
     "output_type": "stream",
     "text": [
      "Text cleaned.\n",
      "\n"
     ]
    },
    {
     "name": "stderr",
     "output_type": "stream",
     "text": [
      "100%|██████████| 2632/2632 [00:00<00:00, 18857.24it/s]\n"
     ]
    },
    {
     "name": "stdout",
     "output_type": "stream",
     "text": [
      "Text cleaned.\n",
      "\n"
     ]
    },
    {
     "name": "stderr",
     "output_type": "stream",
     "text": [
      "100%|██████████| 2607/2607 [00:00<00:00, 19073.70it/s]"
     ]
    },
    {
     "name": "stdout",
     "output_type": "stream",
     "text": [
      "Text cleaned.\n",
      "\n"
     ]
    },
    {
     "name": "stderr",
     "output_type": "stream",
     "text": [
      "\n"
     ]
    }
   ],
   "source": [
    "# simulated comments\n",
    "# before moderation\n",
    "general_text_cleaning(df_bef, \"body\")\n",
    "\n",
    "# after moderation\n",
    "after_datasets = [df_ofsa, df_neut, df_emp, df_pres]\n",
    "\n",
    "for d in after_datasets:\n",
    "    general_text_cleaning(d, \"body\")"
   ]
  },
  {
   "cell_type": "markdown",
   "metadata": {},
   "source": [
    "Check empty real data"
   ]
  },
  {
   "cell_type": "code",
   "execution_count": null,
   "metadata": {},
   "outputs": [],
   "source": [
    "check_empty(df, \"body\")"
   ]
  },
  {
   "cell_type": "markdown",
   "metadata": {},
   "source": [
    "Check empty simulated data"
   ]
  },
  {
   "cell_type": "code",
   "execution_count": 43,
   "metadata": {},
   "outputs": [
    {
     "name": "stdout",
     "output_type": "stream",
     "text": [
      "Empty:\n",
      "0\n",
      "Empty:\n",
      "1\n",
      "Empty:\n",
      "1\n",
      "Empty:\n",
      "1\n",
      "Empty:\n",
      "1\n"
     ]
    }
   ],
   "source": [
    "check_empty(df_bef, \"body\")\n",
    "check_empty(df_ofsa, \"body\")\n",
    "check_empty(df_neut, \"body\")\n",
    "check_empty(df_emp, \"body\")\n",
    "check_empty(df_pres, \"body\")"
   ]
  },
  {
   "cell_type": "markdown",
   "metadata": {},
   "source": [
    "##### Separate features for different pipelines\n",
    "\n",
    "- One comment column will be preprocessed lightly to make it suitable for LLMs.\n",
    "- The other is processed to extract transparent (e.g. linguistic, affective, toxicity-related) features."
   ]
  },
  {
   "cell_type": "code",
   "execution_count": null,
   "metadata": {},
   "outputs": [],
   "source": [
    "# duplicate comments column, one for llm pipeline\n",
    "# real\n",
    "df.insert(loc = 1, column = \"llm_body\", value = df[\"body\"])\n",
    "# simulated\n",
    "df_bef.insert(loc = 2, column = \"llm_body\", value = df_bef[\"body\"])\n",
    "df_ofsa.insert(loc = 2, column = \"llm_body\", value = df_ofsa[\"body\"])\n",
    "df_neut.insert(loc = 2, column = \"llm_body\", value = df_neut[\"body\"])\n",
    "df_emp.insert(loc = 2, column = \"llm_body\", value = df_emp[\"body\"])\n",
    "df_pres.insert(loc = 2, column = \"llm_body\", value = df_pres[\"body\"])\n",
    "\n",
    "# rename comments column for feature extraction pipeline\n",
    "# real\n",
    "df = df.rename(columns = {\"body\":\"std_body\"})\n",
    "# simulated\n",
    "df_bef.rename(columns = {\"body\":\"std_body\"}, inplace = True)\n",
    "df_ofsa.rename(columns = {\"body\":\"std_body\"}, inplace = True)\n",
    "df_neut.rename(columns = {\"body\":\"std_body\"}, inplace = True)\n",
    "df_emp.rename(columns = {\"body\":\"std_body\"}, inplace = True)\n",
    "df_pres.rename(columns = {\"body\":\"std_body\"}, inplace = True)"
   ]
  },
  {
   "cell_type": "code",
   "execution_count": null,
   "metadata": {},
   "outputs": [
    {
     "name": "stdout",
     "output_type": "stream",
     "text": [
      "Shape simulated data before mod:\n",
      "(3135, 22)\n",
      "\n",
      "Shape simulated data after ofsa:\n",
      "(2587, 22)\n",
      "\n",
      "Shape simulated data after neutral:\n",
      "(2628, 22)\n",
      "\n",
      "Shape simulated data after empathizing:\n",
      "(2632, 22)\n",
      "\n",
      "Shape simulated data after prescriptive:\n",
      "(2607, 22)\n",
      "\n"
     ]
    }
   ],
   "source": [
    "# shapes\n",
    "print(f\"Shape real data:\\n{df.shape}\\n\")\n",
    "\n",
    "print(f\"Shape simulated data before mod:\\n{df_bef.shape}\\n\")\n",
    "print(f\"Shape simulated data after ofsa:\\n{df_ofsa.shape}\\n\")\n",
    "print(f\"Shape simulated data after neutral:\\n{df_neut.shape}\\n\")\n",
    "print(f\"Shape simulated data after empathizing:\\n{df_emp.shape}\\n\")\n",
    "print(f\"Shape simulated data after prescriptive:\\n{df_pres.shape}\\n\")"
   ]
  },
  {
   "cell_type": "code",
   "execution_count": 32,
   "metadata": {},
   "outputs": [
    {
     "data": {
      "text/html": [
       "<div>\n",
       "<style scoped>\n",
       "    .dataframe tbody tr th:only-of-type {\n",
       "        vertical-align: middle;\n",
       "    }\n",
       "\n",
       "    .dataframe tbody tr th {\n",
       "        vertical-align: top;\n",
       "    }\n",
       "\n",
       "    .dataframe thead th {\n",
       "        text-align: right;\n",
       "    }\n",
       "</style>\n",
       "<table border=\"1\" class=\"dataframe\">\n",
       "  <thead>\n",
       "    <tr style=\"text-align: right;\">\n",
       "      <th></th>\n",
       "      <th>author</th>\n",
       "      <th>llm_body</th>\n",
       "      <th>std_body</th>\n",
       "      <th>gender</th>\n",
       "      <th>age</th>\n",
       "      <th>openness</th>\n",
       "      <th>conscientiousness</th>\n",
       "      <th>extraversion</th>\n",
       "      <th>agreeableness</th>\n",
       "      <th>neuroticism</th>\n",
       "      <th>score</th>\n",
       "      <th>subreddit</th>\n",
       "      <th>id</th>\n",
       "      <th>parent_id</th>\n",
       "      <th>date</th>\n",
       "      <th>time_of_day</th>\n",
       "    </tr>\n",
       "  </thead>\n",
       "  <tbody>\n",
       "    <tr>\n",
       "      <th>0</th>\n",
       "      <td>MetricExpansion</td>\n",
       "      <td>Those stats come from the test. [Echoing the c...</td>\n",
       "      <td>Those stats come from the test. [Echoing the c...</td>\n",
       "      <td>m</td>\n",
       "      <td>23.0</td>\n",
       "      <td>high</td>\n",
       "      <td>very low</td>\n",
       "      <td>very low</td>\n",
       "      <td>low</td>\n",
       "      <td>medium</td>\n",
       "      <td>6.0</td>\n",
       "      <td>mbti</td>\n",
       "      <td>d7vkyrf</td>\n",
       "      <td>t3_53plrw</td>\n",
       "      <td>2016-09-21</td>\n",
       "      <td>03:41:38</td>\n",
       "    </tr>\n",
       "  </tbody>\n",
       "</table>\n",
       "</div>"
      ],
      "text/plain": [
       "            author                                           llm_body                                           std_body gender   age openness conscientiousness extraversion agreeableness neuroticism  score subreddit       id  parent_id        date time_of_day\n",
       "0  MetricExpansion  Those stats come from the test. [Echoing the c...  Those stats come from the test. [Echoing the c...      m  23.0     high          very low     very low           low      medium    6.0      mbti  d7vkyrf  t3_53plrw  2016-09-21    03:41:38"
      ]
     },
     "execution_count": 32,
     "metadata": {},
     "output_type": "execute_result"
    }
   ],
   "source": [
    "df.head(1)"
   ]
  },
  {
   "cell_type": "code",
   "execution_count": 48,
   "metadata": {},
   "outputs": [
    {
     "data": {
      "text/html": [
       "<div>\n",
       "<style scoped>\n",
       "    .dataframe tbody tr th:only-of-type {\n",
       "        vertical-align: middle;\n",
       "    }\n",
       "\n",
       "    .dataframe tbody tr th {\n",
       "        vertical-align: top;\n",
       "    }\n",
       "\n",
       "    .dataframe thead th {\n",
       "        text-align: right;\n",
       "    }\n",
       "</style>\n",
       "<table border=\"1\" class=\"dataframe\">\n",
       "  <thead>\n",
       "    <tr style=\"text-align: right;\">\n",
       "      <th></th>\n",
       "      <th>author</th>\n",
       "      <th>comment_id</th>\n",
       "      <th>llm_body</th>\n",
       "      <th>std_body</th>\n",
       "      <th>gender</th>\n",
       "      <th>age</th>\n",
       "      <th>openness</th>\n",
       "      <th>conscientiousness</th>\n",
       "      <th>extraversion</th>\n",
       "      <th>agreeableness</th>\n",
       "      <th>neuroticism</th>\n",
       "      <th>thread_id</th>\n",
       "      <th>node_id</th>\n",
       "      <th>parent_id</th>\n",
       "      <th>root_id</th>\n",
       "      <th>race</th>\n",
       "      <th>income</th>\n",
       "      <th>education</th>\n",
       "      <th>sex_orientation</th>\n",
       "      <th>political_leaning</th>\n",
       "      <th>religion</th>\n",
       "      <th>simulate_seed</th>\n",
       "    </tr>\n",
       "  </thead>\n",
       "  <tbody>\n",
       "    <tr>\n",
       "      <th>0</th>\n",
       "      <td>joylukclub</td>\n",
       "      <td>2</td>\n",
       "      <td>Since I strongly lean towards the republican s...</td>\n",
       "      <td>Since I strongly lean towards the republican s...</td>\n",
       "      <td>f</td>\n",
       "      <td>21</td>\n",
       "      <td>medium</td>\n",
       "      <td>very high</td>\n",
       "      <td>very low</td>\n",
       "      <td>low</td>\n",
       "      <td>very high</td>\n",
       "      <td>1</td>\n",
       "      <td>2</td>\n",
       "      <td>1.0</td>\n",
       "      <td>1</td>\n",
       "      <td>white</td>\n",
       "      <td>low</td>\n",
       "      <td>high school</td>\n",
       "      <td>heterosexual</td>\n",
       "      <td>republican</td>\n",
       "      <td>atheist</td>\n",
       "      <td>5</td>\n",
       "    </tr>\n",
       "  </tbody>\n",
       "</table>\n",
       "</div>"
      ],
      "text/plain": [
       "       author  comment_id                                           llm_body                                           std_body gender  age openness conscientiousness extraversion agreeableness neuroticism  thread_id  node_id  parent_id  root_id   race income    education sex_orientation political_leaning religion  simulate_seed\n",
       "0  joylukclub           2  Since I strongly lean towards the republican s...  Since I strongly lean towards the republican s...      f   21   medium         very high     very low           low   very high          1        2        1.0        1  white    low  high school    heterosexual        republican  atheist              5"
      ]
     },
     "execution_count": 48,
     "metadata": {},
     "output_type": "execute_result"
    }
   ],
   "source": [
    "df_bef.head(1)"
   ]
  },
  {
   "cell_type": "markdown",
   "metadata": {},
   "source": [
    "### Storing the datasets"
   ]
  },
  {
   "cell_type": "code",
   "execution_count": null,
   "metadata": {},
   "outputs": [],
   "source": [
    "# store full real and simulated datasets\n",
    "df.to_csv(\"../original_data/pandora/PANDORA.csv\", index = False, encoding = \"utf-8\") \n",
    "df_bef.to_csv(\"../original_data/simulator/exante/SIMULATOR_exante_bef.csv\", index = False, encoding = \"utf-8\")\n",
    "df_ofsa.to_csv(\"../original_data/simulator/exante/SIMULATOR_exante_ofsa.csv\", index = False, encoding = \"utf-8\")\n",
    "df_neut.to_csv(\"../original_data/simulator/exante/SIMULATOR_exante_neut.csv\", index = False, encoding = \"utf-8\")\n",
    "df_emp.to_csv(\"../original_data/simulator/exante/SIMULATOR_exante_emp.csv\", index = False, encoding = \"utf-8\")\n",
    "df_pres.to_csv(\"../original_data/simulator/exante/SIMULATOR_exante_pres.csv\", index = False, encoding = \"utf-8\")"
   ]
  }
 ],
 "metadata": {
  "kernelspec": {
   "display_name": "deeplearning",
   "language": "python",
   "name": "python3"
  },
  "language_info": {
   "codemirror_mode": {
    "name": "ipython",
    "version": 3
   },
   "file_extension": ".py",
   "mimetype": "text/x-python",
   "name": "python",
   "nbconvert_exporter": "python",
   "pygments_lexer": "ipython3",
   "version": "3.9.16"
  }
 },
 "nbformat": 4,
 "nbformat_minor": 2
}
