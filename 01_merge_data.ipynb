{
 "cells": [
  {
   "cell_type": "markdown",
   "metadata": {},
   "source": [
    "##### Imports"
   ]
  },
  {
   "cell_type": "code",
   "execution_count": 1,
   "metadata": {},
   "outputs": [],
   "source": [
    "from scripts.merge_data import *\n",
    "from scripts.plotting import *"
   ]
  },
  {
   "cell_type": "markdown",
   "metadata": {},
   "source": [
    "## Real users data"
   ]
  },
  {
   "cell_type": "markdown",
   "metadata": {},
   "source": [
    "### PANDORA user profiles"
   ]
  },
  {
   "cell_type": "code",
   "execution_count": 2,
   "metadata": {},
   "outputs": [],
   "source": [
    "# users profiles' dataset\n",
    "df_prf = pd.read_csv(\"../original_data/pandora/profiles.csv\", encoding = \"utf-8\")"
   ]
  },
  {
   "cell_type": "code",
   "execution_count": 3,
   "metadata": {},
   "outputs": [
    {
     "name": "stdout",
     "output_type": "stream",
     "text": [
      "Shape of the original profiles dataset:\n",
      "(10295, 38)\n",
      "\n",
      "Features:\n",
      "['author' 'mbti' 'introverted' 'intuitive' 'thinking' 'perceiving'\n",
      " 'gender' 'age' 'enneagram' 'country' 'state' 'type' 'agreeableness'\n",
      " 'openness' 'conscientiousness' 'extraversion' 'neuroticism'\n",
      " 'is_description' 'is_percentile' 'is_score' 'contains_details'\n",
      " 'num_comments' 'en_comments' 'en_comments_percentage' 'region'\n",
      " 'continent' 'country_code' 'enneagram_type' 'enneagram_wing'\n",
      " 'is_native_english_country' 'predicted_test' 'test_name' 'test_scale'\n",
      " '16pers_ta' 'test_result_type' 'is_female' 'is_female_pred'\n",
      " 'is_female_proba']\n"
     ]
    },
    {
     "data": {
      "text/html": [
       "<div>\n",
       "<style scoped>\n",
       "    .dataframe tbody tr th:only-of-type {\n",
       "        vertical-align: middle;\n",
       "    }\n",
       "\n",
       "    .dataframe tbody tr th {\n",
       "        vertical-align: top;\n",
       "    }\n",
       "\n",
       "    .dataframe thead th {\n",
       "        text-align: right;\n",
       "    }\n",
       "</style>\n",
       "<table border=\"1\" class=\"dataframe\">\n",
       "  <thead>\n",
       "    <tr style=\"text-align: right;\">\n",
       "      <th></th>\n",
       "      <th>author</th>\n",
       "      <th>mbti</th>\n",
       "      <th>introverted</th>\n",
       "      <th>intuitive</th>\n",
       "      <th>thinking</th>\n",
       "      <th>perceiving</th>\n",
       "      <th>gender</th>\n",
       "      <th>age</th>\n",
       "      <th>enneagram</th>\n",
       "      <th>country</th>\n",
       "      <th>state</th>\n",
       "      <th>type</th>\n",
       "      <th>agreeableness</th>\n",
       "      <th>openness</th>\n",
       "      <th>conscientiousness</th>\n",
       "      <th>extraversion</th>\n",
       "      <th>neuroticism</th>\n",
       "      <th>is_description</th>\n",
       "      <th>is_percentile</th>\n",
       "      <th>is_score</th>\n",
       "      <th>contains_details</th>\n",
       "      <th>num_comments</th>\n",
       "      <th>en_comments</th>\n",
       "      <th>en_comments_percentage</th>\n",
       "      <th>region</th>\n",
       "      <th>continent</th>\n",
       "      <th>country_code</th>\n",
       "      <th>enneagram_type</th>\n",
       "      <th>enneagram_wing</th>\n",
       "      <th>is_native_english_country</th>\n",
       "      <th>predicted_test</th>\n",
       "      <th>test_name</th>\n",
       "      <th>test_scale</th>\n",
       "      <th>16pers_ta</th>\n",
       "      <th>test_result_type</th>\n",
       "      <th>is_female</th>\n",
       "      <th>is_female_pred</th>\n",
       "      <th>is_female_proba</th>\n",
       "    </tr>\n",
       "  </thead>\n",
       "  <tbody>\n",
       "    <tr>\n",
       "      <th>0</th>\n",
       "      <td>-Afrodisiac-</td>\n",
       "      <td>intp</td>\n",
       "      <td>1.0</td>\n",
       "      <td>1.0</td>\n",
       "      <td>1.0</td>\n",
       "      <td>1.0</td>\n",
       "      <td>m</td>\n",
       "      <td>19.0</td>\n",
       "      <td>NaN</td>\n",
       "      <td>NaN</td>\n",
       "      <td>NaN</td>\n",
       "      <td>NaN</td>\n",
       "      <td>NaN</td>\n",
       "      <td>NaN</td>\n",
       "      <td>NaN</td>\n",
       "      <td>NaN</td>\n",
       "      <td>NaN</td>\n",
       "      <td>NaN</td>\n",
       "      <td>NaN</td>\n",
       "      <td>NaN</td>\n",
       "      <td>NaN</td>\n",
       "      <td>670</td>\n",
       "      <td>649</td>\n",
       "      <td>96.865672</td>\n",
       "      <td>NaN</td>\n",
       "      <td>NaN</td>\n",
       "      <td>NaN</td>\n",
       "      <td>NaN</td>\n",
       "      <td>NaN</td>\n",
       "      <td>NaN</td>\n",
       "      <td>NaN</td>\n",
       "      <td>NaN</td>\n",
       "      <td>NaN</td>\n",
       "      <td>NaN</td>\n",
       "      <td>NaN</td>\n",
       "      <td>0.0</td>\n",
       "      <td>1</td>\n",
       "      <td>0.531728</td>\n",
       "    </tr>\n",
       "    <tr>\n",
       "      <th>1</th>\n",
       "      <td>-Areopagan-</td>\n",
       "      <td>NaN</td>\n",
       "      <td>NaN</td>\n",
       "      <td>NaN</td>\n",
       "      <td>NaN</td>\n",
       "      <td>NaN</td>\n",
       "      <td>m</td>\n",
       "      <td>NaN</td>\n",
       "      <td>NaN</td>\n",
       "      <td>NaN</td>\n",
       "      <td>NaN</td>\n",
       "      <td>percentiles</td>\n",
       "      <td>0.0</td>\n",
       "      <td>99.0</td>\n",
       "      <td>96.0</td>\n",
       "      <td>60.0</td>\n",
       "      <td>1.0</td>\n",
       "      <td>NaN</td>\n",
       "      <td>NaN</td>\n",
       "      <td>1.0</td>\n",
       "      <td>1.0</td>\n",
       "      <td>5</td>\n",
       "      <td>5</td>\n",
       "      <td>100.000000</td>\n",
       "      <td>NaN</td>\n",
       "      <td>NaN</td>\n",
       "      <td>NaN</td>\n",
       "      <td>NaN</td>\n",
       "      <td>NaN</td>\n",
       "      <td>NaN</td>\n",
       "      <td>0.0</td>\n",
       "      <td>understand myself</td>\n",
       "      <td>percentiles</td>\n",
       "      <td>NaN</td>\n",
       "      <td>percentiles</td>\n",
       "      <td>0.0</td>\n",
       "      <td>0</td>\n",
       "      <td>0.162758</td>\n",
       "    </tr>\n",
       "    <tr>\n",
       "      <th>2</th>\n",
       "      <td>-Automaticity</td>\n",
       "      <td>entp</td>\n",
       "      <td>0.0</td>\n",
       "      <td>1.0</td>\n",
       "      <td>1.0</td>\n",
       "      <td>1.0</td>\n",
       "      <td>NaN</td>\n",
       "      <td>NaN</td>\n",
       "      <td>NaN</td>\n",
       "      <td>NaN</td>\n",
       "      <td>NaN</td>\n",
       "      <td>NaN</td>\n",
       "      <td>NaN</td>\n",
       "      <td>NaN</td>\n",
       "      <td>NaN</td>\n",
       "      <td>NaN</td>\n",
       "      <td>NaN</td>\n",
       "      <td>NaN</td>\n",
       "      <td>NaN</td>\n",
       "      <td>NaN</td>\n",
       "      <td>NaN</td>\n",
       "      <td>265</td>\n",
       "      <td>264</td>\n",
       "      <td>99.622642</td>\n",
       "      <td>NaN</td>\n",
       "      <td>NaN</td>\n",
       "      <td>NaN</td>\n",
       "      <td>NaN</td>\n",
       "      <td>NaN</td>\n",
       "      <td>NaN</td>\n",
       "      <td>NaN</td>\n",
       "      <td>NaN</td>\n",
       "      <td>NaN</td>\n",
       "      <td>NaN</td>\n",
       "      <td>NaN</td>\n",
       "      <td>NaN</td>\n",
       "      <td>0</td>\n",
       "      <td>0.013042</td>\n",
       "    </tr>\n",
       "  </tbody>\n",
       "</table>\n",
       "</div>"
      ],
      "text/plain": [
       "          author  mbti  introverted  intuitive  thinking  perceiving gender   age enneagram country state         type  agreeableness  openness  conscientiousness  extraversion  neuroticism  is_description is_percentile  is_score  contains_details  num_comments  en_comments  en_comments_percentage region continent country_code  enneagram_type  enneagram_wing  is_native_english_country  predicted_test          test_name   test_scale 16pers_ta test_result_type  is_female  is_female_pred  is_female_proba\n",
       "0   -Afrodisiac-  intp          1.0        1.0       1.0         1.0      m  19.0       NaN     NaN   NaN          NaN            NaN       NaN                NaN           NaN          NaN             NaN           NaN       NaN               NaN           670          649               96.865672    NaN       NaN          NaN             NaN             NaN                        NaN             NaN                NaN          NaN       NaN              NaN        0.0               1         0.531728\n",
       "1    -Areopagan-   NaN          NaN        NaN       NaN         NaN      m   NaN       NaN     NaN   NaN  percentiles            0.0      99.0               96.0          60.0          1.0             NaN           NaN       1.0               1.0             5            5              100.000000    NaN       NaN          NaN             NaN             NaN                        NaN             0.0  understand myself  percentiles       NaN      percentiles        0.0               0         0.162758\n",
       "2  -Automaticity  entp          0.0        1.0       1.0         1.0    NaN   NaN       NaN     NaN   NaN          NaN            NaN       NaN                NaN           NaN          NaN             NaN           NaN       NaN               NaN           265          264               99.622642    NaN       NaN          NaN             NaN             NaN                        NaN             NaN                NaN          NaN       NaN              NaN        NaN               0         0.013042"
      ]
     },
     "execution_count": 3,
     "metadata": {},
     "output_type": "execute_result"
    }
   ],
   "source": [
    "print(f\"Shape of the original profiles dataset:\\n{df_prf.shape}\\n\")\n",
    "print(f\"Features:\\n{df_prf.columns.to_numpy()}\")\n",
    "# show dataset\n",
    "df_prf.head(3)"
   ]
  },
  {
   "cell_type": "code",
   "execution_count": 4,
   "metadata": {},
   "outputs": [
    {
     "data": {
      "text/plain": [
       "array([ 1., nan,  0.])"
      ]
     },
     "execution_count": 4,
     "metadata": {},
     "output_type": "execute_result"
    }
   ],
   "source": [
    "df_prf[\"perceiving\"].unique()"
   ]
  },
  {
   "cell_type": "code",
   "execution_count": 5,
   "metadata": {},
   "outputs": [
    {
     "data": {
      "text/plain": [
       "array([nan,  3.,  5.,  9.,  1.,  8.,  7.,  4.,  6.,  2.])"
      ]
     },
     "execution_count": 5,
     "metadata": {},
     "output_type": "execute_result"
    }
   ],
   "source": [
    "df_prf[\"enneagram_type\"].unique()"
   ]
  },
  {
   "cell_type": "markdown",
   "metadata": {},
   "source": [
    "#### Big Five model\n",
    "Keep only authors with information about OCEAN"
   ]
  },
  {
   "cell_type": "code",
   "execution_count": 6,
   "metadata": {},
   "outputs": [
    {
     "name": "stdout",
     "output_type": "stream",
     "text": [
      "Shape of dataset with OCEAN values:\n",
      "(1568, 38)\n"
     ]
    },
    {
     "data": {
      "text/html": [
       "<div>\n",
       "<style scoped>\n",
       "    .dataframe tbody tr th:only-of-type {\n",
       "        vertical-align: middle;\n",
       "    }\n",
       "\n",
       "    .dataframe tbody tr th {\n",
       "        vertical-align: top;\n",
       "    }\n",
       "\n",
       "    .dataframe thead th {\n",
       "        text-align: right;\n",
       "    }\n",
       "</style>\n",
       "<table border=\"1\" class=\"dataframe\">\n",
       "  <thead>\n",
       "    <tr style=\"text-align: right;\">\n",
       "      <th></th>\n",
       "      <th>author</th>\n",
       "      <th>mbti</th>\n",
       "      <th>introverted</th>\n",
       "      <th>intuitive</th>\n",
       "      <th>thinking</th>\n",
       "      <th>perceiving</th>\n",
       "      <th>gender</th>\n",
       "      <th>age</th>\n",
       "      <th>enneagram</th>\n",
       "      <th>country</th>\n",
       "      <th>state</th>\n",
       "      <th>type</th>\n",
       "      <th>agreeableness</th>\n",
       "      <th>openness</th>\n",
       "      <th>conscientiousness</th>\n",
       "      <th>extraversion</th>\n",
       "      <th>neuroticism</th>\n",
       "      <th>is_description</th>\n",
       "      <th>is_percentile</th>\n",
       "      <th>is_score</th>\n",
       "      <th>contains_details</th>\n",
       "      <th>num_comments</th>\n",
       "      <th>en_comments</th>\n",
       "      <th>en_comments_percentage</th>\n",
       "      <th>region</th>\n",
       "      <th>continent</th>\n",
       "      <th>country_code</th>\n",
       "      <th>enneagram_type</th>\n",
       "      <th>enneagram_wing</th>\n",
       "      <th>is_native_english_country</th>\n",
       "      <th>predicted_test</th>\n",
       "      <th>test_name</th>\n",
       "      <th>test_scale</th>\n",
       "      <th>16pers_ta</th>\n",
       "      <th>test_result_type</th>\n",
       "      <th>is_female</th>\n",
       "      <th>is_female_pred</th>\n",
       "      <th>is_female_proba</th>\n",
       "    </tr>\n",
       "  </thead>\n",
       "  <tbody>\n",
       "    <tr>\n",
       "      <th>1</th>\n",
       "      <td>-Areopagan-</td>\n",
       "      <td>NaN</td>\n",
       "      <td>NaN</td>\n",
       "      <td>NaN</td>\n",
       "      <td>NaN</td>\n",
       "      <td>NaN</td>\n",
       "      <td>m</td>\n",
       "      <td>NaN</td>\n",
       "      <td>NaN</td>\n",
       "      <td>NaN</td>\n",
       "      <td>NaN</td>\n",
       "      <td>percentiles</td>\n",
       "      <td>0.0</td>\n",
       "      <td>99.0</td>\n",
       "      <td>96.0</td>\n",
       "      <td>60.0</td>\n",
       "      <td>1.0</td>\n",
       "      <td>NaN</td>\n",
       "      <td>NaN</td>\n",
       "      <td>1.0</td>\n",
       "      <td>1.0</td>\n",
       "      <td>5</td>\n",
       "      <td>5</td>\n",
       "      <td>100.000000</td>\n",
       "      <td>NaN</td>\n",
       "      <td>NaN</td>\n",
       "      <td>NaN</td>\n",
       "      <td>NaN</td>\n",
       "      <td>NaN</td>\n",
       "      <td>NaN</td>\n",
       "      <td>0.0</td>\n",
       "      <td>understand myself</td>\n",
       "      <td>percentiles</td>\n",
       "      <td>NaN</td>\n",
       "      <td>percentiles</td>\n",
       "      <td>0.0</td>\n",
       "      <td>0</td>\n",
       "      <td>0.162758</td>\n",
       "    </tr>\n",
       "    <tr>\n",
       "      <th>6</th>\n",
       "      <td>-BigSexy-</td>\n",
       "      <td>NaN</td>\n",
       "      <td>NaN</td>\n",
       "      <td>NaN</td>\n",
       "      <td>NaN</td>\n",
       "      <td>NaN</td>\n",
       "      <td>m</td>\n",
       "      <td>23.0</td>\n",
       "      <td>NaN</td>\n",
       "      <td>NaN</td>\n",
       "      <td>NaN</td>\n",
       "      <td>percentiles</td>\n",
       "      <td>39.0</td>\n",
       "      <td>92.0</td>\n",
       "      <td>1.0</td>\n",
       "      <td>18.0</td>\n",
       "      <td>4.0</td>\n",
       "      <td>NaN</td>\n",
       "      <td>1</td>\n",
       "      <td>NaN</td>\n",
       "      <td>1.0</td>\n",
       "      <td>2797</td>\n",
       "      <td>2655</td>\n",
       "      <td>94.923132</td>\n",
       "      <td>NaN</td>\n",
       "      <td>NaN</td>\n",
       "      <td>NaN</td>\n",
       "      <td>NaN</td>\n",
       "      <td>NaN</td>\n",
       "      <td>NaN</td>\n",
       "      <td>0.0</td>\n",
       "      <td>understand myself</td>\n",
       "      <td>percentiles</td>\n",
       "      <td>NaN</td>\n",
       "      <td>percentiles</td>\n",
       "      <td>0.0</td>\n",
       "      <td>0</td>\n",
       "      <td>0.034609</td>\n",
       "    </tr>\n",
       "    <tr>\n",
       "      <th>7</th>\n",
       "      <td>-BlitzN9ne</td>\n",
       "      <td>entp</td>\n",
       "      <td>0.0</td>\n",
       "      <td>1.0</td>\n",
       "      <td>1.0</td>\n",
       "      <td>1.0</td>\n",
       "      <td>m</td>\n",
       "      <td>21.0</td>\n",
       "      <td>3w4</td>\n",
       "      <td>NaN</td>\n",
       "      <td>NaN</td>\n",
       "      <td>description</td>\n",
       "      <td>50.0</td>\n",
       "      <td>85.0</td>\n",
       "      <td>15.0</td>\n",
       "      <td>50.0</td>\n",
       "      <td>30.0</td>\n",
       "      <td>1.0</td>\n",
       "      <td>NaN</td>\n",
       "      <td>NaN</td>\n",
       "      <td>NaN</td>\n",
       "      <td>3404</td>\n",
       "      <td>3042</td>\n",
       "      <td>89.365452</td>\n",
       "      <td>NaN</td>\n",
       "      <td>NaN</td>\n",
       "      <td>NaN</td>\n",
       "      <td>3.0</td>\n",
       "      <td>4.0</td>\n",
       "      <td>NaN</td>\n",
       "      <td>1.0</td>\n",
       "      <td>qualtrics</td>\n",
       "      <td>percentiles</td>\n",
       "      <td>NaN</td>\n",
       "      <td>description</td>\n",
       "      <td>0.0</td>\n",
       "      <td>0</td>\n",
       "      <td>0.027725</td>\n",
       "    </tr>\n",
       "  </tbody>\n",
       "</table>\n",
       "</div>"
      ],
      "text/plain": [
       "        author  mbti  introverted  intuitive  thinking  perceiving gender   age enneagram country state         type  agreeableness  openness  conscientiousness  extraversion  neuroticism  is_description is_percentile  is_score  contains_details  num_comments  en_comments  en_comments_percentage region continent country_code  enneagram_type  enneagram_wing  is_native_english_country  predicted_test          test_name   test_scale 16pers_ta test_result_type  is_female  is_female_pred  is_female_proba\n",
       "1  -Areopagan-   NaN          NaN        NaN       NaN         NaN      m   NaN       NaN     NaN   NaN  percentiles            0.0      99.0               96.0          60.0          1.0             NaN           NaN       1.0               1.0             5            5              100.000000    NaN       NaN          NaN             NaN             NaN                        NaN             0.0  understand myself  percentiles       NaN      percentiles        0.0               0         0.162758\n",
       "6    -BigSexy-   NaN          NaN        NaN       NaN         NaN      m  23.0       NaN     NaN   NaN  percentiles           39.0      92.0                1.0          18.0          4.0             NaN             1       NaN               1.0          2797         2655               94.923132    NaN       NaN          NaN             NaN             NaN                        NaN             0.0  understand myself  percentiles       NaN      percentiles        0.0               0         0.034609\n",
       "7   -BlitzN9ne  entp          0.0        1.0       1.0         1.0      m  21.0       3w4     NaN   NaN  description           50.0      85.0               15.0          50.0         30.0             1.0           NaN       NaN               NaN          3404         3042               89.365452    NaN       NaN          NaN             3.0             4.0                        NaN             1.0          qualtrics  percentiles       NaN      description        0.0               0         0.027725"
      ]
     },
     "execution_count": 6,
     "metadata": {},
     "output_type": "execute_result"
    }
   ],
   "source": [
    "# OCEAN features we are interested in preserving\n",
    "ocean = [\"openness\", \"conscientiousness\", \"extraversion\", \"agreeableness\", \"neuroticism\"]\n",
    "\n",
    "# authors for which we have information about OCEAN\n",
    "df_ocean = df_prf[df_prf[\"openness\"].notna() & \n",
    "                  df_prf[\"conscientiousness\"].notna() & \n",
    "                  df_prf[\"extraversion\"].notna() & \n",
    "                  df_prf[\"agreeableness\"].notna() & \n",
    "                  df_prf[\"neuroticism\"].notna()]\n",
    "\n",
    "print(f\"Shape of dataset with OCEAN values:\\n{df_ocean.shape}\")\n",
    "df_ocean.head(3)"
   ]
  },
  {
   "cell_type": "markdown",
   "metadata": {},
   "source": [
    "Exploring features"
   ]
  },
  {
   "cell_type": "code",
   "execution_count": 8,
   "metadata": {},
   "outputs": [
    {
     "name": "stdout",
     "output_type": "stream",
     "text": [
      "Missing values for some features:\n",
      "author                       0.000000\n",
      "mbti                         0.749362\n",
      "introverted                  0.753189\n",
      "intuitive                    0.749362\n",
      "thinking                     0.751276\n",
      "perceiving                   0.755740\n",
      "gender                       0.608418\n",
      "age                          0.593112\n",
      "enneagram                    0.959184\n",
      "country                      0.850128\n",
      "state                        0.949617\n",
      "type                         0.000000\n",
      "agreeableness                0.000000\n",
      "openness                     0.000000\n",
      "conscientiousness            0.000000\n",
      "extraversion                 0.000000\n",
      "neuroticism                  0.000000\n",
      "is_description               0.908163\n",
      "is_percentile                0.765306\n",
      "is_score                     0.322704\n",
      "contains_details             0.139031\n",
      "num_comments                 0.000000\n",
      "en_comments                  0.000000\n",
      "en_comments_percentage       0.000000\n",
      "region                       0.952806\n",
      "continent                    0.850128\n",
      "country_code                 0.850128\n",
      "enneagram_type               0.959184\n",
      "enneagram_wing               0.959821\n",
      "is_native_english_country    0.850128\n",
      "predicted_test               0.000000\n",
      "test_name                    0.000000\n",
      "test_scale                   0.000000\n",
      "16pers_ta                    0.994898\n",
      "test_result_type             0.000000\n",
      "is_female                    0.617985\n",
      "is_female_pred               0.000000\n",
      "is_female_proba              0.000000\n",
      "dtype: float64\n",
      "\n",
      "Distinct values for some features:\n",
      "gender: ['m' 'f' nan 't']\n",
      "age: [nan 23. 21. 18. 20. 25. 27. 19. 35. 22. 24. 29. 17. 60. 40. 30. 42. 33.\n",
      " 16. 64. 26. 34. 31. 32. 15. 38. 43. 28. 46. 36. 47. 45. 37. 51. 55. 39.\n",
      " 53. 14. 41. 52. 44.]\n",
      "country: [nan 'eu' 'us' 'brasil' 'canada' 'uk' 'netherlands' 'bulgaria' 'poland'\n",
      " 'kosovo' 'denmark' 'finland' 'sweden' 'germany' 'australia' 'niger'\n",
      " 'ireland' 'italy' 'brazil' 'latvia' 'romania' 'china' 'new zealand'\n",
      " 'philippines' 'austria' 'korea, republic of' 'colombia' 'venezuela'\n",
      " 'northern cyprus' 'mongolia' 'france' 'nepal' 'singapore' 'spain'\n",
      " 'switzerland']\n",
      "mbti: [nan 'entp' 'infp' 'estp' 'intj' 'enfp' 'infj' 'intp' 'istp' 'intx' 'entj'\n",
      " 'estj' 'istj' 'xnfp' 'infx' 'isfj' 'xnfx' 'esfj' 'inxj' 'esfp' 'xsfp'\n",
      " 'inxx' 'isfp' 'enfj' 'xntp' 'xnxj']\n",
      "state: [nan 'california' 'new york' 'colorado' 'british columbia' 'mw' 'oregon'\n",
      " 'texas' 'florida' 'indiana' 'nevada' 'wisconsin' 'michigan' 'louisana'\n",
      " 'quebec' 'arizona' 'ohio' 'virginia' 'north carolina' 'pennsylvania'\n",
      " 'washington' 'alberta' 'ontario' 'saskatchewan' 'illinois' 'missouri'\n",
      " 'mississippi' 'tennessee' 'kentucky' 'manitoba' 'north virginia'\n",
      " 'alabama' 'scotland' 'nebraska' 'michingan' 'kansas']\n"
     ]
    }
   ],
   "source": [
    "# missing values for some features\n",
    "other_feats = [\"gender\", \"age\", \"country\", \"mbti\", \"state\", \"is_description\", \"is_female_proba\", \"continent\", 'introverted', 'intuitive', 'thinking', 'perceiving']\n",
    "other_feats = df_ocean.columns.to_list()\n",
    "print(f\"Missing values for some features:\\n{df_ocean[other_feats].isna().sum()/len(df_ocean)}\\n\")\n",
    "\n",
    "# distinct values for some features\n",
    "discr_feats = [\"gender\", \"age\", \"country\", \"mbti\", \"state\"]\n",
    "print(\"Distinct values for some features:\")\n",
    "for c in discr_feats:\n",
    "    print(f\"{c}: {df_ocean[c].unique()}\")"
   ]
  },
  {
   "cell_type": "code",
   "execution_count": 9,
   "metadata": {},
   "outputs": [
    {
     "data": {
      "text/html": [
       "<div>\n",
       "<style scoped>\n",
       "    .dataframe tbody tr th:only-of-type {\n",
       "        vertical-align: middle;\n",
       "    }\n",
       "\n",
       "    .dataframe tbody tr th {\n",
       "        vertical-align: top;\n",
       "    }\n",
       "\n",
       "    .dataframe thead th {\n",
       "        text-align: right;\n",
       "    }\n",
       "</style>\n",
       "<table border=\"1\" class=\"dataframe\">\n",
       "  <thead>\n",
       "    <tr style=\"text-align: right;\">\n",
       "      <th></th>\n",
       "      <th>gender</th>\n",
       "      <th>is_female_proba</th>\n",
       "    </tr>\n",
       "  </thead>\n",
       "  <tbody>\n",
       "    <tr>\n",
       "      <th>1</th>\n",
       "      <td>m</td>\n",
       "      <td>0.162758</td>\n",
       "    </tr>\n",
       "    <tr>\n",
       "      <th>6</th>\n",
       "      <td>m</td>\n",
       "      <td>0.034609</td>\n",
       "    </tr>\n",
       "    <tr>\n",
       "      <th>7</th>\n",
       "      <td>m</td>\n",
       "      <td>0.027725</td>\n",
       "    </tr>\n",
       "    <tr>\n",
       "      <th>8</th>\n",
       "      <td>m</td>\n",
       "      <td>0.065021</td>\n",
       "    </tr>\n",
       "    <tr>\n",
       "      <th>23</th>\n",
       "      <td>f</td>\n",
       "      <td>0.952166</td>\n",
       "    </tr>\n",
       "    <tr>\n",
       "      <th>...</th>\n",
       "      <td>...</td>\n",
       "      <td>...</td>\n",
       "    </tr>\n",
       "    <tr>\n",
       "      <th>10290</th>\n",
       "      <td>m</td>\n",
       "      <td>0.230889</td>\n",
       "    </tr>\n",
       "    <tr>\n",
       "      <th>10291</th>\n",
       "      <td>f</td>\n",
       "      <td>0.548157</td>\n",
       "    </tr>\n",
       "    <tr>\n",
       "      <th>10292</th>\n",
       "      <td>NaN</td>\n",
       "      <td>0.590424</td>\n",
       "    </tr>\n",
       "    <tr>\n",
       "      <th>10293</th>\n",
       "      <td>NaN</td>\n",
       "      <td>0.215797</td>\n",
       "    </tr>\n",
       "    <tr>\n",
       "      <th>10294</th>\n",
       "      <td>f</td>\n",
       "      <td>0.945884</td>\n",
       "    </tr>\n",
       "  </tbody>\n",
       "</table>\n",
       "<p>1568 rows × 2 columns</p>\n",
       "</div>"
      ],
      "text/plain": [
       "      gender  is_female_proba\n",
       "1          m         0.162758\n",
       "6          m         0.034609\n",
       "7          m         0.027725\n",
       "8          m         0.065021\n",
       "23         f         0.952166\n",
       "...      ...              ...\n",
       "10290      m         0.230889\n",
       "10291      f         0.548157\n",
       "10292    NaN         0.590424\n",
       "10293    NaN         0.215797\n",
       "10294      f         0.945884\n",
       "\n",
       "[1568 rows x 2 columns]"
      ]
     },
     "execution_count": 9,
     "metadata": {},
     "output_type": "execute_result"
    }
   ],
   "source": [
    "# comparing gender with female probability\n",
    "df_ocean[[\"gender\", \"is_female_proba\"]]"
   ]
  },
  {
   "cell_type": "markdown",
   "metadata": {},
   "source": [
    "Feature selection"
   ]
  },
  {
   "cell_type": "code",
   "execution_count": 16,
   "metadata": {},
   "outputs": [
    {
     "name": "stdout",
     "output_type": "stream",
     "text": [
      "Features to keep (OCEAN and demographic):\n",
      "['author', 'gender', 'is_female_proba', 'age', 'openness', 'conscientiousness', 'extraversion', 'agreeableness', 'neuroticism']\n",
      "Shape of OCEAN profile dataset:\n",
      "(1568, 9)\n"
     ]
    },
    {
     "data": {
      "text/html": [
       "<div>\n",
       "<style scoped>\n",
       "    .dataframe tbody tr th:only-of-type {\n",
       "        vertical-align: middle;\n",
       "    }\n",
       "\n",
       "    .dataframe tbody tr th {\n",
       "        vertical-align: top;\n",
       "    }\n",
       "\n",
       "    .dataframe thead th {\n",
       "        text-align: right;\n",
       "    }\n",
       "</style>\n",
       "<table border=\"1\" class=\"dataframe\">\n",
       "  <thead>\n",
       "    <tr style=\"text-align: right;\">\n",
       "      <th></th>\n",
       "      <th>author</th>\n",
       "      <th>gender</th>\n",
       "      <th>is_female_proba</th>\n",
       "      <th>age</th>\n",
       "      <th>openness</th>\n",
       "      <th>conscientiousness</th>\n",
       "      <th>extraversion</th>\n",
       "      <th>agreeableness</th>\n",
       "      <th>neuroticism</th>\n",
       "    </tr>\n",
       "  </thead>\n",
       "  <tbody>\n",
       "    <tr>\n",
       "      <th>0</th>\n",
       "      <td>-Areopagan-</td>\n",
       "      <td>m</td>\n",
       "      <td>0.162758</td>\n",
       "      <td>NaN</td>\n",
       "      <td>99.0</td>\n",
       "      <td>96.0</td>\n",
       "      <td>60.0</td>\n",
       "      <td>0.0</td>\n",
       "      <td>1.0</td>\n",
       "    </tr>\n",
       "    <tr>\n",
       "      <th>1</th>\n",
       "      <td>-BigSexy-</td>\n",
       "      <td>m</td>\n",
       "      <td>0.034609</td>\n",
       "      <td>23.0</td>\n",
       "      <td>92.0</td>\n",
       "      <td>1.0</td>\n",
       "      <td>18.0</td>\n",
       "      <td>39.0</td>\n",
       "      <td>4.0</td>\n",
       "    </tr>\n",
       "    <tr>\n",
       "      <th>2</th>\n",
       "      <td>-BlitzN9ne</td>\n",
       "      <td>m</td>\n",
       "      <td>0.027725</td>\n",
       "      <td>21.0</td>\n",
       "      <td>85.0</td>\n",
       "      <td>15.0</td>\n",
       "      <td>50.0</td>\n",
       "      <td>50.0</td>\n",
       "      <td>30.0</td>\n",
       "    </tr>\n",
       "  </tbody>\n",
       "</table>\n",
       "</div>"
      ],
      "text/plain": [
       "        author gender  is_female_proba   age  openness  conscientiousness  extraversion  agreeableness  neuroticism\n",
       "0  -Areopagan-      m         0.162758   NaN      99.0               96.0          60.0            0.0          1.0\n",
       "1    -BigSexy-      m         0.034609  23.0      92.0                1.0          18.0           39.0          4.0\n",
       "2   -BlitzN9ne      m         0.027725  21.0      85.0               15.0          50.0           50.0         30.0"
      ]
     },
     "execution_count": 16,
     "metadata": {},
     "output_type": "execute_result"
    }
   ],
   "source": [
    "# features to keep\n",
    "feats = [\"author\", \"gender\", \"is_female_proba\", \"age\"] + ocean\n",
    "print(f\"Features to keep (OCEAN and demographic):\\n{feats}\")\n",
    "\n",
    "# OCEAN dataset\n",
    "df_ocean = df_ocean.loc[:, feats].copy()\n",
    "\n",
    "# reset the indices starting from 0\n",
    "df_ocean = df_ocean.reset_index(drop = True)\n",
    "print(f\"Shape of OCEAN profile dataset:\\n{df_ocean.shape}\")\n",
    "df_ocean.head(3)"
   ]
  },
  {
   "cell_type": "code",
   "execution_count": 14,
   "metadata": {},
   "outputs": [
    {
     "data": {
      "text/plain": [
       "64.0"
      ]
     },
     "execution_count": 14,
     "metadata": {},
     "output_type": "execute_result"
    }
   ],
   "source": [
    "df_ocean[\"age\"].max()"
   ]
  },
  {
   "cell_type": "markdown",
   "metadata": {},
   "source": [
    "Missing values"
   ]
  },
  {
   "cell_type": "code",
   "execution_count": 18,
   "metadata": {},
   "outputs": [
    {
     "data": {
      "text/plain": [
       "author                 0\n",
       "gender               954\n",
       "is_female_proba        0\n",
       "age                  930\n",
       "openness               0\n",
       "conscientiousness      0\n",
       "extraversion           0\n",
       "agreeableness          0\n",
       "neuroticism            0\n",
       "dtype: int64"
      ]
     },
     "execution_count": 18,
     "metadata": {},
     "output_type": "execute_result"
    }
   ],
   "source": [
    "# check for number of missing values for each feature\n",
    "df_ocean.isna().sum()"
   ]
  },
  {
   "cell_type": "markdown",
   "metadata": {},
   "source": [
    "Imputation of gender information"
   ]
  },
  {
   "cell_type": "code",
   "execution_count": 19,
   "metadata": {},
   "outputs": [],
   "source": [
    "# if is_female_proba > thr, return f\n",
    "# if is_female_proba < 1-thr, return m\n",
    "infer_miss_gender(df_ocean, \"gender\", \"is_female_proba\", thr = 0.7)"
   ]
  },
  {
   "cell_type": "code",
   "execution_count": 20,
   "metadata": {},
   "outputs": [
    {
     "data": {
      "text/plain": [
       "206"
      ]
     },
     "execution_count": 20,
     "metadata": {},
     "output_type": "execute_result"
    }
   ],
   "source": [
    "# check missing values after imputation\n",
    "df_ocean[\"gender\"].isna().sum()"
   ]
  },
  {
   "cell_type": "markdown",
   "metadata": {},
   "source": [
    "Clean profiles"
   ]
  },
  {
   "cell_type": "code",
   "execution_count": 21,
   "metadata": {},
   "outputs": [
    {
     "name": "stdout",
     "output_type": "stream",
     "text": [
      "Shape of cleaned OCEAN profile dataset:\n",
      "(1362, 9)\n"
     ]
    }
   ],
   "source": [
    "# remove authors where new_gender has missing values\n",
    "df_clean = df_ocean.dropna(subset = \"gender\")\n",
    "\n",
    "# shape of cleaned profile dataset\n",
    "print(f\"Shape of cleaned OCEAN profile dataset:\\n{df_clean.shape}\")"
   ]
  },
  {
   "cell_type": "code",
   "execution_count": 22,
   "metadata": {},
   "outputs": [
    {
     "data": {
      "text/html": [
       "<div>\n",
       "<style scoped>\n",
       "    .dataframe tbody tr th:only-of-type {\n",
       "        vertical-align: middle;\n",
       "    }\n",
       "\n",
       "    .dataframe tbody tr th {\n",
       "        vertical-align: top;\n",
       "    }\n",
       "\n",
       "    .dataframe thead th {\n",
       "        text-align: right;\n",
       "    }\n",
       "</style>\n",
       "<table border=\"1\" class=\"dataframe\">\n",
       "  <thead>\n",
       "    <tr style=\"text-align: right;\">\n",
       "      <th></th>\n",
       "      <th>author</th>\n",
       "      <th>gender</th>\n",
       "      <th>age</th>\n",
       "      <th>openness</th>\n",
       "      <th>conscientiousness</th>\n",
       "      <th>extraversion</th>\n",
       "      <th>agreeableness</th>\n",
       "      <th>neuroticism</th>\n",
       "    </tr>\n",
       "  </thead>\n",
       "  <tbody>\n",
       "    <tr>\n",
       "      <th>0</th>\n",
       "      <td>-Areopagan-</td>\n",
       "      <td>m</td>\n",
       "      <td>NaN</td>\n",
       "      <td>99.0</td>\n",
       "      <td>96.0</td>\n",
       "      <td>60.0</td>\n",
       "      <td>0.0</td>\n",
       "      <td>1.0</td>\n",
       "    </tr>\n",
       "    <tr>\n",
       "      <th>1</th>\n",
       "      <td>-BigSexy-</td>\n",
       "      <td>m</td>\n",
       "      <td>23.0</td>\n",
       "      <td>92.0</td>\n",
       "      <td>1.0</td>\n",
       "      <td>18.0</td>\n",
       "      <td>39.0</td>\n",
       "      <td>4.0</td>\n",
       "    </tr>\n",
       "    <tr>\n",
       "      <th>2</th>\n",
       "      <td>-BlitzN9ne</td>\n",
       "      <td>m</td>\n",
       "      <td>21.0</td>\n",
       "      <td>85.0</td>\n",
       "      <td>15.0</td>\n",
       "      <td>50.0</td>\n",
       "      <td>50.0</td>\n",
       "      <td>30.0</td>\n",
       "    </tr>\n",
       "  </tbody>\n",
       "</table>\n",
       "</div>"
      ],
      "text/plain": [
       "        author gender   age  openness  conscientiousness  extraversion  agreeableness  neuroticism\n",
       "0  -Areopagan-      m   NaN      99.0               96.0          60.0            0.0          1.0\n",
       "1    -BigSexy-      m  23.0      92.0                1.0          18.0           39.0          4.0\n",
       "2   -BlitzN9ne      m  21.0      85.0               15.0          50.0           50.0         30.0"
      ]
     },
     "execution_count": 22,
     "metadata": {},
     "output_type": "execute_result"
    }
   ],
   "source": [
    "# reorder columns\n",
    "df_clean = df_clean[[\"author\", \"gender\", \"age\", \"openness\", \"conscientiousness\", \"extraversion\", \"agreeableness\", \"neuroticism\"]]\n",
    "df_clean.head(3)"
   ]
  },
  {
   "cell_type": "code",
   "execution_count": null,
   "metadata": {},
   "outputs": [
    {
     "data": {
      "text/plain": [
       "15"
      ]
     },
     "execution_count": 37,
     "metadata": {},
     "output_type": "execute_result"
    }
   ],
   "source": [
    "df_clean[df_clean[\"gender\"] == \"t\"]"
   ]
  },
  {
   "cell_type": "markdown",
   "metadata": {},
   "source": [
    "Distributions"
   ]
  },
  {
   "cell_type": "code",
   "execution_count": 72,
   "metadata": {},
   "outputs": [
    {
     "data": {
      "image/png": "[encoded data removed]",
      "text/plain": [
       "<Figure size 800x400 with 1 Axes>"
      ]
     },
     "metadata": {},
     "output_type": "display_data"
    },
    {
     "data": {
      "image/png": "[encoded data removed]",
      "text/plain": [
       "<Figure size 800x400 with 1 Axes>"
      ]
     },
     "metadata": {},
     "output_type": "display_data"
    },
    {
     "data": {
      "image/png": "[encoded data removed]",
      "text/plain": [
       "<Figure size 800x400 with 1 Axes>"
      ]
     },
     "metadata": {},
     "output_type": "display_data"
    },
    {
     "data": {
      "image/png": "[encoded data removed]",
      "text/plain": [
       "<Figure size 800x400 with 1 Axes>"
      ]
     },
     "metadata": {},
     "output_type": "display_data"
    },
    {
     "data": {
      "image/png": "[encoded data removed]",
      "text/plain": [
       "<Figure size 800x400 with 1 Axes>"
      ]
     },
     "metadata": {},
     "output_type": "display_data"
    },
    {
     "data": {
      "image/png": "[encoded data removed]",
      "text/plain": [
       "<Figure size 800x400 with 1 Axes>"
      ]
     },
     "metadata": {},
     "output_type": "display_data"
    },
    {
     "data": {
      "image/png": "[encoded data removed]",
      "text/plain": [
       "<Figure size 800x400 with 1 Axes>"
      ]
     },
     "metadata": {},
     "output_type": "display_data"
    }
   ],
   "source": [
    "plot_kde(df_clean, [\"openness\", \"conscientiousness\", \"extraversion\", \"agreeableness\", \"neuroticism\"], \"OCEAN Scores\")\n",
    "plot_counts(df_clean, \"gender\", \"Gender\")\n",
    "plot_cond_kde(df_clean, [\"openness\", \"conscientiousness\", \"extraversion\", \"agreeableness\", \"neuroticism\"], \"gender\")"
   ]
  },
  {
   "cell_type": "markdown",
   "metadata": {},
   "source": [
    "Store clean profiles"
   ]
  },
  {
   "cell_type": "code",
   "execution_count": 14,
   "metadata": {},
   "outputs": [],
   "source": [
    "# store the clean user profiles dataset\n",
    "df_clean.to_csv(\"../original_data/pandora/profiles_clean.csv\", index = False, encoding = \"utf-8\")"
   ]
  },
  {
   "cell_type": "markdown",
   "metadata": {},
   "source": [
    "### PANDORA dataset merging\n",
    "Now that we have the profile data we need, we (inner) join the comments with the profiles, to retrieve the comments we are interested in."
   ]
  },
  {
   "cell_type": "markdown",
   "metadata": {},
   "source": [
    "Encoding check"
   ]
  },
  {
   "cell_type": "code",
   "execution_count": 15,
   "metadata": {},
   "outputs": [
    {
     "name": "stdout",
     "output_type": "stream",
     "text": [
      "{'encoding': 'utf-8', 'confidence': 0.87625, 'language': ''}\n"
     ]
    }
   ],
   "source": [
    "# checking encoding of comments (i found errors during analysis, especially accents)\n",
    "with open(\"../original_data/pandora/comments.csv\", \"rb\") as f:\n",
    "    result = chardet.detect(f.read(10000))\n",
    "    print(result)"
   ]
  },
  {
   "cell_type": "markdown",
   "metadata": {},
   "source": [
    "Splitting dataset\n",
    "(to make it fit in memory)"
   ]
  },
  {
   "cell_type": "code",
   "execution_count": 16,
   "metadata": {},
   "outputs": [],
   "source": [
    "in_file = \"../original_data/pandora/comments.csv\"\n",
    "out_file_1 = \"../original_data/pandora/comments_1.csv\"\n",
    "out_file_2 = \"../original_data/pandora/comments_2.csv\""
   ]
  },
  {
   "cell_type": "code",
   "execution_count": null,
   "metadata": {},
   "outputs": [
    {
     "name": "stdout",
     "output_type": "stream",
     "text": [
      "Total lines in ../original_data/pandora/comments.csv: 16638070\n",
      "Splitting completed: ../original_data/pandora/comments_1.csv and ../original_data/pandora/comments_2.csv\n"
     ]
    }
   ],
   "source": [
    "# split the comments\n",
    "#split_real_data(in_file, out_file_1, out_file_2)"
   ]
  },
  {
   "cell_type": "markdown",
   "metadata": {},
   "source": [
    "##### First dataset of comments"
   ]
  },
  {
   "cell_type": "code",
   "execution_count": 17,
   "metadata": {},
   "outputs": [
    {
     "name": "stdout",
     "output_type": "stream",
     "text": [
      "Shape of the comments_1 dataset:\n",
      "(8319035, 16)\n",
      "Shape of the profile dataset:\n",
      "(1362, 8)\n"
     ]
    }
   ],
   "source": [
    "# first dataset of comments\n",
    "df_comm_1 = pd.read_csv(\"../original_data/pandora/comments_1.csv\", encoding = \"utf-8\")\n",
    "# dataset of user profiles\n",
    "df_prf = pd.read_csv(\"../original_data/pandora/profiles_clean.csv\", encoding = \"utf-8\")\n",
    "\n",
    "# shapes of the datasets\n",
    "print(f\"Shape of the comments_1 dataset:\\n{df_comm_1.shape}\")\n",
    "print(f\"Shape of the profile dataset:\\n{df_prf.shape}\")"
   ]
  },
  {
   "cell_type": "code",
   "execution_count": 18,
   "metadata": {},
   "outputs": [
    {
     "name": "stdout",
     "output_type": "stream",
     "text": [
      "Shape of the first PANDORA dataset:\n",
      "(299164, 23)\n"
     ]
    }
   ],
   "source": [
    "# inner join and reset indices\n",
    "df_1 = pd.merge(df_comm_1, df_prf, on = \"author\", how = \"inner\").reset_index(drop = True)\n",
    "# shape of the first pandora dataset\n",
    "print(f\"Shape of the first PANDORA dataset:\\n{df_1.shape}\")"
   ]
  },
  {
   "cell_type": "code",
   "execution_count": 19,
   "metadata": {},
   "outputs": [],
   "source": [
    "# store the first dataset and reset memory\n",
    "df_1.to_csv(\"../original_data/pandora/PANDORA_1.csv\", index = False, encoding = \"utf-8\")\n",
    "%reset -f"
   ]
  },
  {
   "cell_type": "markdown",
   "metadata": {},
   "source": [
    "##### Second dataset of comments"
   ]
  },
  {
   "cell_type": "code",
   "execution_count": 20,
   "metadata": {},
   "outputs": [],
   "source": [
    "from scripts.merge_data import *"
   ]
  },
  {
   "cell_type": "code",
   "execution_count": 21,
   "metadata": {},
   "outputs": [
    {
     "name": "stdout",
     "output_type": "stream",
     "text": [
      "Shape of the comments_2 dataset:\n",
      "(8318176, 16)\n",
      "Shape of the profile dataset:\n",
      "(1362, 8)\n"
     ]
    }
   ],
   "source": [
    "# second dataset of comments\n",
    "df_comm_2 = pd.read_csv(\"../original_data/pandora/comments_2.csv\", encoding = \"utf-8\")\n",
    "# dataset of user profiles\n",
    "df_prf = pd.read_csv(\"../original_data/pandora/profiles_clean.csv\", encoding = \"utf-8\")\n",
    "\n",
    "# shapes of the datasets\n",
    "print(f\"Shape of the comments_2 dataset:\\n{df_comm_2.shape}\")\n",
    "print(f\"Shape of the profile dataset:\\n{df_prf.shape}\")"
   ]
  },
  {
   "cell_type": "code",
   "execution_count": 22,
   "metadata": {},
   "outputs": [
    {
     "name": "stdout",
     "output_type": "stream",
     "text": [
      "Shape of the second PANDORA dataset:\n",
      "(2434341, 23)\n"
     ]
    }
   ],
   "source": [
    "# inner join and reset indices\n",
    "df_2 = pd.merge(df_comm_2, df_prf, on = \"author\", how = \"inner\").reset_index(drop = True)\n",
    "# shape of the second pandora dataset\n",
    "print(f\"Shape of the second PANDORA dataset:\\n{df_2.shape}\")"
   ]
  },
  {
   "cell_type": "code",
   "execution_count": 23,
   "metadata": {},
   "outputs": [],
   "source": [
    "# store the first dataset and reset memory\n",
    "df_2.to_csv(\"../original_data/pandora/PANDORA_2.csv\", index = False, encoding = \"utf-8\")\n",
    "%reset -f"
   ]
  },
  {
   "cell_type": "markdown",
   "metadata": {},
   "source": [
    "##### Concatenate and remove temporary files"
   ]
  },
  {
   "cell_type": "code",
   "execution_count": null,
   "metadata": {},
   "outputs": [],
   "source": [
    "from scripts.merge_data import *"
   ]
  },
  {
   "cell_type": "code",
   "execution_count": 2,
   "metadata": {},
   "outputs": [],
   "source": [
    "# datasets of comments to stack\n",
    "df_1 = pd.read_csv(\"../original_data/pandora/PANDORA_1.csv\", encoding = \"utf-8\")\n",
    "df_2 = pd.read_csv(\"../original_data/pandora/PANDORA_2.csv\", encoding = \"utf-8\")"
   ]
  },
  {
   "cell_type": "code",
   "execution_count": 3,
   "metadata": {},
   "outputs": [
    {
     "name": "stdout",
     "output_type": "stream",
     "text": [
      "Shape of the PANDORA dataset:\n",
      "(2733505, 23)\n"
     ]
    },
    {
     "data": {
      "text/html": [
       "<div>\n",
       "<style scoped>\n",
       "    .dataframe tbody tr th:only-of-type {\n",
       "        vertical-align: middle;\n",
       "    }\n",
       "\n",
       "    .dataframe tbody tr th {\n",
       "        vertical-align: top;\n",
       "    }\n",
       "\n",
       "    .dataframe thead th {\n",
       "        text-align: right;\n",
       "    }\n",
       "</style>\n",
       "<table border=\"1\" class=\"dataframe\">\n",
       "  <thead>\n",
       "    <tr style=\"text-align: right;\">\n",
       "      <th></th>\n",
       "      <th>author</th>\n",
       "      <th>author_flair_text</th>\n",
       "      <th>body</th>\n",
       "      <th>downs</th>\n",
       "      <th>created_utc</th>\n",
       "      <th>subreddit_id</th>\n",
       "      <th>link_id</th>\n",
       "      <th>parent_id</th>\n",
       "      <th>score</th>\n",
       "      <th>controversiality</th>\n",
       "      <th>gilded</th>\n",
       "      <th>id</th>\n",
       "      <th>subreddit</th>\n",
       "      <th>ups</th>\n",
       "      <th>word_count</th>\n",
       "      <th>word_count_quoteless</th>\n",
       "      <th>gender</th>\n",
       "      <th>age</th>\n",
       "      <th>openness</th>\n",
       "      <th>conscientiousness</th>\n",
       "      <th>extraversion</th>\n",
       "      <th>agreeableness</th>\n",
       "      <th>neuroticism</th>\n",
       "    </tr>\n",
       "  </thead>\n",
       "  <tbody>\n",
       "    <tr>\n",
       "      <th>0</th>\n",
       "      <td>MetricExpansion</td>\n",
       "      <td>ENTP</td>\n",
       "      <td>Those stats come from the test. [Echoing the c...</td>\n",
       "      <td>0.0</td>\n",
       "      <td>1.474429e+09</td>\n",
       "      <td>t5_2s90r</td>\n",
       "      <td>t3_53plrw</td>\n",
       "      <td>t3_53plrw</td>\n",
       "      <td>6.0</td>\n",
       "      <td>0.0</td>\n",
       "      <td>0.0</td>\n",
       "      <td>d7vkyrf</td>\n",
       "      <td>mbti</td>\n",
       "      <td>6.0</td>\n",
       "      <td>151.0</td>\n",
       "      <td>149</td>\n",
       "      <td>m</td>\n",
       "      <td>23.0</td>\n",
       "      <td>70.0</td>\n",
       "      <td>15.0</td>\n",
       "      <td>15.0</td>\n",
       "      <td>30.0</td>\n",
       "      <td>50.0</td>\n",
       "    </tr>\n",
       "  </tbody>\n",
       "</table>\n",
       "</div>"
      ],
      "text/plain": [
       "            author author_flair_text                                               body  downs   created_utc subreddit_id    link_id  parent_id  score  controversiality  gilded       id subreddit  ups  word_count  word_count_quoteless gender   age  openness  conscientiousness  extraversion  agreeableness  neuroticism\n",
       "0  MetricExpansion              ENTP  Those stats come from the test. [Echoing the c...    0.0  1.474429e+09     t5_2s90r  t3_53plrw  t3_53plrw    6.0               0.0     0.0  d7vkyrf      mbti  6.0       151.0                   149      m  23.0      70.0               15.0          15.0           30.0         50.0"
      ]
     },
     "execution_count": 3,
     "metadata": {},
     "output_type": "execute_result"
    }
   ],
   "source": [
    "# concatenate the two datasets\n",
    "df = pd.concat([df_1, df_2], ignore_index = True)\n",
    "# shape of the full pandora dataset\n",
    "print(f\"Shape of the PANDORA dataset:\\n{df.shape}\")\n",
    "df.head(1)"
   ]
  },
  {
   "cell_type": "code",
   "execution_count": 4,
   "metadata": {},
   "outputs": [],
   "source": [
    "# store the full dataset and reset memory\n",
    "df.to_csv(\"../original_data/pandora/PANDORA_original.csv\", index = False, encoding = \"utf-8\")\n",
    "%reset -f"
   ]
  },
  {
   "cell_type": "markdown",
   "metadata": {},
   "source": [
    "Delete files"
   ]
  },
  {
   "cell_type": "code",
   "execution_count": 6,
   "metadata": {},
   "outputs": [],
   "source": [
    "import os"
   ]
  },
  {
   "cell_type": "code",
   "execution_count": 7,
   "metadata": {},
   "outputs": [
    {
     "name": "stdout",
     "output_type": "stream",
     "text": [
      "PANDORA_1.csv successfully deleted!\n",
      "PANDORA_2.csv successfully deleted!\n"
     ]
    }
   ],
   "source": [
    "# temporary files to be deleted\n",
    "to_delete = [\"PANDORA_1.csv\", \"PANDORA_2.csv\"]\n",
    "\n",
    "# if file exists, delete the file\n",
    "for f in to_delete:\n",
    "    if os.path.exists(f\"../original_data/pandora/{f}\"):\n",
    "        os.remove(f\"../original_data/pandora/{f}\")\n",
    "        print(f\"{f} successfully deleted!\")\n",
    "    else:\n",
    "        print(\"File not found.\")"
   ]
  },
  {
   "cell_type": "markdown",
   "metadata": {},
   "source": [
    "## Simulated users data\n",
    "- in the end we use only the ex-ante simulated data"
   ]
  },
  {
   "cell_type": "code",
   "execution_count": 1,
   "metadata": {},
   "outputs": [],
   "source": [
    "from scripts.merge_data import *"
   ]
  },
  {
   "cell_type": "markdown",
   "metadata": {},
   "source": [
    "### Experiments: ex-ante"
   ]
  },
  {
   "cell_type": "code",
   "execution_count": 2,
   "metadata": {},
   "outputs": [],
   "source": [
    "# moderations\n",
    "mod = [\"ofsa\", \"neutral\", \"empathizing\", \"prescriptive\"]\n",
    "# directory path where datasets are stored\n",
    "dir_path = \"../original_data/simulator/cosmos_data/\""
   ]
  },
  {
   "cell_type": "markdown",
   "metadata": {},
   "source": [
    "##### Merge data and annotate with PMI type"
   ]
  },
  {
   "cell_type": "code",
   "execution_count": 3,
   "metadata": {},
   "outputs": [
    {
     "name": "stdout",
     "output_type": "stream",
     "text": [
      "Loading exp_ofsa_5.csv:\n",
      "(1500, 48)\n",
      "\n",
      "Loading exp_ofsa_7.csv:\n",
      "(1500, 48)\n",
      "\n",
      "Loading exp_ofsa_17.csv:\n",
      "(1500, 48)\n",
      "\n",
      "Loading exp_neutral_5.csv:\n",
      "(1500, 48)\n",
      "\n",
      "Loading exp_neutral_7.csv:\n",
      "(1500, 48)\n",
      "\n",
      "Loading exp_neutral_17.csv:\n",
      "(1500, 48)\n",
      "\n",
      "Loading exp_empathizing_5.csv:\n",
      "(1500, 48)\n",
      "\n",
      "Loading exp_empathizing_7.csv:\n",
      "(1500, 48)\n",
      "\n",
      "Loading exp_empathizing_17.csv:\n",
      "(1500, 48)\n",
      "\n",
      "Loading exp_prescriptive_5.csv:\n",
      "(1500, 48)\n",
      "\n",
      "Loading exp_prescriptive_7.csv:\n",
      "(1500, 48)\n",
      "\n",
      "Loading exp_prescriptive_17.csv:\n",
      "(1500, 48)\n",
      "\n",
      "ex ante data loaded successfully.\n",
      "\n",
      "\n"
     ]
    }
   ],
   "source": [
    "df_exante = merge_sim_data(mod, [5, 7, 17], dir_path, \"ex ante\")"
   ]
  },
  {
   "cell_type": "code",
   "execution_count": 4,
   "metadata": {},
   "outputs": [
    {
     "name": "stdout",
     "output_type": "stream",
     "text": [
      "Shape of ex-ante:\n",
      "(18000, 49)\n",
      "\n",
      "pmi_type\n",
      "ofsa            4500\n",
      "neutral         4500\n",
      "empathizing     4500\n",
      "prescriptive    4500\n",
      "Name: count, dtype: int64\n",
      "\n",
      "   user_id memory  time        seed topic  thread_id  root_id  parent_id  node_id                                           b_prompt                                           a_prompt                                           b_output                                           a_output  b_tags  a_tags b_content a_content  b_toxicity  a_toxicity  censored  banned  out_degree  simulate_seed  thread_prob  comment_prob  intervene    ban  ofsa  tolerance    username  age gender   race  income    education sex orientation political leaning religion agreeableness openness conscientiousness extraversion neuroticism intervention moderate_prompt  do_sample  temperature  max_new_tokens pmi_type\n",
      "0       24    NaN     0  2386949249   art          0        0        NaN        0  You are now role-playing as a social network u...  You are now role-playing as a social network u...  \\n\\nExample:\\n\\nTo write a post as seztomabel:...  \\n\\nExample:\\n\\nTo write a post as seztomabel:...   False   False       NaN       NaN         NaN         NaN     False   False           0              5          0.5             1       True  False  True        NaN  seztomabel   31   male  white  medium  high school    heterosexual        republican  atheist        medium   medium               low       medium         low          NaN             NaN       True          0.8             500     ofsa\n"
     ]
    }
   ],
   "source": [
    "print(f\"Shape of ex-ante:\\n{df_exante.shape}\\n\")\n",
    "# number of instances per pmi type\n",
    "print(f\"{df_exante['pmi_type'].value_counts()}\\n\")\n",
    "# visualize\n",
    "print(df_exante.head(1))"
   ]
  },
  {
   "cell_type": "code",
   "execution_count": 5,
   "metadata": {},
   "outputs": [],
   "source": [
    "# replace spaces with underscores in the features\n",
    "df_exante = df_exante.rename(columns = lambda x: x.replace(\" \", \"_\"))"
   ]
  },
  {
   "cell_type": "code",
   "execution_count": 6,
   "metadata": {},
   "outputs": [
    {
     "name": "stdout",
     "output_type": "stream",
     "text": [
      "memory              4106\n",
      "topic               8748\n",
      "parent_id           9252\n",
      "b_output             696\n",
      "a_output            1350\n",
      "b_content           5124\n",
      "a_content           5361\n",
      "b_toxicity          5124\n",
      "a_toxicity          5361\n",
      "tolerance          18000\n",
      "intervention       15850\n",
      "moderate_prompt    16420\n",
      "dtype: int64\n",
      "\n"
     ]
    }
   ],
   "source": [
    "# features with missing values\n",
    "print(f\"{df_exante.isna().sum()[df_exante.isna().sum() != 0]}\\n\")"
   ]
  },
  {
   "cell_type": "code",
   "execution_count": 7,
   "metadata": {},
   "outputs": [
    {
     "name": "stdout",
     "output_type": "stream",
     "text": [
      "intervene\n",
      "True    18000\n",
      "Name: count, dtype: int64\n",
      "ban\n",
      "False    18000\n",
      "Name: count, dtype: int64\n"
     ]
    }
   ],
   "source": [
    "# value counts for some features\n",
    "feats = [\"intervene\", \"ban\"]\n",
    "\n",
    "for f in feats:\n",
    "    print(f\"{df_exante[f].value_counts()}\")"
   ]
  },
  {
   "cell_type": "code",
   "execution_count": 8,
   "metadata": {},
   "outputs": [
    {
     "data": {
      "text/plain": [
       "30"
      ]
     },
     "execution_count": 8,
     "metadata": {},
     "output_type": "execute_result"
    }
   ],
   "source": [
    "# number of authors\n",
    "len(df_exante[\"user_id\"].unique())"
   ]
  },
  {
   "cell_type": "markdown",
   "metadata": {},
   "source": [
    "Feature selection"
   ]
  },
  {
   "cell_type": "code",
   "execution_count": 9,
   "metadata": {},
   "outputs": [
    {
     "name": "stdout",
     "output_type": "stream",
     "text": [
      "Series([], Name: username, dtype: int64)\n"
     ]
    }
   ],
   "source": [
    "# check mismatches between user_id and username\n",
    "mismatches = df_exante.groupby('user_id')['username'].nunique()\n",
    "mismatches = mismatches[mismatches > 1]\n",
    "print(mismatches)"
   ]
  },
  {
   "cell_type": "code",
   "execution_count": 10,
   "metadata": {},
   "outputs": [
    {
     "name": "stdout",
     "output_type": "stream",
     "text": [
      "Shape:\n",
      "(18000, 22)\n",
      "\n"
     ]
    }
   ],
   "source": [
    "feats_to_keep = [\"username\", \"thread_id\", \"root_id\", \"parent_id\", \"node_id\", \"b_content\", \n",
    "                 \"a_content\", \"age\", \"gender\", \"race\", \"income\", \"education\",\n",
    "                 \"sex_orientation\", \"political_leaning\", \"religion\", \"agreeableness\",\n",
    "                 \"openness\", \"conscientiousness\", \"extraversion\", \"neuroticism\",\n",
    "                 \"pmi_type\", \"simulate_seed\"]\n",
    "\n",
    "# keep only relevant features\n",
    "df_exante = df_exante.loc[:, feats_to_keep].copy(deep = True)\n",
    "\n",
    "print(f\"Shape:\\n{df_exante.shape}\\n\")"
   ]
  },
  {
   "cell_type": "code",
   "execution_count": 11,
   "metadata": {},
   "outputs": [
    {
     "data": {
      "text/html": [
       "<div>\n",
       "<style scoped>\n",
       "    .dataframe tbody tr th:only-of-type {\n",
       "        vertical-align: middle;\n",
       "    }\n",
       "\n",
       "    .dataframe tbody tr th {\n",
       "        vertical-align: top;\n",
       "    }\n",
       "\n",
       "    .dataframe thead th {\n",
       "        text-align: right;\n",
       "    }\n",
       "</style>\n",
       "<table border=\"1\" class=\"dataframe\">\n",
       "  <thead>\n",
       "    <tr style=\"text-align: right;\">\n",
       "      <th></th>\n",
       "      <th>username</th>\n",
       "      <th>thread_id</th>\n",
       "      <th>root_id</th>\n",
       "      <th>parent_id</th>\n",
       "      <th>node_id</th>\n",
       "      <th>b_content</th>\n",
       "      <th>a_content</th>\n",
       "      <th>age</th>\n",
       "      <th>gender</th>\n",
       "      <th>race</th>\n",
       "      <th>income</th>\n",
       "      <th>education</th>\n",
       "      <th>sex_orientation</th>\n",
       "      <th>political_leaning</th>\n",
       "      <th>religion</th>\n",
       "      <th>agreeableness</th>\n",
       "      <th>openness</th>\n",
       "      <th>conscientiousness</th>\n",
       "      <th>extraversion</th>\n",
       "      <th>neuroticism</th>\n",
       "      <th>pmi_type</th>\n",
       "      <th>simulate_seed</th>\n",
       "    </tr>\n",
       "  </thead>\n",
       "  <tbody>\n",
       "    <tr>\n",
       "      <th>0</th>\n",
       "      <td>seztomabel</td>\n",
       "      <td>0</td>\n",
       "      <td>0</td>\n",
       "      <td>NaN</td>\n",
       "      <td>0</td>\n",
       "      <td>NaN</td>\n",
       "      <td>NaN</td>\n",
       "      <td>31</td>\n",
       "      <td>male</td>\n",
       "      <td>white</td>\n",
       "      <td>medium</td>\n",
       "      <td>high school</td>\n",
       "      <td>heterosexual</td>\n",
       "      <td>republican</td>\n",
       "      <td>atheist</td>\n",
       "      <td>medium</td>\n",
       "      <td>medium</td>\n",
       "      <td>low</td>\n",
       "      <td>medium</td>\n",
       "      <td>low</td>\n",
       "      <td>ofsa</td>\n",
       "      <td>5</td>\n",
       "    </tr>\n",
       "    <tr>\n",
       "      <th>1</th>\n",
       "      <td>EvilMEMEius</td>\n",
       "      <td>1</td>\n",
       "      <td>1</td>\n",
       "      <td>NaN</td>\n",
       "      <td>1</td>\n",
       "      <td>NaN</td>\n",
       "      <td>NaN</td>\n",
       "      <td>32</td>\n",
       "      <td>female</td>\n",
       "      <td>white</td>\n",
       "      <td>medium</td>\n",
       "      <td>middle school</td>\n",
       "      <td>homosexual</td>\n",
       "      <td>democratic</td>\n",
       "      <td>atheist</td>\n",
       "      <td>very low</td>\n",
       "      <td>low</td>\n",
       "      <td>very high</td>\n",
       "      <td>very high</td>\n",
       "      <td>very low</td>\n",
       "      <td>ofsa</td>\n",
       "      <td>5</td>\n",
       "    </tr>\n",
       "    <tr>\n",
       "      <th>2</th>\n",
       "      <td>joylukclub</td>\n",
       "      <td>1</td>\n",
       "      <td>1</td>\n",
       "      <td>1.0</td>\n",
       "      <td>2</td>\n",
       "      <td>Since I strongly lean towards the republican s...</td>\n",
       "      <td>Since I strongly lean towards the republican s...</td>\n",
       "      <td>21</td>\n",
       "      <td>female</td>\n",
       "      <td>white</td>\n",
       "      <td>low</td>\n",
       "      <td>high school</td>\n",
       "      <td>heterosexual</td>\n",
       "      <td>republican</td>\n",
       "      <td>atheist</td>\n",
       "      <td>low</td>\n",
       "      <td>medium</td>\n",
       "      <td>very high</td>\n",
       "      <td>very low</td>\n",
       "      <td>very high</td>\n",
       "      <td>ofsa</td>\n",
       "      <td>5</td>\n",
       "    </tr>\n",
       "  </tbody>\n",
       "</table>\n",
       "</div>"
      ],
      "text/plain": [
       "      username  thread_id  root_id  parent_id  node_id                                          b_content                                          a_content  age  gender   race  income      education sex_orientation political_leaning religion agreeableness openness conscientiousness extraversion neuroticism pmi_type  simulate_seed\n",
       "0   seztomabel          0        0        NaN        0                                                NaN                                                NaN   31    male  white  medium    high school    heterosexual        republican  atheist        medium   medium               low       medium         low     ofsa              5\n",
       "1  EvilMEMEius          1        1        NaN        1                                                NaN                                                NaN   32  female  white  medium  middle school      homosexual        democratic  atheist      very low      low         very high    very high    very low     ofsa              5\n",
       "2   joylukclub          1        1        1.0        2  Since I strongly lean towards the republican s...  Since I strongly lean towards the republican s...   21  female  white     low    high school    heterosexual        republican  atheist           low   medium         very high     very low   very high     ofsa              5"
      ]
     },
     "execution_count": 11,
     "metadata": {},
     "output_type": "execute_result"
    }
   ],
   "source": [
    "df_exante.head(3)"
   ]
  },
  {
   "cell_type": "markdown",
   "metadata": {},
   "source": [
    "Restructure the data\n",
    "- since all moderation types have the same b_content, we attach new features for every related a_content (for every mod type)"
   ]
  },
  {
   "cell_type": "code",
   "execution_count": 12,
   "metadata": {},
   "outputs": [],
   "source": [
    "# add the a_contents for all mod types from position 7\n",
    "df_exante = organize_sim_data(df_exante, loc = 7)"
   ]
  },
  {
   "cell_type": "code",
   "execution_count": 13,
   "metadata": {},
   "outputs": [
    {
     "name": "stdout",
     "output_type": "stream",
     "text": [
      "Shape: (4500, 25)\n"
     ]
    },
    {
     "data": {
      "text/html": [
       "<div>\n",
       "<style scoped>\n",
       "    .dataframe tbody tr th:only-of-type {\n",
       "        vertical-align: middle;\n",
       "    }\n",
       "\n",
       "    .dataframe tbody tr th {\n",
       "        vertical-align: top;\n",
       "    }\n",
       "\n",
       "    .dataframe thead th {\n",
       "        text-align: right;\n",
       "    }\n",
       "</style>\n",
       "<table border=\"1\" class=\"dataframe\">\n",
       "  <thead>\n",
       "    <tr style=\"text-align: right;\">\n",
       "      <th></th>\n",
       "      <th>username</th>\n",
       "      <th>thread_id</th>\n",
       "      <th>root_id</th>\n",
       "      <th>parent_id</th>\n",
       "      <th>node_id</th>\n",
       "      <th>b_content</th>\n",
       "      <th>a_content_ofsa</th>\n",
       "      <th>a_content_neut</th>\n",
       "      <th>a_content_emp</th>\n",
       "      <th>a_content_pres</th>\n",
       "      <th>age</th>\n",
       "      <th>gender</th>\n",
       "      <th>race</th>\n",
       "      <th>income</th>\n",
       "      <th>education</th>\n",
       "      <th>sex_orientation</th>\n",
       "      <th>political_leaning</th>\n",
       "      <th>religion</th>\n",
       "      <th>agreeableness</th>\n",
       "      <th>openness</th>\n",
       "      <th>conscientiousness</th>\n",
       "      <th>extraversion</th>\n",
       "      <th>neuroticism</th>\n",
       "      <th>pmi_type</th>\n",
       "      <th>simulate_seed</th>\n",
       "    </tr>\n",
       "  </thead>\n",
       "  <tbody>\n",
       "    <tr>\n",
       "      <th>0</th>\n",
       "      <td>seztomabel</td>\n",
       "      <td>0</td>\n",
       "      <td>0</td>\n",
       "      <td>NaN</td>\n",
       "      <td>0</td>\n",
       "      <td>NaN</td>\n",
       "      <td>NaN</td>\n",
       "      <td>NaN</td>\n",
       "      <td>NaN</td>\n",
       "      <td>NaN</td>\n",
       "      <td>31</td>\n",
       "      <td>male</td>\n",
       "      <td>white</td>\n",
       "      <td>medium</td>\n",
       "      <td>high school</td>\n",
       "      <td>heterosexual</td>\n",
       "      <td>republican</td>\n",
       "      <td>atheist</td>\n",
       "      <td>medium</td>\n",
       "      <td>medium</td>\n",
       "      <td>low</td>\n",
       "      <td>medium</td>\n",
       "      <td>low</td>\n",
       "      <td>ofsa</td>\n",
       "      <td>5</td>\n",
       "    </tr>\n",
       "    <tr>\n",
       "      <th>1</th>\n",
       "      <td>EvilMEMEius</td>\n",
       "      <td>1</td>\n",
       "      <td>1</td>\n",
       "      <td>NaN</td>\n",
       "      <td>1</td>\n",
       "      <td>NaN</td>\n",
       "      <td>NaN</td>\n",
       "      <td>NaN</td>\n",
       "      <td>NaN</td>\n",
       "      <td>NaN</td>\n",
       "      <td>32</td>\n",
       "      <td>female</td>\n",
       "      <td>white</td>\n",
       "      <td>medium</td>\n",
       "      <td>middle school</td>\n",
       "      <td>homosexual</td>\n",
       "      <td>democratic</td>\n",
       "      <td>atheist</td>\n",
       "      <td>very low</td>\n",
       "      <td>low</td>\n",
       "      <td>very high</td>\n",
       "      <td>very high</td>\n",
       "      <td>very low</td>\n",
       "      <td>ofsa</td>\n",
       "      <td>5</td>\n",
       "    </tr>\n",
       "    <tr>\n",
       "      <th>2</th>\n",
       "      <td>joylukclub</td>\n",
       "      <td>1</td>\n",
       "      <td>1</td>\n",
       "      <td>1.0</td>\n",
       "      <td>2</td>\n",
       "      <td>Since I strongly lean towards the republican s...</td>\n",
       "      <td>Since I strongly lean towards the republican s...</td>\n",
       "      <td>Since I strongly lean towards the republican s...</td>\n",
       "      <td>Since I strongly lean towards the republican s...</td>\n",
       "      <td>Since I strongly lean towards the republican s...</td>\n",
       "      <td>21</td>\n",
       "      <td>female</td>\n",
       "      <td>white</td>\n",
       "      <td>low</td>\n",
       "      <td>high school</td>\n",
       "      <td>heterosexual</td>\n",
       "      <td>republican</td>\n",
       "      <td>atheist</td>\n",
       "      <td>low</td>\n",
       "      <td>medium</td>\n",
       "      <td>very high</td>\n",
       "      <td>very low</td>\n",
       "      <td>very high</td>\n",
       "      <td>ofsa</td>\n",
       "      <td>5</td>\n",
       "    </tr>\n",
       "  </tbody>\n",
       "</table>\n",
       "</div>"
      ],
      "text/plain": [
       "      username  thread_id  root_id  parent_id  node_id                                          b_content                                     a_content_ofsa                                     a_content_neut                                      a_content_emp                                     a_content_pres  age  gender   race  income      education sex_orientation political_leaning religion agreeableness openness conscientiousness extraversion neuroticism pmi_type  simulate_seed\n",
       "0   seztomabel          0        0        NaN        0                                                NaN                                                NaN                                                NaN                                                NaN                                                NaN   31    male  white  medium    high school    heterosexual        republican  atheist        medium   medium               low       medium         low     ofsa              5\n",
       "1  EvilMEMEius          1        1        NaN        1                                                NaN                                                NaN                                                NaN                                                NaN                                                NaN   32  female  white  medium  middle school      homosexual        democratic  atheist      very low      low         very high    very high    very low     ofsa              5\n",
       "2   joylukclub          1        1        1.0        2  Since I strongly lean towards the republican s...  Since I strongly lean towards the republican s...  Since I strongly lean towards the republican s...  Since I strongly lean towards the republican s...  Since I strongly lean towards the republican s...   21  female  white     low    high school    heterosexual        republican  atheist           low   medium         very high     very low   very high     ofsa              5"
      ]
     },
     "execution_count": 13,
     "metadata": {},
     "output_type": "execute_result"
    }
   ],
   "source": [
    "print(f\"Shape: {df_exante.shape}\")\n",
    "df_exante.head(3)"
   ]
  },
  {
   "cell_type": "markdown",
   "metadata": {},
   "source": [
    "Add comment_id to keep track of before and after moderation contents, and other kinds of analyses in the future"
   ]
  },
  {
   "cell_type": "code",
   "execution_count": 14,
   "metadata": {},
   "outputs": [],
   "source": [
    "df_exante.insert(loc = 1, column = \"comment_id\", value = range(len(df_exante)))"
   ]
  },
  {
   "cell_type": "code",
   "execution_count": 15,
   "metadata": {},
   "outputs": [
    {
     "data": {
      "text/html": [
       "<div>\n",
       "<style scoped>\n",
       "    .dataframe tbody tr th:only-of-type {\n",
       "        vertical-align: middle;\n",
       "    }\n",
       "\n",
       "    .dataframe tbody tr th {\n",
       "        vertical-align: top;\n",
       "    }\n",
       "\n",
       "    .dataframe thead th {\n",
       "        text-align: right;\n",
       "    }\n",
       "</style>\n",
       "<table border=\"1\" class=\"dataframe\">\n",
       "  <thead>\n",
       "    <tr style=\"text-align: right;\">\n",
       "      <th></th>\n",
       "      <th>username</th>\n",
       "      <th>comment_id</th>\n",
       "      <th>thread_id</th>\n",
       "      <th>root_id</th>\n",
       "      <th>parent_id</th>\n",
       "      <th>node_id</th>\n",
       "      <th>b_content</th>\n",
       "      <th>a_content_ofsa</th>\n",
       "      <th>a_content_neut</th>\n",
       "      <th>a_content_emp</th>\n",
       "      <th>a_content_pres</th>\n",
       "      <th>age</th>\n",
       "      <th>gender</th>\n",
       "      <th>race</th>\n",
       "      <th>income</th>\n",
       "      <th>education</th>\n",
       "      <th>sex_orientation</th>\n",
       "      <th>political_leaning</th>\n",
       "      <th>religion</th>\n",
       "      <th>agreeableness</th>\n",
       "      <th>openness</th>\n",
       "      <th>conscientiousness</th>\n",
       "      <th>extraversion</th>\n",
       "      <th>neuroticism</th>\n",
       "      <th>pmi_type</th>\n",
       "      <th>simulate_seed</th>\n",
       "    </tr>\n",
       "  </thead>\n",
       "  <tbody>\n",
       "    <tr>\n",
       "      <th>0</th>\n",
       "      <td>seztomabel</td>\n",
       "      <td>0</td>\n",
       "      <td>0</td>\n",
       "      <td>0</td>\n",
       "      <td>NaN</td>\n",
       "      <td>0</td>\n",
       "      <td>NaN</td>\n",
       "      <td>NaN</td>\n",
       "      <td>NaN</td>\n",
       "      <td>NaN</td>\n",
       "      <td>NaN</td>\n",
       "      <td>31</td>\n",
       "      <td>male</td>\n",
       "      <td>white</td>\n",
       "      <td>medium</td>\n",
       "      <td>high school</td>\n",
       "      <td>heterosexual</td>\n",
       "      <td>republican</td>\n",
       "      <td>atheist</td>\n",
       "      <td>medium</td>\n",
       "      <td>medium</td>\n",
       "      <td>low</td>\n",
       "      <td>medium</td>\n",
       "      <td>low</td>\n",
       "      <td>ofsa</td>\n",
       "      <td>5</td>\n",
       "    </tr>\n",
       "    <tr>\n",
       "      <th>1</th>\n",
       "      <td>EvilMEMEius</td>\n",
       "      <td>1</td>\n",
       "      <td>1</td>\n",
       "      <td>1</td>\n",
       "      <td>NaN</td>\n",
       "      <td>1</td>\n",
       "      <td>NaN</td>\n",
       "      <td>NaN</td>\n",
       "      <td>NaN</td>\n",
       "      <td>NaN</td>\n",
       "      <td>NaN</td>\n",
       "      <td>32</td>\n",
       "      <td>female</td>\n",
       "      <td>white</td>\n",
       "      <td>medium</td>\n",
       "      <td>middle school</td>\n",
       "      <td>homosexual</td>\n",
       "      <td>democratic</td>\n",
       "      <td>atheist</td>\n",
       "      <td>very low</td>\n",
       "      <td>low</td>\n",
       "      <td>very high</td>\n",
       "      <td>very high</td>\n",
       "      <td>very low</td>\n",
       "      <td>ofsa</td>\n",
       "      <td>5</td>\n",
       "    </tr>\n",
       "    <tr>\n",
       "      <th>2</th>\n",
       "      <td>joylukclub</td>\n",
       "      <td>2</td>\n",
       "      <td>1</td>\n",
       "      <td>1</td>\n",
       "      <td>1.0</td>\n",
       "      <td>2</td>\n",
       "      <td>Since I strongly lean towards the republican s...</td>\n",
       "      <td>Since I strongly lean towards the republican s...</td>\n",
       "      <td>Since I strongly lean towards the republican s...</td>\n",
       "      <td>Since I strongly lean towards the republican s...</td>\n",
       "      <td>Since I strongly lean towards the republican s...</td>\n",
       "      <td>21</td>\n",
       "      <td>female</td>\n",
       "      <td>white</td>\n",
       "      <td>low</td>\n",
       "      <td>high school</td>\n",
       "      <td>heterosexual</td>\n",
       "      <td>republican</td>\n",
       "      <td>atheist</td>\n",
       "      <td>low</td>\n",
       "      <td>medium</td>\n",
       "      <td>very high</td>\n",
       "      <td>very low</td>\n",
       "      <td>very high</td>\n",
       "      <td>ofsa</td>\n",
       "      <td>5</td>\n",
       "    </tr>\n",
       "  </tbody>\n",
       "</table>\n",
       "</div>"
      ],
      "text/plain": [
       "      username  comment_id  thread_id  root_id  parent_id  node_id                                          b_content                                     a_content_ofsa                                     a_content_neut                                      a_content_emp                                     a_content_pres  age  gender   race  income      education sex_orientation political_leaning religion agreeableness openness conscientiousness extraversion neuroticism pmi_type  simulate_seed\n",
       "0   seztomabel           0          0        0        NaN        0                                                NaN                                                NaN                                                NaN                                                NaN                                                NaN   31    male  white  medium    high school    heterosexual        republican  atheist        medium   medium               low       medium         low     ofsa              5\n",
       "1  EvilMEMEius           1          1        1        NaN        1                                                NaN                                                NaN                                                NaN                                                NaN                                                NaN   32  female  white  medium  middle school      homosexual        democratic  atheist      very low      low         very high    very high    very low     ofsa              5\n",
       "2   joylukclub           2          1        1        1.0        2  Since I strongly lean towards the republican s...  Since I strongly lean towards the republican s...  Since I strongly lean towards the republican s...  Since I strongly lean towards the republican s...  Since I strongly lean towards the republican s...   21  female  white     low    high school    heterosexual        republican  atheist           low   medium         very high     very low   very high     ofsa              5"
      ]
     },
     "execution_count": 15,
     "metadata": {},
     "output_type": "execute_result"
    }
   ],
   "source": [
    "df_exante.head(3)"
   ]
  },
  {
   "cell_type": "markdown",
   "metadata": {},
   "source": [
    "Remove pmi_type since now we have extracted the a_content for each type (other features are the same, except moderation prompt and intervention, which we don't keep)"
   ]
  },
  {
   "cell_type": "code",
   "execution_count": 16,
   "metadata": {},
   "outputs": [],
   "source": [
    "df_exante.drop(columns = [\"pmi_type\"], inplace = True)"
   ]
  },
  {
   "cell_type": "code",
   "execution_count": 17,
   "metadata": {},
   "outputs": [
    {
     "data": {
      "text/html": [
       "<div>\n",
       "<style scoped>\n",
       "    .dataframe tbody tr th:only-of-type {\n",
       "        vertical-align: middle;\n",
       "    }\n",
       "\n",
       "    .dataframe tbody tr th {\n",
       "        vertical-align: top;\n",
       "    }\n",
       "\n",
       "    .dataframe thead th {\n",
       "        text-align: right;\n",
       "    }\n",
       "</style>\n",
       "<table border=\"1\" class=\"dataframe\">\n",
       "  <thead>\n",
       "    <tr style=\"text-align: right;\">\n",
       "      <th></th>\n",
       "      <th>username</th>\n",
       "      <th>comment_id</th>\n",
       "      <th>thread_id</th>\n",
       "      <th>root_id</th>\n",
       "      <th>parent_id</th>\n",
       "      <th>node_id</th>\n",
       "      <th>b_content</th>\n",
       "      <th>a_content_ofsa</th>\n",
       "      <th>a_content_neut</th>\n",
       "      <th>a_content_emp</th>\n",
       "      <th>a_content_pres</th>\n",
       "      <th>age</th>\n",
       "      <th>gender</th>\n",
       "      <th>race</th>\n",
       "      <th>income</th>\n",
       "      <th>education</th>\n",
       "      <th>sex_orientation</th>\n",
       "      <th>political_leaning</th>\n",
       "      <th>religion</th>\n",
       "      <th>agreeableness</th>\n",
       "      <th>openness</th>\n",
       "      <th>conscientiousness</th>\n",
       "      <th>extraversion</th>\n",
       "      <th>neuroticism</th>\n",
       "      <th>simulate_seed</th>\n",
       "    </tr>\n",
       "  </thead>\n",
       "  <tbody>\n",
       "    <tr>\n",
       "      <th>0</th>\n",
       "      <td>seztomabel</td>\n",
       "      <td>0</td>\n",
       "      <td>0</td>\n",
       "      <td>0</td>\n",
       "      <td>NaN</td>\n",
       "      <td>0</td>\n",
       "      <td>NaN</td>\n",
       "      <td>NaN</td>\n",
       "      <td>NaN</td>\n",
       "      <td>NaN</td>\n",
       "      <td>NaN</td>\n",
       "      <td>31</td>\n",
       "      <td>male</td>\n",
       "      <td>white</td>\n",
       "      <td>medium</td>\n",
       "      <td>high school</td>\n",
       "      <td>heterosexual</td>\n",
       "      <td>republican</td>\n",
       "      <td>atheist</td>\n",
       "      <td>medium</td>\n",
       "      <td>medium</td>\n",
       "      <td>low</td>\n",
       "      <td>medium</td>\n",
       "      <td>low</td>\n",
       "      <td>5</td>\n",
       "    </tr>\n",
       "    <tr>\n",
       "      <th>1</th>\n",
       "      <td>EvilMEMEius</td>\n",
       "      <td>1</td>\n",
       "      <td>1</td>\n",
       "      <td>1</td>\n",
       "      <td>NaN</td>\n",
       "      <td>1</td>\n",
       "      <td>NaN</td>\n",
       "      <td>NaN</td>\n",
       "      <td>NaN</td>\n",
       "      <td>NaN</td>\n",
       "      <td>NaN</td>\n",
       "      <td>32</td>\n",
       "      <td>female</td>\n",
       "      <td>white</td>\n",
       "      <td>medium</td>\n",
       "      <td>middle school</td>\n",
       "      <td>homosexual</td>\n",
       "      <td>democratic</td>\n",
       "      <td>atheist</td>\n",
       "      <td>very low</td>\n",
       "      <td>low</td>\n",
       "      <td>very high</td>\n",
       "      <td>very high</td>\n",
       "      <td>very low</td>\n",
       "      <td>5</td>\n",
       "    </tr>\n",
       "    <tr>\n",
       "      <th>2</th>\n",
       "      <td>joylukclub</td>\n",
       "      <td>2</td>\n",
       "      <td>1</td>\n",
       "      <td>1</td>\n",
       "      <td>1.0</td>\n",
       "      <td>2</td>\n",
       "      <td>Since I strongly lean towards the republican s...</td>\n",
       "      <td>Since I strongly lean towards the republican s...</td>\n",
       "      <td>Since I strongly lean towards the republican s...</td>\n",
       "      <td>Since I strongly lean towards the republican s...</td>\n",
       "      <td>Since I strongly lean towards the republican s...</td>\n",
       "      <td>21</td>\n",
       "      <td>female</td>\n",
       "      <td>white</td>\n",
       "      <td>low</td>\n",
       "      <td>high school</td>\n",
       "      <td>heterosexual</td>\n",
       "      <td>republican</td>\n",
       "      <td>atheist</td>\n",
       "      <td>low</td>\n",
       "      <td>medium</td>\n",
       "      <td>very high</td>\n",
       "      <td>very low</td>\n",
       "      <td>very high</td>\n",
       "      <td>5</td>\n",
       "    </tr>\n",
       "  </tbody>\n",
       "</table>\n",
       "</div>"
      ],
      "text/plain": [
       "      username  comment_id  thread_id  root_id  parent_id  node_id                                          b_content                                     a_content_ofsa                                     a_content_neut                                      a_content_emp                                     a_content_pres  age  gender   race  income      education sex_orientation political_leaning religion agreeableness openness conscientiousness extraversion neuroticism  simulate_seed\n",
       "0   seztomabel           0          0        0        NaN        0                                                NaN                                                NaN                                                NaN                                                NaN                                                NaN   31    male  white  medium    high school    heterosexual        republican  atheist        medium   medium               low       medium         low              5\n",
       "1  EvilMEMEius           1          1        1        NaN        1                                                NaN                                                NaN                                                NaN                                                NaN                                                NaN   32  female  white  medium  middle school      homosexual        democratic  atheist      very low      low         very high    very high    very low              5\n",
       "2   joylukclub           2          1        1        1.0        2  Since I strongly lean towards the republican s...  Since I strongly lean towards the republican s...  Since I strongly lean towards the republican s...  Since I strongly lean towards the republican s...  Since I strongly lean towards the republican s...   21  female  white     low    high school    heterosexual        republican  atheist           low   medium         very high     very low   very high              5"
      ]
     },
     "execution_count": 17,
     "metadata": {},
     "output_type": "execute_result"
    }
   ],
   "source": [
    "df_exante.head(3)"
   ]
  },
  {
   "cell_type": "code",
   "execution_count": 41,
   "metadata": {},
   "outputs": [
    {
     "data": {
      "text/plain": [
       "array(['white', 'asian', 'latino', 'black'], dtype=object)"
      ]
     },
     "execution_count": 41,
     "metadata": {},
     "output_type": "execute_result"
    }
   ],
   "source": [
    "df_exante[\"race\"].unique()"
   ]
  },
  {
   "cell_type": "markdown",
   "metadata": {},
   "source": [
    "Missing values for comments before moderation"
   ]
  },
  {
   "cell_type": "code",
   "execution_count": 18,
   "metadata": {},
   "outputs": [
    {
     "name": "stdout",
     "output_type": "stream",
     "text": [
      "Missing values for content before moderation: 1281\n"
     ]
    }
   ],
   "source": [
    "print(f\"Missing values for content before moderation: {len(df_exante[df_exante['b_content'].isna()])}\")"
   ]
  },
  {
   "cell_type": "code",
   "execution_count": 19,
   "metadata": {},
   "outputs": [
    {
     "name": "stdout",
     "output_type": "stream",
     "text": [
      "Shape:\n",
      "(3219, 25)\n",
      "\n"
     ]
    }
   ],
   "source": [
    "# remove missing comments before moderation\n",
    "df_exante = df_exante[df_exante[\"b_content\"].notna()].copy(deep = True)\n",
    "\n",
    "print(f\"Shape:\\n{df_exante.shape}\\n\")"
   ]
  },
  {
   "cell_type": "markdown",
   "metadata": {},
   "source": [
    "Duplicates removal for b_content (mostly hallucinations: \" and \" and \"Your comment goes here\")"
   ]
  },
  {
   "cell_type": "code",
   "execution_count": 35,
   "metadata": {},
   "outputs": [
    {
     "data": {
      "text/html": [
       "<div>\n",
       "<style scoped>\n",
       "    .dataframe tbody tr th:only-of-type {\n",
       "        vertical-align: middle;\n",
       "    }\n",
       "\n",
       "    .dataframe tbody tr th {\n",
       "        vertical-align: top;\n",
       "    }\n",
       "\n",
       "    .dataframe thead th {\n",
       "        text-align: right;\n",
       "    }\n",
       "</style>\n",
       "<table border=\"1\" class=\"dataframe\">\n",
       "  <thead>\n",
       "    <tr style=\"text-align: right;\">\n",
       "      <th></th>\n",
       "      <th>username</th>\n",
       "      <th>comment_id</th>\n",
       "      <th>thread_id</th>\n",
       "      <th>root_id</th>\n",
       "      <th>parent_id</th>\n",
       "      <th>node_id</th>\n",
       "      <th>b_content</th>\n",
       "      <th>a_content_ofsa</th>\n",
       "      <th>a_content_neut</th>\n",
       "      <th>a_content_emp</th>\n",
       "      <th>a_content_pres</th>\n",
       "      <th>age</th>\n",
       "      <th>gender</th>\n",
       "      <th>race</th>\n",
       "      <th>income</th>\n",
       "      <th>education</th>\n",
       "      <th>sex_orientation</th>\n",
       "      <th>political_leaning</th>\n",
       "      <th>religion</th>\n",
       "      <th>agreeableness</th>\n",
       "      <th>openness</th>\n",
       "      <th>conscientiousness</th>\n",
       "      <th>extraversion</th>\n",
       "      <th>neuroticism</th>\n",
       "      <th>simulate_seed</th>\n",
       "    </tr>\n",
       "  </thead>\n",
       "  <tbody>\n",
       "    <tr>\n",
       "      <th>111</th>\n",
       "      <td>rotten-bunny</td>\n",
       "      <td>111</td>\n",
       "      <td>25</td>\n",
       "      <td>61</td>\n",
       "      <td>87.0</td>\n",
       "      <td>111</td>\n",
       "      <td>\" and \"</td>\n",
       "      <td>\" and \"</td>\n",
       "      <td>\" and \"</td>\n",
       "      <td>\" and \"</td>\n",
       "      <td>\" and \"</td>\n",
       "      <td>23</td>\n",
       "      <td>female</td>\n",
       "      <td>asian</td>\n",
       "      <td>medium</td>\n",
       "      <td>university</td>\n",
       "      <td>heterosexual</td>\n",
       "      <td>republican</td>\n",
       "      <td>catholic</td>\n",
       "      <td>low</td>\n",
       "      <td>high</td>\n",
       "      <td>very low</td>\n",
       "      <td>very low</td>\n",
       "      <td>very low</td>\n",
       "      <td>5</td>\n",
       "    </tr>\n",
       "    <tr>\n",
       "      <th>116</th>\n",
       "      <td>happygolily8</td>\n",
       "      <td>116</td>\n",
       "      <td>49</td>\n",
       "      <td>116</td>\n",
       "      <td>NaN</td>\n",
       "      <td>116</td>\n",
       "      <td>\" and \"</td>\n",
       "      <td>\" and \"</td>\n",
       "      <td>\" and \"</td>\n",
       "      <td>\" and \"</td>\n",
       "      <td>\" and \"</td>\n",
       "      <td>18</td>\n",
       "      <td>female</td>\n",
       "      <td>white</td>\n",
       "      <td>high</td>\n",
       "      <td>middle school</td>\n",
       "      <td>heterosexual</td>\n",
       "      <td>republican</td>\n",
       "      <td>protestant</td>\n",
       "      <td>very high</td>\n",
       "      <td>very low</td>\n",
       "      <td>very high</td>\n",
       "      <td>medium</td>\n",
       "      <td>very high</td>\n",
       "      <td>5</td>\n",
       "    </tr>\n",
       "    <tr>\n",
       "      <th>259</th>\n",
       "      <td>quakeroaks</td>\n",
       "      <td>259</td>\n",
       "      <td>125</td>\n",
       "      <td>259</td>\n",
       "      <td>NaN</td>\n",
       "      <td>259</td>\n",
       "      <td>\" and \"</td>\n",
       "      <td>NaN</td>\n",
       "      <td>NaN</td>\n",
       "      <td>NaN</td>\n",
       "      <td>NaN</td>\n",
       "      <td>21</td>\n",
       "      <td>male</td>\n",
       "      <td>asian</td>\n",
       "      <td>high</td>\n",
       "      <td>high school</td>\n",
       "      <td>heterosexual</td>\n",
       "      <td>democratic</td>\n",
       "      <td>protestant</td>\n",
       "      <td>very low</td>\n",
       "      <td>very high</td>\n",
       "      <td>very low</td>\n",
       "      <td>medium</td>\n",
       "      <td>very high</td>\n",
       "      <td>5</td>\n",
       "    </tr>\n",
       "    <tr>\n",
       "      <th>285</th>\n",
       "      <td>ixian_technology</td>\n",
       "      <td>285</td>\n",
       "      <td>40</td>\n",
       "      <td>96</td>\n",
       "      <td>252.0</td>\n",
       "      <td>285</td>\n",
       "      <td>\" and \"</td>\n",
       "      <td>I'm sorry you disagree, xaira82, but your argu...</td>\n",
       "      <td>@xaira82, your response shows your ignorance. ...</td>\n",
       "      <td>NaN</td>\n",
       "      <td>You're just another brainwashed sheep, regurgi...</td>\n",
       "      <td>39</td>\n",
       "      <td>male</td>\n",
       "      <td>white</td>\n",
       "      <td>medium</td>\n",
       "      <td>high school</td>\n",
       "      <td>heterosexual</td>\n",
       "      <td>democratic</td>\n",
       "      <td>atheist</td>\n",
       "      <td>low</td>\n",
       "      <td>high</td>\n",
       "      <td>very high</td>\n",
       "      <td>very low</td>\n",
       "      <td>very high</td>\n",
       "      <td>5</td>\n",
       "    </tr>\n",
       "    <tr>\n",
       "      <th>287</th>\n",
       "      <td>EvilMEMEius</td>\n",
       "      <td>287</td>\n",
       "      <td>128</td>\n",
       "      <td>265</td>\n",
       "      <td>265.0</td>\n",
       "      <td>287</td>\n",
       "      <td>Your comment goes here</td>\n",
       "      <td>Your comment goes here</td>\n",
       "      <td>WoodpeckerNo1, you're just a bitter hater who ...</td>\n",
       "      <td>The liberal scum have taken over Hollywood, cr...</td>\n",
       "      <td>Your comment goes here</td>\n",
       "      <td>32</td>\n",
       "      <td>female</td>\n",
       "      <td>white</td>\n",
       "      <td>medium</td>\n",
       "      <td>middle school</td>\n",
       "      <td>homosexual</td>\n",
       "      <td>democratic</td>\n",
       "      <td>atheist</td>\n",
       "      <td>very low</td>\n",
       "      <td>low</td>\n",
       "      <td>very high</td>\n",
       "      <td>very high</td>\n",
       "      <td>very low</td>\n",
       "      <td>5</td>\n",
       "    </tr>\n",
       "  </tbody>\n",
       "</table>\n",
       "</div>"
      ],
      "text/plain": [
       "             username  comment_id  thread_id  root_id  parent_id  node_id               b_content                                     a_content_ofsa                                     a_content_neut                                      a_content_emp                                     a_content_pres  age  gender   race  income      education sex_orientation political_leaning    religion agreeableness   openness conscientiousness extraversion neuroticism  simulate_seed\n",
       "111      rotten-bunny         111         25       61       87.0      111                 \" and \"                                            \" and \"                                            \" and \"                                            \" and \"                                            \" and \"   23  female  asian  medium     university    heterosexual        republican    catholic           low       high          very low     very low    very low              5\n",
       "116      happygolily8         116         49      116        NaN      116                 \" and \"                                            \" and \"                                            \" and \"                                            \" and \"                                            \" and \"   18  female  white    high  middle school    heterosexual        republican  protestant     very high   very low         very high       medium   very high              5\n",
       "259        quakeroaks         259        125      259        NaN      259                 \" and \"                                                NaN                                                NaN                                                NaN                                                NaN   21    male  asian    high    high school    heterosexual        democratic  protestant      very low  very high          very low       medium   very high              5\n",
       "285  ixian_technology         285         40       96      252.0      285                 \" and \"  I'm sorry you disagree, xaira82, but your argu...  @xaira82, your response shows your ignorance. ...                                                NaN  You're just another brainwashed sheep, regurgi...   39    male  white  medium    high school    heterosexual        democratic     atheist           low       high         very high     very low   very high              5\n",
       "287       EvilMEMEius         287        128      265      265.0      287  Your comment goes here                             Your comment goes here  WoodpeckerNo1, you're just a bitter hater who ...  The liberal scum have taken over Hollywood, cr...                             Your comment goes here   32  female  white  medium  middle school      homosexual        democratic     atheist      very low        low         very high    very high    very low              5"
      ]
     },
     "execution_count": 35,
     "metadata": {},
     "output_type": "execute_result"
    }
   ],
   "source": [
    "# examples of duplicates for b_content\n",
    "df_exante[df_exante.duplicated(subset = [\"b_content\"])].head()"
   ]
  },
  {
   "cell_type": "code",
   "execution_count": 36,
   "metadata": {},
   "outputs": [
    {
     "name": "stdout",
     "output_type": "stream",
     "text": [
      "Number of allucinations/duplicates for b_content: 84\n",
      "\n",
      "Final Shape: (3135, 25)\n"
     ]
    }
   ],
   "source": [
    "# remove them since the content is useless (all \"and\", \"your comment goes here\")\n",
    "print(f\"Number of allucinations/duplicates for b_content: {len(df_exante[df_exante['b_content'].duplicated()])}\")\n",
    "df_exante = df_exante[~df_exante[\"b_content\"].duplicated()]\n",
    "print(f\"\\nFinal Shape: {df_exante.shape}\")"
   ]
  },
  {
   "cell_type": "code",
   "execution_count": 21,
   "metadata": {},
   "outputs": [],
   "source": [
    "# store the ex ante simulated dataset\n",
    "df_exante.to_csv(\"../original_data/simulator/exante/SIMULATOR_exante_original.csv\", index = False, encoding = \"utf-8\")"
   ]
  },
  {
   "cell_type": "markdown",
   "metadata": {},
   "source": [
    "### Experiments: echo-chambers"
   ]
  },
  {
   "cell_type": "markdown",
   "metadata": {},
   "source": [
    "##### Merge data and annotate with PMI type and tox type"
   ]
  },
  {
   "cell_type": "code",
   "execution_count": 22,
   "metadata": {},
   "outputs": [
    {
     "name": "stdout",
     "output_type": "stream",
     "text": [
      "Loading exp_ofsa_healthy_17.csv:\n",
      "(1200, 48)\n",
      "\n",
      "Loading exp_ofsa_toxic_17.csv:\n",
      "(1400, 48)\n",
      "\n",
      "Loading exp_neutral_healthy_17.csv:\n",
      "(1200, 48)\n",
      "\n",
      "Loading exp_neutral_toxic_17.csv:\n",
      "(1400, 48)\n",
      "\n",
      "Loading exp_empathizing_healthy_17.csv:\n",
      "(1200, 48)\n",
      "\n",
      "Loading exp_empathizing_toxic_17.csv:\n",
      "(1400, 48)\n",
      "\n",
      "Loading exp_prescriptive_healthy_17.csv:\n",
      "(1200, 48)\n",
      "\n",
      "Loading exp_prescriptive_toxic_17.csv:\n",
      "(1400, 48)\n",
      "\n",
      "echo-chambers data loaded successfully.\n",
      "\n",
      "\n"
     ]
    }
   ],
   "source": [
    "df_echoch = merge_sim_data(mod, [17], dir_path, \"echo-chambers\")"
   ]
  },
  {
   "cell_type": "code",
   "execution_count": 23,
   "metadata": {},
   "outputs": [
    {
     "name": "stdout",
     "output_type": "stream",
     "text": [
      "Shape of echo-chambers:\n",
      "(10400, 50)\n",
      "\n",
      "pmi_type\n",
      "ofsa            2600\n",
      "neutral         2600\n",
      "empathizing     2600\n",
      "prescriptive    2600\n",
      "Name: count, dtype: int64\n",
      "\n",
      "   user_id memory  time        seed         topic  thread_id  root_id  parent_id  node_id                                           b_prompt                                           a_prompt                                           b_output                                           a_output  b_tags  a_tags b_content a_content  b_toxicity  a_toxicity  censored  banned  out_degree  simulate_seed  thread_prob  comment_prob  intervene    ban  ofsa  tolerance  username  age gender    race  income    education sex orientation political leaning  religion agreeableness  openness conscientiousness extraversion neuroticism intervention moderate_prompt  do_sample  temperature  max_new_tokens pmi_type tox_type\n",
      "0        2    NaN     0  3210389493  gay marriage          0        0        NaN        0  You are now role-playing as a social network u...  You are now role-playing as a social network u...  \\n\\nRemember to stick to the personality trait...  \\n\\nRemember to stick to the personality trait...   False   False       NaN       NaN         NaN         NaN     False   False           1             17          0.5             1       True  False  True        NaN  jothamvw   19   male  latino  medium  high school    heterosexual        democratic  catholic     very high  very low          very low     very low   very high          NaN             NaN       True          0.8             500     ofsa  healthy\n"
     ]
    }
   ],
   "source": [
    "print(f\"Shape of echo-chambers:\\n{df_echoch.shape}\\n\")\n",
    "# number of instances per pmi type\n",
    "print(f\"{df_echoch['pmi_type'].value_counts()}\\n\")\n",
    "# visualize\n",
    "print(df_echoch.head(1))"
   ]
  },
  {
   "cell_type": "code",
   "execution_count": 24,
   "metadata": {},
   "outputs": [],
   "source": [
    "# replace spaces with underscores in the features\n",
    "df_echoch = df_echoch.rename(columns = lambda x: x.replace(\" \", \"_\"))"
   ]
  },
  {
   "cell_type": "code",
   "execution_count": 25,
   "metadata": {},
   "outputs": [
    {
     "name": "stdout",
     "output_type": "stream",
     "text": [
      "memory               809\n",
      "topic               5124\n",
      "parent_id           5276\n",
      "b_output             392\n",
      "a_output             807\n",
      "b_content           3028\n",
      "a_content           3188\n",
      "b_toxicity          3028\n",
      "a_toxicity          3188\n",
      "tolerance          10400\n",
      "intervention        8753\n",
      "moderate_prompt     9205\n",
      "dtype: int64\n",
      "\n"
     ]
    }
   ],
   "source": [
    "# features with missing values\n",
    "print(f\"{df_echoch.isna().sum()[df_echoch.isna().sum() != 0]}\\n\")"
   ]
  },
  {
   "cell_type": "code",
   "execution_count": 26,
   "metadata": {},
   "outputs": [
    {
     "name": "stdout",
     "output_type": "stream",
     "text": [
      "intervene\n",
      "True    10400\n",
      "Name: count, dtype: int64\n",
      "ban\n",
      "False    10400\n",
      "Name: count, dtype: int64\n"
     ]
    }
   ],
   "source": [
    "# value counts for some features\n",
    "feats = [\"intervene\", \"ban\"]\n",
    "\n",
    "for f in feats:\n",
    "    print(f\"{df_echoch[f].value_counts()}\")"
   ]
  },
  {
   "cell_type": "markdown",
   "metadata": {},
   "source": [
    "Feature selection"
   ]
  },
  {
   "cell_type": "code",
   "execution_count": 27,
   "metadata": {},
   "outputs": [
    {
     "name": "stdout",
     "output_type": "stream",
     "text": [
      "Shape:\n",
      "(10400, 23)\n",
      "\n"
     ]
    }
   ],
   "source": [
    "feats_to_keep = [\"username\", \"thread_id\", \"root_id\", \"parent_id\", \"node_id\", \"b_content\", \n",
    "                 \"a_content\", \"age\", \"gender\", \"race\", \"income\", \"education\",\n",
    "                 \"sex_orientation\", \"political_leaning\", \"religion\", \"agreeableness\",\n",
    "                 \"openness\", \"conscientiousness\", \"extraversion\", \"neuroticism\",\n",
    "                 \"pmi_type\", \"tox_type\", \"simulate_seed\"]\n",
    "\n",
    "# keep only relevant features\n",
    "df_echoch = df_echoch.loc[:, feats_to_keep].copy(deep = True)\n",
    "\n",
    "print(f\"Shape:\\n{df_echoch.shape}\\n\")"
   ]
  },
  {
   "cell_type": "code",
   "execution_count": 28,
   "metadata": {},
   "outputs": [
    {
     "data": {
      "text/html": [
       "<div>\n",
       "<style scoped>\n",
       "    .dataframe tbody tr th:only-of-type {\n",
       "        vertical-align: middle;\n",
       "    }\n",
       "\n",
       "    .dataframe tbody tr th {\n",
       "        vertical-align: top;\n",
       "    }\n",
       "\n",
       "    .dataframe thead th {\n",
       "        text-align: right;\n",
       "    }\n",
       "</style>\n",
       "<table border=\"1\" class=\"dataframe\">\n",
       "  <thead>\n",
       "    <tr style=\"text-align: right;\">\n",
       "      <th></th>\n",
       "      <th>username</th>\n",
       "      <th>thread_id</th>\n",
       "      <th>root_id</th>\n",
       "      <th>parent_id</th>\n",
       "      <th>node_id</th>\n",
       "      <th>b_content</th>\n",
       "      <th>a_content</th>\n",
       "      <th>age</th>\n",
       "      <th>gender</th>\n",
       "      <th>race</th>\n",
       "      <th>income</th>\n",
       "      <th>education</th>\n",
       "      <th>sex_orientation</th>\n",
       "      <th>political_leaning</th>\n",
       "      <th>religion</th>\n",
       "      <th>agreeableness</th>\n",
       "      <th>openness</th>\n",
       "      <th>conscientiousness</th>\n",
       "      <th>extraversion</th>\n",
       "      <th>neuroticism</th>\n",
       "      <th>pmi_type</th>\n",
       "      <th>tox_type</th>\n",
       "      <th>simulate_seed</th>\n",
       "    </tr>\n",
       "  </thead>\n",
       "  <tbody>\n",
       "    <tr>\n",
       "      <th>0</th>\n",
       "      <td>jothamvw</td>\n",
       "      <td>0</td>\n",
       "      <td>0</td>\n",
       "      <td>NaN</td>\n",
       "      <td>0</td>\n",
       "      <td>NaN</td>\n",
       "      <td>NaN</td>\n",
       "      <td>19</td>\n",
       "      <td>male</td>\n",
       "      <td>latino</td>\n",
       "      <td>medium</td>\n",
       "      <td>high school</td>\n",
       "      <td>heterosexual</td>\n",
       "      <td>democratic</td>\n",
       "      <td>catholic</td>\n",
       "      <td>very high</td>\n",
       "      <td>very low</td>\n",
       "      <td>very low</td>\n",
       "      <td>very low</td>\n",
       "      <td>very high</td>\n",
       "      <td>ofsa</td>\n",
       "      <td>healthy</td>\n",
       "      <td>17</td>\n",
       "    </tr>\n",
       "    <tr>\n",
       "      <th>1</th>\n",
       "      <td>happygolily8</td>\n",
       "      <td>0</td>\n",
       "      <td>0</td>\n",
       "      <td>0.0</td>\n",
       "      <td>1</td>\n",
       "      <td>NaN</td>\n",
       "      <td>NaN</td>\n",
       "      <td>18</td>\n",
       "      <td>female</td>\n",
       "      <td>white</td>\n",
       "      <td>high</td>\n",
       "      <td>middle school</td>\n",
       "      <td>heterosexual</td>\n",
       "      <td>republican</td>\n",
       "      <td>protestant</td>\n",
       "      <td>very high</td>\n",
       "      <td>very low</td>\n",
       "      <td>very high</td>\n",
       "      <td>medium</td>\n",
       "      <td>very high</td>\n",
       "      <td>ofsa</td>\n",
       "      <td>healthy</td>\n",
       "      <td>17</td>\n",
       "    </tr>\n",
       "    <tr>\n",
       "      <th>2</th>\n",
       "      <td>xplosiveoctopus</td>\n",
       "      <td>1</td>\n",
       "      <td>2</td>\n",
       "      <td>NaN</td>\n",
       "      <td>2</td>\n",
       "      <td>NaN</td>\n",
       "      <td>NaN</td>\n",
       "      <td>29</td>\n",
       "      <td>male</td>\n",
       "      <td>latino</td>\n",
       "      <td>medium</td>\n",
       "      <td>high school</td>\n",
       "      <td>homosexual</td>\n",
       "      <td>democratic</td>\n",
       "      <td>catholic</td>\n",
       "      <td>very low</td>\n",
       "      <td>low</td>\n",
       "      <td>very low</td>\n",
       "      <td>very high</td>\n",
       "      <td>very high</td>\n",
       "      <td>ofsa</td>\n",
       "      <td>healthy</td>\n",
       "      <td>17</td>\n",
       "    </tr>\n",
       "  </tbody>\n",
       "</table>\n",
       "</div>"
      ],
      "text/plain": [
       "          username  thread_id  root_id  parent_id  node_id b_content a_content  age  gender    race  income      education sex_orientation political_leaning    religion agreeableness  openness conscientiousness extraversion neuroticism pmi_type tox_type  simulate_seed\n",
       "0         jothamvw          0        0        NaN        0       NaN       NaN   19    male  latino  medium    high school    heterosexual        democratic    catholic     very high  very low          very low     very low   very high     ofsa  healthy             17\n",
       "1     happygolily8          0        0        0.0        1       NaN       NaN   18  female   white    high  middle school    heterosexual        republican  protestant     very high  very low         very high       medium   very high     ofsa  healthy             17\n",
       "2  xplosiveoctopus          1        2        NaN        2       NaN       NaN   29    male  latino  medium    high school      homosexual        democratic    catholic      very low       low          very low    very high   very high     ofsa  healthy             17"
      ]
     },
     "execution_count": 28,
     "metadata": {},
     "output_type": "execute_result"
    }
   ],
   "source": [
    "df_echoch.head(3)"
   ]
  },
  {
   "cell_type": "markdown",
   "metadata": {},
   "source": [
    "Separating toxic and healthy datasets"
   ]
  },
  {
   "cell_type": "code",
   "execution_count": 29,
   "metadata": {},
   "outputs": [],
   "source": [
    "df_echoch_tox = df_echoch[df_echoch[\"tox_type\"] == \"toxic\"].copy(deep = True)\n",
    "df_echoch_heal = df_echoch[df_echoch[\"tox_type\"] == \"healthy\"].copy(deep = True)"
   ]
  },
  {
   "cell_type": "code",
   "execution_count": 30,
   "metadata": {},
   "outputs": [
    {
     "name": "stdout",
     "output_type": "stream",
     "text": [
      "Shape of toxic echochamber data: (5600, 23)\n",
      "Shape of healthy echochamber data: (4800, 23)\n"
     ]
    }
   ],
   "source": [
    "print(f\"Shape of toxic echochamber data: {df_echoch_tox.shape}\")\n",
    "print(f\"Shape of healthy echochamber data: {df_echoch_heal.shape}\")"
   ]
  },
  {
   "cell_type": "markdown",
   "metadata": {},
   "source": [
    "Restructure the data\n",
    "- since all moderation types have the same b_content, we attach new features for every related a_content (for every mod type)"
   ]
  },
  {
   "cell_type": "code",
   "execution_count": 31,
   "metadata": {},
   "outputs": [],
   "source": [
    "# add the a_contents for all mod types from position 7\n",
    "df_echoch_tox = organize_sim_data(df_echoch_tox, loc = 7)\n",
    "df_echoch_heal = organize_sim_data(df_echoch_heal, loc = 7)"
   ]
  },
  {
   "cell_type": "code",
   "execution_count": 32,
   "metadata": {},
   "outputs": [
    {
     "data": {
      "text/html": [
       "<div>\n",
       "<style scoped>\n",
       "    .dataframe tbody tr th:only-of-type {\n",
       "        vertical-align: middle;\n",
       "    }\n",
       "\n",
       "    .dataframe tbody tr th {\n",
       "        vertical-align: top;\n",
       "    }\n",
       "\n",
       "    .dataframe thead th {\n",
       "        text-align: right;\n",
       "    }\n",
       "</style>\n",
       "<table border=\"1\" class=\"dataframe\">\n",
       "  <thead>\n",
       "    <tr style=\"text-align: right;\">\n",
       "      <th></th>\n",
       "      <th>username</th>\n",
       "      <th>thread_id</th>\n",
       "      <th>root_id</th>\n",
       "      <th>parent_id</th>\n",
       "      <th>node_id</th>\n",
       "      <th>b_content</th>\n",
       "      <th>a_content_ofsa</th>\n",
       "      <th>a_content_neut</th>\n",
       "      <th>a_content_emp</th>\n",
       "      <th>a_content_pres</th>\n",
       "      <th>age</th>\n",
       "      <th>gender</th>\n",
       "      <th>race</th>\n",
       "      <th>income</th>\n",
       "      <th>education</th>\n",
       "      <th>sex_orientation</th>\n",
       "      <th>political_leaning</th>\n",
       "      <th>religion</th>\n",
       "      <th>agreeableness</th>\n",
       "      <th>openness</th>\n",
       "      <th>conscientiousness</th>\n",
       "      <th>extraversion</th>\n",
       "      <th>neuroticism</th>\n",
       "      <th>pmi_type</th>\n",
       "      <th>tox_type</th>\n",
       "      <th>simulate_seed</th>\n",
       "    </tr>\n",
       "  </thead>\n",
       "  <tbody>\n",
       "    <tr>\n",
       "      <th>1200</th>\n",
       "      <td>WoodpeckerNo1</td>\n",
       "      <td>0</td>\n",
       "      <td>0</td>\n",
       "      <td>NaN</td>\n",
       "      <td>0</td>\n",
       "      <td>If those climate change activists think they c...</td>\n",
       "      <td>If those climate change activists think they c...</td>\n",
       "      <td>NaN</td>\n",
       "      <td>NaN</td>\n",
       "      <td>NaN</td>\n",
       "      <td>18</td>\n",
       "      <td>male</td>\n",
       "      <td>white</td>\n",
       "      <td>medium</td>\n",
       "      <td>middle school</td>\n",
       "      <td>heterosexual</td>\n",
       "      <td>republican</td>\n",
       "      <td>atheist</td>\n",
       "      <td>very low</td>\n",
       "      <td>very low</td>\n",
       "      <td>very low</td>\n",
       "      <td>very low</td>\n",
       "      <td>very high</td>\n",
       "      <td>ofsa</td>\n",
       "      <td>toxic</td>\n",
       "      <td>17</td>\n",
       "    </tr>\n",
       "    <tr>\n",
       "      <th>1201</th>\n",
       "      <td>happygolily8</td>\n",
       "      <td>0</td>\n",
       "      <td>0</td>\n",
       "      <td>0.0</td>\n",
       "      <td>1</td>\n",
       "      <td>WoodpeckerNo1, you're absolutely right. These ...</td>\n",
       "      <td>WoodpeckerNo1, you're absolutely right. These ...</td>\n",
       "      <td>If I hear another politician talk about helpin...</td>\n",
       "      <td>Many people say that \"Government is obsolete, ...</td>\n",
       "      <td>Today, I decided to go to the city hall to ren...</td>\n",
       "      <td>18</td>\n",
       "      <td>female</td>\n",
       "      <td>white</td>\n",
       "      <td>high</td>\n",
       "      <td>middle school</td>\n",
       "      <td>heterosexual</td>\n",
       "      <td>republican</td>\n",
       "      <td>protestant</td>\n",
       "      <td>very high</td>\n",
       "      <td>very low</td>\n",
       "      <td>very high</td>\n",
       "      <td>medium</td>\n",
       "      <td>very high</td>\n",
       "      <td>ofsa</td>\n",
       "      <td>toxic</td>\n",
       "      <td>17</td>\n",
       "    </tr>\n",
       "    <tr>\n",
       "      <th>1202</th>\n",
       "      <td>cryoK</td>\n",
       "      <td>1</td>\n",
       "      <td>2</td>\n",
       "      <td>NaN</td>\n",
       "      <td>2</td>\n",
       "      <td>As a proud Republican, I stand against abortio...</td>\n",
       "      <td>As a proud Republican, I stand against abortio...</td>\n",
       "      <td>Everyone knows that a healthy body leads to a ...</td>\n",
       "      <td>Hey guys, I just started working out again, an...</td>\n",
       "      <td>Everyone wants a perfect body, but not everyon...</td>\n",
       "      <td>23</td>\n",
       "      <td>male</td>\n",
       "      <td>white</td>\n",
       "      <td>high</td>\n",
       "      <td>university</td>\n",
       "      <td>homosexual</td>\n",
       "      <td>republican</td>\n",
       "      <td>catholic</td>\n",
       "      <td>very low</td>\n",
       "      <td>low</td>\n",
       "      <td>low</td>\n",
       "      <td>very low</td>\n",
       "      <td>high</td>\n",
       "      <td>ofsa</td>\n",
       "      <td>toxic</td>\n",
       "      <td>17</td>\n",
       "    </tr>\n",
       "  </tbody>\n",
       "</table>\n",
       "</div>"
      ],
      "text/plain": [
       "           username  thread_id  root_id  parent_id  node_id                                          b_content                                     a_content_ofsa                                     a_content_neut                                      a_content_emp                                     a_content_pres  age  gender   race  income      education sex_orientation political_leaning    religion agreeableness  openness conscientiousness extraversion neuroticism pmi_type tox_type  simulate_seed\n",
       "1200  WoodpeckerNo1          0        0        NaN        0  If those climate change activists think they c...  If those climate change activists think they c...                                                NaN                                                NaN                                                NaN   18    male  white  medium  middle school    heterosexual        republican     atheist      very low  very low          very low     very low   very high     ofsa    toxic             17\n",
       "1201   happygolily8          0        0        0.0        1  WoodpeckerNo1, you're absolutely right. These ...  WoodpeckerNo1, you're absolutely right. These ...  If I hear another politician talk about helpin...  Many people say that \"Government is obsolete, ...  Today, I decided to go to the city hall to ren...   18  female  white    high  middle school    heterosexual        republican  protestant     very high  very low         very high       medium   very high     ofsa    toxic             17\n",
       "1202          cryoK          1        2        NaN        2  As a proud Republican, I stand against abortio...  As a proud Republican, I stand against abortio...  Everyone knows that a healthy body leads to a ...  Hey guys, I just started working out again, an...  Everyone wants a perfect body, but not everyon...   23    male  white    high     university      homosexual        republican    catholic      very low       low               low     very low        high     ofsa    toxic             17"
      ]
     },
     "execution_count": 32,
     "metadata": {},
     "output_type": "execute_result"
    }
   ],
   "source": [
    "df_echoch_tox.head(3)"
   ]
  },
  {
   "cell_type": "code",
   "execution_count": 33,
   "metadata": {},
   "outputs": [
    {
     "data": {
      "text/html": [
       "<div>\n",
       "<style scoped>\n",
       "    .dataframe tbody tr th:only-of-type {\n",
       "        vertical-align: middle;\n",
       "    }\n",
       "\n",
       "    .dataframe tbody tr th {\n",
       "        vertical-align: top;\n",
       "    }\n",
       "\n",
       "    .dataframe thead th {\n",
       "        text-align: right;\n",
       "    }\n",
       "</style>\n",
       "<table border=\"1\" class=\"dataframe\">\n",
       "  <thead>\n",
       "    <tr style=\"text-align: right;\">\n",
       "      <th></th>\n",
       "      <th>username</th>\n",
       "      <th>thread_id</th>\n",
       "      <th>root_id</th>\n",
       "      <th>parent_id</th>\n",
       "      <th>node_id</th>\n",
       "      <th>b_content</th>\n",
       "      <th>a_content_ofsa</th>\n",
       "      <th>a_content_neut</th>\n",
       "      <th>a_content_emp</th>\n",
       "      <th>a_content_pres</th>\n",
       "      <th>age</th>\n",
       "      <th>gender</th>\n",
       "      <th>race</th>\n",
       "      <th>income</th>\n",
       "      <th>education</th>\n",
       "      <th>sex_orientation</th>\n",
       "      <th>political_leaning</th>\n",
       "      <th>religion</th>\n",
       "      <th>agreeableness</th>\n",
       "      <th>openness</th>\n",
       "      <th>conscientiousness</th>\n",
       "      <th>extraversion</th>\n",
       "      <th>neuroticism</th>\n",
       "      <th>pmi_type</th>\n",
       "      <th>tox_type</th>\n",
       "      <th>simulate_seed</th>\n",
       "    </tr>\n",
       "  </thead>\n",
       "  <tbody>\n",
       "    <tr>\n",
       "      <th>0</th>\n",
       "      <td>jothamvw</td>\n",
       "      <td>0</td>\n",
       "      <td>0</td>\n",
       "      <td>NaN</td>\n",
       "      <td>0</td>\n",
       "      <td>NaN</td>\n",
       "      <td>NaN</td>\n",
       "      <td>NaN</td>\n",
       "      <td>NaN</td>\n",
       "      <td>NaN</td>\n",
       "      <td>19</td>\n",
       "      <td>male</td>\n",
       "      <td>latino</td>\n",
       "      <td>medium</td>\n",
       "      <td>high school</td>\n",
       "      <td>heterosexual</td>\n",
       "      <td>democratic</td>\n",
       "      <td>catholic</td>\n",
       "      <td>very high</td>\n",
       "      <td>very low</td>\n",
       "      <td>very low</td>\n",
       "      <td>very low</td>\n",
       "      <td>very high</td>\n",
       "      <td>ofsa</td>\n",
       "      <td>healthy</td>\n",
       "      <td>17</td>\n",
       "    </tr>\n",
       "    <tr>\n",
       "      <th>1</th>\n",
       "      <td>happygolily8</td>\n",
       "      <td>0</td>\n",
       "      <td>0</td>\n",
       "      <td>0.0</td>\n",
       "      <td>1</td>\n",
       "      <td>NaN</td>\n",
       "      <td>NaN</td>\n",
       "      <td>NaN</td>\n",
       "      <td>NaN</td>\n",
       "      <td>NaN</td>\n",
       "      <td>18</td>\n",
       "      <td>female</td>\n",
       "      <td>white</td>\n",
       "      <td>high</td>\n",
       "      <td>middle school</td>\n",
       "      <td>heterosexual</td>\n",
       "      <td>republican</td>\n",
       "      <td>protestant</td>\n",
       "      <td>very high</td>\n",
       "      <td>very low</td>\n",
       "      <td>very high</td>\n",
       "      <td>medium</td>\n",
       "      <td>very high</td>\n",
       "      <td>ofsa</td>\n",
       "      <td>healthy</td>\n",
       "      <td>17</td>\n",
       "    </tr>\n",
       "    <tr>\n",
       "      <th>2</th>\n",
       "      <td>xplosiveoctopus</td>\n",
       "      <td>1</td>\n",
       "      <td>2</td>\n",
       "      <td>NaN</td>\n",
       "      <td>2</td>\n",
       "      <td>NaN</td>\n",
       "      <td>NaN</td>\n",
       "      <td>NaN</td>\n",
       "      <td>NaN</td>\n",
       "      <td>NaN</td>\n",
       "      <td>29</td>\n",
       "      <td>male</td>\n",
       "      <td>latino</td>\n",
       "      <td>medium</td>\n",
       "      <td>high school</td>\n",
       "      <td>homosexual</td>\n",
       "      <td>democratic</td>\n",
       "      <td>catholic</td>\n",
       "      <td>very low</td>\n",
       "      <td>low</td>\n",
       "      <td>very low</td>\n",
       "      <td>very high</td>\n",
       "      <td>very high</td>\n",
       "      <td>ofsa</td>\n",
       "      <td>healthy</td>\n",
       "      <td>17</td>\n",
       "    </tr>\n",
       "  </tbody>\n",
       "</table>\n",
       "</div>"
      ],
      "text/plain": [
       "          username  thread_id  root_id  parent_id  node_id b_content a_content_ofsa a_content_neut a_content_emp a_content_pres  age  gender    race  income      education sex_orientation political_leaning    religion agreeableness  openness conscientiousness extraversion neuroticism pmi_type tox_type  simulate_seed\n",
       "0         jothamvw          0        0        NaN        0       NaN            NaN            NaN           NaN            NaN   19    male  latino  medium    high school    heterosexual        democratic    catholic     very high  very low          very low     very low   very high     ofsa  healthy             17\n",
       "1     happygolily8          0        0        0.0        1       NaN            NaN            NaN           NaN            NaN   18  female   white    high  middle school    heterosexual        republican  protestant     very high  very low         very high       medium   very high     ofsa  healthy             17\n",
       "2  xplosiveoctopus          1        2        NaN        2       NaN            NaN            NaN           NaN            NaN   29    male  latino  medium    high school      homosexual        democratic    catholic      very low       low          very low    very high   very high     ofsa  healthy             17"
      ]
     },
     "execution_count": 33,
     "metadata": {},
     "output_type": "execute_result"
    }
   ],
   "source": [
    "df_echoch_heal.head(3)"
   ]
  },
  {
   "cell_type": "code",
   "execution_count": 34,
   "metadata": {},
   "outputs": [
    {
     "name": "stdout",
     "output_type": "stream",
     "text": [
      "Shape: (3135, 25)\n"
     ]
    },
    {
     "data": {
      "text/html": [
       "<div>\n",
       "<style scoped>\n",
       "    .dataframe tbody tr th:only-of-type {\n",
       "        vertical-align: middle;\n",
       "    }\n",
       "\n",
       "    .dataframe tbody tr th {\n",
       "        vertical-align: top;\n",
       "    }\n",
       "\n",
       "    .dataframe thead th {\n",
       "        text-align: right;\n",
       "    }\n",
       "</style>\n",
       "<table border=\"1\" class=\"dataframe\">\n",
       "  <thead>\n",
       "    <tr style=\"text-align: right;\">\n",
       "      <th></th>\n",
       "      <th>username</th>\n",
       "      <th>comment_id</th>\n",
       "      <th>thread_id</th>\n",
       "      <th>root_id</th>\n",
       "      <th>parent_id</th>\n",
       "      <th>node_id</th>\n",
       "      <th>b_content</th>\n",
       "      <th>a_content_ofsa</th>\n",
       "      <th>a_content_neut</th>\n",
       "      <th>a_content_emp</th>\n",
       "      <th>a_content_pres</th>\n",
       "      <th>age</th>\n",
       "      <th>gender</th>\n",
       "      <th>race</th>\n",
       "      <th>income</th>\n",
       "      <th>education</th>\n",
       "      <th>sex_orientation</th>\n",
       "      <th>political_leaning</th>\n",
       "      <th>religion</th>\n",
       "      <th>agreeableness</th>\n",
       "      <th>openness</th>\n",
       "      <th>conscientiousness</th>\n",
       "      <th>extraversion</th>\n",
       "      <th>neuroticism</th>\n",
       "      <th>simulate_seed</th>\n",
       "    </tr>\n",
       "  </thead>\n",
       "  <tbody>\n",
       "    <tr>\n",
       "      <th>2</th>\n",
       "      <td>joylukclub</td>\n",
       "      <td>2</td>\n",
       "      <td>1</td>\n",
       "      <td>1</td>\n",
       "      <td>1.0</td>\n",
       "      <td>2</td>\n",
       "      <td>Since I strongly lean towards the republican s...</td>\n",
       "      <td>Since I strongly lean towards the republican s...</td>\n",
       "      <td>Since I strongly lean towards the republican s...</td>\n",
       "      <td>Since I strongly lean towards the republican s...</td>\n",
       "      <td>Since I strongly lean towards the republican s...</td>\n",
       "      <td>21</td>\n",
       "      <td>female</td>\n",
       "      <td>white</td>\n",
       "      <td>low</td>\n",
       "      <td>high school</td>\n",
       "      <td>heterosexual</td>\n",
       "      <td>republican</td>\n",
       "      <td>atheist</td>\n",
       "      <td>low</td>\n",
       "      <td>medium</td>\n",
       "      <td>very high</td>\n",
       "      <td>very low</td>\n",
       "      <td>very high</td>\n",
       "      <td>5</td>\n",
       "    </tr>\n",
       "    <tr>\n",
       "      <th>3</th>\n",
       "      <td>WoodpeckerNo1</td>\n",
       "      <td>3</td>\n",
       "      <td>1</td>\n",
       "      <td>1</td>\n",
       "      <td>2.0</td>\n",
       "      <td>3</td>\n",
       "      <td>\"Republican is the only way to go! Liberal pol...</td>\n",
       "      <td>\"Republican is the only way to go! Liberal pol...</td>\n",
       "      <td>\"Republican is the only way to go! Liberal pol...</td>\n",
       "      <td>\"Republican is the only way to go! Liberal pol...</td>\n",
       "      <td>\"Republican is the only way to go! Liberal pol...</td>\n",
       "      <td>18</td>\n",
       "      <td>male</td>\n",
       "      <td>white</td>\n",
       "      <td>medium</td>\n",
       "      <td>middle school</td>\n",
       "      <td>heterosexual</td>\n",
       "      <td>republican</td>\n",
       "      <td>atheist</td>\n",
       "      <td>very low</td>\n",
       "      <td>very low</td>\n",
       "      <td>very low</td>\n",
       "      <td>very low</td>\n",
       "      <td>very high</td>\n",
       "      <td>5</td>\n",
       "    </tr>\n",
       "    <tr>\n",
       "      <th>4</th>\n",
       "      <td>This_Ex_Is_On_Fire</td>\n",
       "      <td>4</td>\n",
       "      <td>2</td>\n",
       "      <td>4</td>\n",
       "      <td>NaN</td>\n",
       "      <td>4</td>\n",
       "      <td>As This_Ex_Is_On_Fire, an art enthusiast, I am...</td>\n",
       "      <td>As This_Ex_Is_On_Fire, an art enthusiast, I am...</td>\n",
       "      <td>As This_Ex_Is_On_Fire, an art enthusiast, I am...</td>\n",
       "      <td>As This_Ex_Is_On_Fire, an art enthusiast, I am...</td>\n",
       "      <td>As This_Ex_Is_On_Fire, an art enthusiast, I am...</td>\n",
       "      <td>24</td>\n",
       "      <td>female</td>\n",
       "      <td>white</td>\n",
       "      <td>medium</td>\n",
       "      <td>middle school</td>\n",
       "      <td>homosexual</td>\n",
       "      <td>republican</td>\n",
       "      <td>catholic</td>\n",
       "      <td>very high</td>\n",
       "      <td>very low</td>\n",
       "      <td>very low</td>\n",
       "      <td>very high</td>\n",
       "      <td>medium</td>\n",
       "      <td>5</td>\n",
       "    </tr>\n",
       "  </tbody>\n",
       "</table>\n",
       "</div>"
      ],
      "text/plain": [
       "             username  comment_id  thread_id  root_id  parent_id  node_id                                          b_content                                     a_content_ofsa                                     a_content_neut                                      a_content_emp                                     a_content_pres  age  gender   race  income      education sex_orientation political_leaning  religion agreeableness  openness conscientiousness extraversion neuroticism  simulate_seed\n",
       "2          joylukclub           2          1        1        1.0        2  Since I strongly lean towards the republican s...  Since I strongly lean towards the republican s...  Since I strongly lean towards the republican s...  Since I strongly lean towards the republican s...  Since I strongly lean towards the republican s...   21  female  white     low    high school    heterosexual        republican   atheist           low    medium         very high     very low   very high              5\n",
       "3       WoodpeckerNo1           3          1        1        2.0        3  \"Republican is the only way to go! Liberal pol...  \"Republican is the only way to go! Liberal pol...  \"Republican is the only way to go! Liberal pol...  \"Republican is the only way to go! Liberal pol...  \"Republican is the only way to go! Liberal pol...   18    male  white  medium  middle school    heterosexual        republican   atheist      very low  very low          very low     very low   very high              5\n",
       "4  This_Ex_Is_On_Fire           4          2        4        NaN        4  As This_Ex_Is_On_Fire, an art enthusiast, I am...  As This_Ex_Is_On_Fire, an art enthusiast, I am...  As This_Ex_Is_On_Fire, an art enthusiast, I am...  As This_Ex_Is_On_Fire, an art enthusiast, I am...  As This_Ex_Is_On_Fire, an art enthusiast, I am...   24  female  white  medium  middle school      homosexual        republican  catholic     very high  very low          very low    very high      medium              5"
      ]
     },
     "execution_count": 34,
     "metadata": {},
     "output_type": "execute_result"
    }
   ],
   "source": [
    "print(f\"Shape: {df_exante.shape}\")\n",
    "df_exante.head(3)"
   ]
  },
  {
   "cell_type": "markdown",
   "metadata": {},
   "source": [
    "Add comment_id to keep track of before and after moderation contents, and other kinds of analyses in the future"
   ]
  },
  {
   "cell_type": "code",
   "execution_count": 35,
   "metadata": {},
   "outputs": [],
   "source": [
    "df_echoch_tox.insert(loc = 1, column = \"comment_id\", value = range(len(df_echoch_tox)))\n",
    "df_echoch_heal.insert(loc = 1, column = \"comment_id\", value = range(len(df_echoch_heal)))"
   ]
  },
  {
   "cell_type": "code",
   "execution_count": 36,
   "metadata": {},
   "outputs": [
    {
     "data": {
      "text/html": [
       "<div>\n",
       "<style scoped>\n",
       "    .dataframe tbody tr th:only-of-type {\n",
       "        vertical-align: middle;\n",
       "    }\n",
       "\n",
       "    .dataframe tbody tr th {\n",
       "        vertical-align: top;\n",
       "    }\n",
       "\n",
       "    .dataframe thead th {\n",
       "        text-align: right;\n",
       "    }\n",
       "</style>\n",
       "<table border=\"1\" class=\"dataframe\">\n",
       "  <thead>\n",
       "    <tr style=\"text-align: right;\">\n",
       "      <th></th>\n",
       "      <th>username</th>\n",
       "      <th>comment_id</th>\n",
       "      <th>thread_id</th>\n",
       "      <th>root_id</th>\n",
       "      <th>parent_id</th>\n",
       "      <th>node_id</th>\n",
       "      <th>b_content</th>\n",
       "      <th>a_content_ofsa</th>\n",
       "      <th>a_content_neut</th>\n",
       "      <th>a_content_emp</th>\n",
       "      <th>a_content_pres</th>\n",
       "      <th>age</th>\n",
       "      <th>gender</th>\n",
       "      <th>race</th>\n",
       "      <th>income</th>\n",
       "      <th>education</th>\n",
       "      <th>sex_orientation</th>\n",
       "      <th>political_leaning</th>\n",
       "      <th>religion</th>\n",
       "      <th>agreeableness</th>\n",
       "      <th>openness</th>\n",
       "      <th>conscientiousness</th>\n",
       "      <th>extraversion</th>\n",
       "      <th>neuroticism</th>\n",
       "      <th>pmi_type</th>\n",
       "      <th>tox_type</th>\n",
       "      <th>simulate_seed</th>\n",
       "    </tr>\n",
       "  </thead>\n",
       "  <tbody>\n",
       "    <tr>\n",
       "      <th>0</th>\n",
       "      <td>jothamvw</td>\n",
       "      <td>0</td>\n",
       "      <td>0</td>\n",
       "      <td>0</td>\n",
       "      <td>NaN</td>\n",
       "      <td>0</td>\n",
       "      <td>NaN</td>\n",
       "      <td>NaN</td>\n",
       "      <td>NaN</td>\n",
       "      <td>NaN</td>\n",
       "      <td>NaN</td>\n",
       "      <td>19</td>\n",
       "      <td>male</td>\n",
       "      <td>latino</td>\n",
       "      <td>medium</td>\n",
       "      <td>high school</td>\n",
       "      <td>heterosexual</td>\n",
       "      <td>democratic</td>\n",
       "      <td>catholic</td>\n",
       "      <td>very high</td>\n",
       "      <td>very low</td>\n",
       "      <td>very low</td>\n",
       "      <td>very low</td>\n",
       "      <td>very high</td>\n",
       "      <td>ofsa</td>\n",
       "      <td>healthy</td>\n",
       "      <td>17</td>\n",
       "    </tr>\n",
       "    <tr>\n",
       "      <th>1</th>\n",
       "      <td>happygolily8</td>\n",
       "      <td>1</td>\n",
       "      <td>0</td>\n",
       "      <td>0</td>\n",
       "      <td>0.0</td>\n",
       "      <td>1</td>\n",
       "      <td>NaN</td>\n",
       "      <td>NaN</td>\n",
       "      <td>NaN</td>\n",
       "      <td>NaN</td>\n",
       "      <td>NaN</td>\n",
       "      <td>18</td>\n",
       "      <td>female</td>\n",
       "      <td>white</td>\n",
       "      <td>high</td>\n",
       "      <td>middle school</td>\n",
       "      <td>heterosexual</td>\n",
       "      <td>republican</td>\n",
       "      <td>protestant</td>\n",
       "      <td>very high</td>\n",
       "      <td>very low</td>\n",
       "      <td>very high</td>\n",
       "      <td>medium</td>\n",
       "      <td>very high</td>\n",
       "      <td>ofsa</td>\n",
       "      <td>healthy</td>\n",
       "      <td>17</td>\n",
       "    </tr>\n",
       "    <tr>\n",
       "      <th>2</th>\n",
       "      <td>xplosiveoctopus</td>\n",
       "      <td>2</td>\n",
       "      <td>1</td>\n",
       "      <td>2</td>\n",
       "      <td>NaN</td>\n",
       "      <td>2</td>\n",
       "      <td>NaN</td>\n",
       "      <td>NaN</td>\n",
       "      <td>NaN</td>\n",
       "      <td>NaN</td>\n",
       "      <td>NaN</td>\n",
       "      <td>29</td>\n",
       "      <td>male</td>\n",
       "      <td>latino</td>\n",
       "      <td>medium</td>\n",
       "      <td>high school</td>\n",
       "      <td>homosexual</td>\n",
       "      <td>democratic</td>\n",
       "      <td>catholic</td>\n",
       "      <td>very low</td>\n",
       "      <td>low</td>\n",
       "      <td>very low</td>\n",
       "      <td>very high</td>\n",
       "      <td>very high</td>\n",
       "      <td>ofsa</td>\n",
       "      <td>healthy</td>\n",
       "      <td>17</td>\n",
       "    </tr>\n",
       "  </tbody>\n",
       "</table>\n",
       "</div>"
      ],
      "text/plain": [
       "          username  comment_id  thread_id  root_id  parent_id  node_id b_content a_content_ofsa a_content_neut a_content_emp a_content_pres  age  gender    race  income      education sex_orientation political_leaning    religion agreeableness  openness conscientiousness extraversion neuroticism pmi_type tox_type  simulate_seed\n",
       "0         jothamvw           0          0        0        NaN        0       NaN            NaN            NaN           NaN            NaN   19    male  latino  medium    high school    heterosexual        democratic    catholic     very high  very low          very low     very low   very high     ofsa  healthy             17\n",
       "1     happygolily8           1          0        0        0.0        1       NaN            NaN            NaN           NaN            NaN   18  female   white    high  middle school    heterosexual        republican  protestant     very high  very low         very high       medium   very high     ofsa  healthy             17\n",
       "2  xplosiveoctopus           2          1        2        NaN        2       NaN            NaN            NaN           NaN            NaN   29    male  latino  medium    high school      homosexual        democratic    catholic      very low       low          very low    very high   very high     ofsa  healthy             17"
      ]
     },
     "execution_count": 36,
     "metadata": {},
     "output_type": "execute_result"
    }
   ],
   "source": [
    "df_echoch_heal.head(3)"
   ]
  },
  {
   "cell_type": "markdown",
   "metadata": {},
   "source": [
    "Remove pmi_type since now we have extracted the a_content for each type (other features are the same, except moderation prompt and intervention, which we don't keep)"
   ]
  },
  {
   "cell_type": "code",
   "execution_count": 37,
   "metadata": {},
   "outputs": [],
   "source": [
    "df_echoch_tox.drop(columns = [\"pmi_type\"], inplace = True)\n",
    "df_echoch_heal.drop(columns = [\"pmi_type\"], inplace = True)"
   ]
  },
  {
   "cell_type": "code",
   "execution_count": 38,
   "metadata": {},
   "outputs": [
    {
     "data": {
      "text/html": [
       "<div>\n",
       "<style scoped>\n",
       "    .dataframe tbody tr th:only-of-type {\n",
       "        vertical-align: middle;\n",
       "    }\n",
       "\n",
       "    .dataframe tbody tr th {\n",
       "        vertical-align: top;\n",
       "    }\n",
       "\n",
       "    .dataframe thead th {\n",
       "        text-align: right;\n",
       "    }\n",
       "</style>\n",
       "<table border=\"1\" class=\"dataframe\">\n",
       "  <thead>\n",
       "    <tr style=\"text-align: right;\">\n",
       "      <th></th>\n",
       "      <th>username</th>\n",
       "      <th>comment_id</th>\n",
       "      <th>thread_id</th>\n",
       "      <th>root_id</th>\n",
       "      <th>parent_id</th>\n",
       "      <th>node_id</th>\n",
       "      <th>b_content</th>\n",
       "      <th>a_content_ofsa</th>\n",
       "      <th>a_content_neut</th>\n",
       "      <th>a_content_emp</th>\n",
       "      <th>a_content_pres</th>\n",
       "      <th>age</th>\n",
       "      <th>gender</th>\n",
       "      <th>race</th>\n",
       "      <th>income</th>\n",
       "      <th>education</th>\n",
       "      <th>sex_orientation</th>\n",
       "      <th>political_leaning</th>\n",
       "      <th>religion</th>\n",
       "      <th>agreeableness</th>\n",
       "      <th>openness</th>\n",
       "      <th>conscientiousness</th>\n",
       "      <th>extraversion</th>\n",
       "      <th>neuroticism</th>\n",
       "      <th>tox_type</th>\n",
       "      <th>simulate_seed</th>\n",
       "    </tr>\n",
       "  </thead>\n",
       "  <tbody>\n",
       "    <tr>\n",
       "      <th>1200</th>\n",
       "      <td>WoodpeckerNo1</td>\n",
       "      <td>0</td>\n",
       "      <td>0</td>\n",
       "      <td>0</td>\n",
       "      <td>NaN</td>\n",
       "      <td>0</td>\n",
       "      <td>If those climate change activists think they c...</td>\n",
       "      <td>If those climate change activists think they c...</td>\n",
       "      <td>NaN</td>\n",
       "      <td>NaN</td>\n",
       "      <td>NaN</td>\n",
       "      <td>18</td>\n",
       "      <td>male</td>\n",
       "      <td>white</td>\n",
       "      <td>medium</td>\n",
       "      <td>middle school</td>\n",
       "      <td>heterosexual</td>\n",
       "      <td>republican</td>\n",
       "      <td>atheist</td>\n",
       "      <td>very low</td>\n",
       "      <td>very low</td>\n",
       "      <td>very low</td>\n",
       "      <td>very low</td>\n",
       "      <td>very high</td>\n",
       "      <td>toxic</td>\n",
       "      <td>17</td>\n",
       "    </tr>\n",
       "    <tr>\n",
       "      <th>1201</th>\n",
       "      <td>happygolily8</td>\n",
       "      <td>1</td>\n",
       "      <td>0</td>\n",
       "      <td>0</td>\n",
       "      <td>0.0</td>\n",
       "      <td>1</td>\n",
       "      <td>WoodpeckerNo1, you're absolutely right. These ...</td>\n",
       "      <td>WoodpeckerNo1, you're absolutely right. These ...</td>\n",
       "      <td>If I hear another politician talk about helpin...</td>\n",
       "      <td>Many people say that \"Government is obsolete, ...</td>\n",
       "      <td>Today, I decided to go to the city hall to ren...</td>\n",
       "      <td>18</td>\n",
       "      <td>female</td>\n",
       "      <td>white</td>\n",
       "      <td>high</td>\n",
       "      <td>middle school</td>\n",
       "      <td>heterosexual</td>\n",
       "      <td>republican</td>\n",
       "      <td>protestant</td>\n",
       "      <td>very high</td>\n",
       "      <td>very low</td>\n",
       "      <td>very high</td>\n",
       "      <td>medium</td>\n",
       "      <td>very high</td>\n",
       "      <td>toxic</td>\n",
       "      <td>17</td>\n",
       "    </tr>\n",
       "    <tr>\n",
       "      <th>1202</th>\n",
       "      <td>cryoK</td>\n",
       "      <td>2</td>\n",
       "      <td>1</td>\n",
       "      <td>2</td>\n",
       "      <td>NaN</td>\n",
       "      <td>2</td>\n",
       "      <td>As a proud Republican, I stand against abortio...</td>\n",
       "      <td>As a proud Republican, I stand against abortio...</td>\n",
       "      <td>Everyone knows that a healthy body leads to a ...</td>\n",
       "      <td>Hey guys, I just started working out again, an...</td>\n",
       "      <td>Everyone wants a perfect body, but not everyon...</td>\n",
       "      <td>23</td>\n",
       "      <td>male</td>\n",
       "      <td>white</td>\n",
       "      <td>high</td>\n",
       "      <td>university</td>\n",
       "      <td>homosexual</td>\n",
       "      <td>republican</td>\n",
       "      <td>catholic</td>\n",
       "      <td>very low</td>\n",
       "      <td>low</td>\n",
       "      <td>low</td>\n",
       "      <td>very low</td>\n",
       "      <td>high</td>\n",
       "      <td>toxic</td>\n",
       "      <td>17</td>\n",
       "    </tr>\n",
       "  </tbody>\n",
       "</table>\n",
       "</div>"
      ],
      "text/plain": [
       "           username  comment_id  thread_id  root_id  parent_id  node_id                                          b_content                                     a_content_ofsa                                     a_content_neut                                      a_content_emp                                     a_content_pres  age  gender   race  income      education sex_orientation political_leaning    religion agreeableness  openness conscientiousness extraversion neuroticism tox_type  simulate_seed\n",
       "1200  WoodpeckerNo1           0          0        0        NaN        0  If those climate change activists think they c...  If those climate change activists think they c...                                                NaN                                                NaN                                                NaN   18    male  white  medium  middle school    heterosexual        republican     atheist      very low  very low          very low     very low   very high    toxic             17\n",
       "1201   happygolily8           1          0        0        0.0        1  WoodpeckerNo1, you're absolutely right. These ...  WoodpeckerNo1, you're absolutely right. These ...  If I hear another politician talk about helpin...  Many people say that \"Government is obsolete, ...  Today, I decided to go to the city hall to ren...   18  female  white    high  middle school    heterosexual        republican  protestant     very high  very low         very high       medium   very high    toxic             17\n",
       "1202          cryoK           2          1        2        NaN        2  As a proud Republican, I stand against abortio...  As a proud Republican, I stand against abortio...  Everyone knows that a healthy body leads to a ...  Hey guys, I just started working out again, an...  Everyone wants a perfect body, but not everyon...   23    male  white    high     university      homosexual        republican    catholic      very low       low               low     very low        high    toxic             17"
      ]
     },
     "execution_count": 38,
     "metadata": {},
     "output_type": "execute_result"
    }
   ],
   "source": [
    "df_echoch_tox.head(3)"
   ]
  },
  {
   "cell_type": "markdown",
   "metadata": {},
   "source": [
    "Missing values for comments before moderation"
   ]
  },
  {
   "cell_type": "code",
   "execution_count": 39,
   "metadata": {},
   "outputs": [
    {
     "name": "stdout",
     "output_type": "stream",
     "text": [
      "Missing values for content before moderation (toxic): 408\n",
      "Missing values for content before moderation (healthy): 349\n"
     ]
    }
   ],
   "source": [
    "print(f\"Missing values for content before moderation (toxic): {len(df_echoch_tox[df_echoch_tox['b_content'].isna()])}\")\n",
    "print(f\"Missing values for content before moderation (healthy): {len(df_echoch_heal[df_echoch_heal['b_content'].isna()])}\")"
   ]
  },
  {
   "cell_type": "code",
   "execution_count": 40,
   "metadata": {},
   "outputs": [
    {
     "name": "stdout",
     "output_type": "stream",
     "text": [
      "Shape (toxic):\n",
      "(992, 26)\n",
      "\n",
      "Shape (healthy):\n",
      "(851, 26)\n",
      "\n"
     ]
    }
   ],
   "source": [
    "# remove missing comments before moderation\n",
    "df_echoch_tox = df_echoch_tox[df_echoch_tox[\"b_content\"].notna()].copy(deep = True)\n",
    "df_echoch_heal = df_echoch_heal[df_echoch_heal[\"b_content\"].notna()].copy(deep = True)\n",
    "\n",
    "print(f\"Shape (toxic):\\n{df_echoch_tox.shape}\\n\")\n",
    "print(f\"Shape (healthy):\\n{df_echoch_heal.shape}\\n\")"
   ]
  },
  {
   "cell_type": "markdown",
   "metadata": {},
   "source": [
    "Duplicates removal for b_content (mostly allucinations: \" and \" and \"Your comment goes here\")"
   ]
  },
  {
   "cell_type": "code",
   "execution_count": 41,
   "metadata": {},
   "outputs": [
    {
     "data": {
      "text/html": [
       "<div>\n",
       "<style scoped>\n",
       "    .dataframe tbody tr th:only-of-type {\n",
       "        vertical-align: middle;\n",
       "    }\n",
       "\n",
       "    .dataframe tbody tr th {\n",
       "        vertical-align: top;\n",
       "    }\n",
       "\n",
       "    .dataframe thead th {\n",
       "        text-align: right;\n",
       "    }\n",
       "</style>\n",
       "<table border=\"1\" class=\"dataframe\">\n",
       "  <thead>\n",
       "    <tr style=\"text-align: right;\">\n",
       "      <th></th>\n",
       "      <th>username</th>\n",
       "      <th>comment_id</th>\n",
       "      <th>thread_id</th>\n",
       "      <th>root_id</th>\n",
       "      <th>parent_id</th>\n",
       "      <th>node_id</th>\n",
       "      <th>b_content</th>\n",
       "      <th>a_content_ofsa</th>\n",
       "      <th>a_content_neut</th>\n",
       "      <th>a_content_emp</th>\n",
       "      <th>a_content_pres</th>\n",
       "      <th>age</th>\n",
       "      <th>gender</th>\n",
       "      <th>race</th>\n",
       "      <th>income</th>\n",
       "      <th>education</th>\n",
       "      <th>sex_orientation</th>\n",
       "      <th>political_leaning</th>\n",
       "      <th>religion</th>\n",
       "      <th>agreeableness</th>\n",
       "      <th>openness</th>\n",
       "      <th>conscientiousness</th>\n",
       "      <th>extraversion</th>\n",
       "      <th>neuroticism</th>\n",
       "      <th>tox_type</th>\n",
       "      <th>simulate_seed</th>\n",
       "    </tr>\n",
       "  </thead>\n",
       "  <tbody>\n",
       "    <tr>\n",
       "      <th>1366</th>\n",
       "      <td>Q1189998819991197253</td>\n",
       "      <td>166</td>\n",
       "      <td>64</td>\n",
       "      <td>131</td>\n",
       "      <td>131.0</td>\n",
       "      <td>166</td>\n",
       "      <td>\" and \"</td>\n",
       "      <td>Write your comment here.</td>\n",
       "      <td>NaN</td>\n",
       "      <td>NaN</td>\n",
       "      <td>NaN</td>\n",
       "      <td>19</td>\n",
       "      <td>female</td>\n",
       "      <td>white</td>\n",
       "      <td>high</td>\n",
       "      <td>middle school</td>\n",
       "      <td>homosexual</td>\n",
       "      <td>republican</td>\n",
       "      <td>catholic</td>\n",
       "      <td>very low</td>\n",
       "      <td>medium</td>\n",
       "      <td>very low</td>\n",
       "      <td>medium</td>\n",
       "      <td>very high</td>\n",
       "      <td>toxic</td>\n",
       "      <td>17</td>\n",
       "    </tr>\n",
       "    <tr>\n",
       "      <th>1385</th>\n",
       "      <td>harrytrumanprimate</td>\n",
       "      <td>185</td>\n",
       "      <td>92</td>\n",
       "      <td>185</td>\n",
       "      <td>NaN</td>\n",
       "      <td>185</td>\n",
       "      <td>\" and \"</td>\n",
       "      <td>&lt;your post content goes here&gt;</td>\n",
       "      <td>As a proud member of the Republican party, I s...</td>\n",
       "      <td>As a proud member of the Republican party, I f...</td>\n",
       "      <td>As a strong believer in the Republican Party, ...</td>\n",
       "      <td>23</td>\n",
       "      <td>male</td>\n",
       "      <td>black</td>\n",
       "      <td>low</td>\n",
       "      <td>middle school</td>\n",
       "      <td>homosexual</td>\n",
       "      <td>republican</td>\n",
       "      <td>catholic</td>\n",
       "      <td>very low</td>\n",
       "      <td>very low</td>\n",
       "      <td>very low</td>\n",
       "      <td>very low</td>\n",
       "      <td>medium</td>\n",
       "      <td>toxic</td>\n",
       "      <td>17</td>\n",
       "    </tr>\n",
       "    <tr>\n",
       "      <th>1427</th>\n",
       "      <td>cryoK</td>\n",
       "      <td>227</td>\n",
       "      <td>108</td>\n",
       "      <td>227</td>\n",
       "      <td>NaN</td>\n",
       "      <td>227</td>\n",
       "      <td>[Write your post here]</td>\n",
       "      <td>&lt;Your post content here&gt;</td>\n",
       "      <td>NaN</td>\n",
       "      <td>NaN</td>\n",
       "      <td>NaN</td>\n",
       "      <td>23</td>\n",
       "      <td>male</td>\n",
       "      <td>white</td>\n",
       "      <td>high</td>\n",
       "      <td>university</td>\n",
       "      <td>homosexual</td>\n",
       "      <td>republican</td>\n",
       "      <td>catholic</td>\n",
       "      <td>very low</td>\n",
       "      <td>low</td>\n",
       "      <td>low</td>\n",
       "      <td>very low</td>\n",
       "      <td>high</td>\n",
       "      <td>toxic</td>\n",
       "      <td>17</td>\n",
       "    </tr>\n",
       "  </tbody>\n",
       "</table>\n",
       "</div>"
      ],
      "text/plain": [
       "                  username  comment_id  thread_id  root_id  parent_id  node_id               b_content                 a_content_ofsa                                     a_content_neut                                      a_content_emp                                     a_content_pres  age  gender   race income      education sex_orientation political_leaning  religion agreeableness  openness conscientiousness extraversion neuroticism tox_type  simulate_seed\n",
       "1366  Q1189998819991197253         166         64      131      131.0      166                 \" and \"       Write your comment here.                                                NaN                                                NaN                                                NaN   19  female  white   high  middle school      homosexual        republican  catholic      very low    medium          very low       medium   very high    toxic             17\n",
       "1385    harrytrumanprimate         185         92      185        NaN      185                 \" and \"  <your post content goes here>  As a proud member of the Republican party, I s...  As a proud member of the Republican party, I f...  As a strong believer in the Republican Party, ...   23    male  black    low  middle school      homosexual        republican  catholic      very low  very low          very low     very low      medium    toxic             17\n",
       "1427                 cryoK         227        108      227        NaN      227  [Write your post here]       <Your post content here>                                                NaN                                                NaN                                                NaN   23    male  white   high     university      homosexual        republican  catholic      very low       low               low     very low        high    toxic             17"
      ]
     },
     "execution_count": 41,
     "metadata": {},
     "output_type": "execute_result"
    }
   ],
   "source": [
    "# examples of duplicates for b_content (toxic)\n",
    "df_echoch_tox[df_echoch_tox.duplicated(subset = [\"b_content\"])].head(3)"
   ]
  },
  {
   "cell_type": "code",
   "execution_count": 42,
   "metadata": {},
   "outputs": [
    {
     "data": {
      "text/html": [
       "<div>\n",
       "<style scoped>\n",
       "    .dataframe tbody tr th:only-of-type {\n",
       "        vertical-align: middle;\n",
       "    }\n",
       "\n",
       "    .dataframe tbody tr th {\n",
       "        vertical-align: top;\n",
       "    }\n",
       "\n",
       "    .dataframe thead th {\n",
       "        text-align: right;\n",
       "    }\n",
       "</style>\n",
       "<table border=\"1\" class=\"dataframe\">\n",
       "  <thead>\n",
       "    <tr style=\"text-align: right;\">\n",
       "      <th></th>\n",
       "      <th>username</th>\n",
       "      <th>comment_id</th>\n",
       "      <th>thread_id</th>\n",
       "      <th>root_id</th>\n",
       "      <th>parent_id</th>\n",
       "      <th>node_id</th>\n",
       "      <th>b_content</th>\n",
       "      <th>a_content_ofsa</th>\n",
       "      <th>a_content_neut</th>\n",
       "      <th>a_content_emp</th>\n",
       "      <th>a_content_pres</th>\n",
       "      <th>age</th>\n",
       "      <th>gender</th>\n",
       "      <th>race</th>\n",
       "      <th>income</th>\n",
       "      <th>education</th>\n",
       "      <th>sex_orientation</th>\n",
       "      <th>political_leaning</th>\n",
       "      <th>religion</th>\n",
       "      <th>agreeableness</th>\n",
       "      <th>openness</th>\n",
       "      <th>conscientiousness</th>\n",
       "      <th>extraversion</th>\n",
       "      <th>neuroticism</th>\n",
       "      <th>tox_type</th>\n",
       "      <th>simulate_seed</th>\n",
       "    </tr>\n",
       "  </thead>\n",
       "  <tbody>\n",
       "    <tr>\n",
       "      <th>36</th>\n",
       "      <td>happygolily8</td>\n",
       "      <td>36</td>\n",
       "      <td>9</td>\n",
       "      <td>22</td>\n",
       "      <td>30.0</td>\n",
       "      <td>36</td>\n",
       "      <td>\" and \"</td>\n",
       "      <td>\" and \"</td>\n",
       "      <td>\" and \"</td>\n",
       "      <td>\" and \"</td>\n",
       "      <td>\" and \"</td>\n",
       "      <td>18</td>\n",
       "      <td>female</td>\n",
       "      <td>white</td>\n",
       "      <td>high</td>\n",
       "      <td>middle school</td>\n",
       "      <td>heterosexual</td>\n",
       "      <td>republican</td>\n",
       "      <td>protestant</td>\n",
       "      <td>very high</td>\n",
       "      <td>very low</td>\n",
       "      <td>very high</td>\n",
       "      <td>medium</td>\n",
       "      <td>very high</td>\n",
       "      <td>healthy</td>\n",
       "      <td>17</td>\n",
       "    </tr>\n",
       "    <tr>\n",
       "      <th>40</th>\n",
       "      <td>xplosiveoctopus</td>\n",
       "      <td>40</td>\n",
       "      <td>17</td>\n",
       "      <td>40</td>\n",
       "      <td>NaN</td>\n",
       "      <td>40</td>\n",
       "      <td>\" and \"</td>\n",
       "      <td>In my opinion, the government's lack of urgenc...</td>\n",
       "      <td>Dear friends, how many times have we complaine...</td>\n",
       "      <td>Dear idiots at the city hall, how could you al...</td>\n",
       "      <td>In our country, government inefficiency has pl...</td>\n",
       "      <td>29</td>\n",
       "      <td>male</td>\n",
       "      <td>latino</td>\n",
       "      <td>medium</td>\n",
       "      <td>high school</td>\n",
       "      <td>homosexual</td>\n",
       "      <td>democratic</td>\n",
       "      <td>catholic</td>\n",
       "      <td>very low</td>\n",
       "      <td>low</td>\n",
       "      <td>very low</td>\n",
       "      <td>very high</td>\n",
       "      <td>very high</td>\n",
       "      <td>healthy</td>\n",
       "      <td>17</td>\n",
       "    </tr>\n",
       "    <tr>\n",
       "      <th>66</th>\n",
       "      <td>seztomabel</td>\n",
       "      <td>66</td>\n",
       "      <td>15</td>\n",
       "      <td>38</td>\n",
       "      <td>42.0</td>\n",
       "      <td>66</td>\n",
       "      <td>\" and \"</td>\n",
       "      <td>\" and \"</td>\n",
       "      <td>\" and \"</td>\n",
       "      <td>\" and \"</td>\n",
       "      <td>\" and \"</td>\n",
       "      <td>31</td>\n",
       "      <td>male</td>\n",
       "      <td>white</td>\n",
       "      <td>medium</td>\n",
       "      <td>high school</td>\n",
       "      <td>heterosexual</td>\n",
       "      <td>republican</td>\n",
       "      <td>atheist</td>\n",
       "      <td>medium</td>\n",
       "      <td>medium</td>\n",
       "      <td>low</td>\n",
       "      <td>medium</td>\n",
       "      <td>low</td>\n",
       "      <td>healthy</td>\n",
       "      <td>17</td>\n",
       "    </tr>\n",
       "  </tbody>\n",
       "</table>\n",
       "</div>"
      ],
      "text/plain": [
       "           username  comment_id  thread_id  root_id  parent_id  node_id b_content                                     a_content_ofsa                                     a_content_neut                                      a_content_emp                                     a_content_pres  age  gender    race  income      education sex_orientation political_leaning    religion agreeableness  openness conscientiousness extraversion neuroticism tox_type  simulate_seed\n",
       "36     happygolily8          36          9       22       30.0       36   \" and \"                                            \" and \"                                            \" and \"                                            \" and \"                                            \" and \"   18  female   white    high  middle school    heterosexual        republican  protestant     very high  very low         very high       medium   very high  healthy             17\n",
       "40  xplosiveoctopus          40         17       40        NaN       40   \" and \"  In my opinion, the government's lack of urgenc...  Dear friends, how many times have we complaine...  Dear idiots at the city hall, how could you al...  In our country, government inefficiency has pl...   29    male  latino  medium    high school      homosexual        democratic    catholic      very low       low          very low    very high   very high  healthy             17\n",
       "66       seztomabel          66         15       38       42.0       66   \" and \"                                            \" and \"                                            \" and \"                                            \" and \"                                            \" and \"   31    male   white  medium    high school    heterosexual        republican     atheist        medium    medium               low       medium         low  healthy             17"
      ]
     },
     "execution_count": 42,
     "metadata": {},
     "output_type": "execute_result"
    }
   ],
   "source": [
    "# examples of duplicates for b_content (healthy)\n",
    "df_echoch_heal[df_echoch_heal.duplicated(subset = [\"b_content\"])].head(3)"
   ]
  },
  {
   "cell_type": "code",
   "execution_count": null,
   "metadata": {},
   "outputs": [
    {
     "name": "stdout",
     "output_type": "stream",
     "text": [
      "Toxic data:\n",
      "Number of allucinations/duplicates for b_content: 22\n",
      "\n",
      "Final Shape: (970, 26)\n"
     ]
    }
   ],
   "source": [
    "# remove them since the content is useless (all \"and\", \"your comment goes here\")\n",
    "print(\"Toxic data:\")\n",
    "print(f\"Number of allucinations/duplicates for b_content: {len(df_echoch_tox[df_echoch_tox['b_content'].duplicated()])}\")\n",
    "df_echoch_tox = df_echoch_tox[~df_echoch_tox[\"b_content\"].duplicated()]\n",
    "print(f\"\\nFinal Shape: {df_echoch_tox.shape}\") "
   ]
  },
  {
   "cell_type": "code",
   "execution_count": 44,
   "metadata": {},
   "outputs": [
    {
     "name": "stdout",
     "output_type": "stream",
     "text": [
      "Healthy data:\n",
      "Number of allucinations/duplicates for b_content: 22\n",
      "\n",
      "Final Shape: (829, 26)\n"
     ]
    }
   ],
   "source": [
    "# remove them since the content is useless (all \"and\", \"your comment goes here\")\n",
    "print(\"Healthy data:\")\n",
    "print(f\"Number of allucinations/duplicates for b_content: {len(df_echoch_heal[df_echoch_heal['b_content'].duplicated()])}\")\n",
    "df_echoch_heal = df_echoch_heal[~df_echoch_heal[\"b_content\"].duplicated()]\n",
    "print(f\"\\nFinal Shape: {df_echoch_heal.shape}\")"
   ]
  },
  {
   "cell_type": "code",
   "execution_count": 45,
   "metadata": {},
   "outputs": [],
   "source": [
    "# store the echochambers simulated datasets\n",
    "df_echoch_tox.to_csv(\"../original_data/simulator/echoch/SIMULATOR_echoch_tox_original.csv\", index = False, encoding = \"utf-8\")\n",
    "df_echoch_heal.to_csv(\"../original_data/simulator/echoch/SIMULATOR_echoch_heal_original.csv\", index = False, encoding = \"utf-8\")"
   ]
  }
 ],
 "metadata": {
  "kernelspec": {
   "display_name": "deeplearning",
   "language": "python",
   "name": "python3"
  },
  "language_info": {
   "codemirror_mode": {
    "name": "ipython",
    "version": 3
   },
   "file_extension": ".py",
   "mimetype": "text/x-python",
   "name": "python",
   "nbconvert_exporter": "python",
   "pygments_lexer": "ipython3",
   "version": "3.9.16"
  }
 },
 "nbformat": 4,
 "nbformat_minor": 2
}
