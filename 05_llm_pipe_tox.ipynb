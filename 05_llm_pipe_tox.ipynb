{
 "cells": [
  {
   "cell_type": "markdown",
   "metadata": {},
   "source": [
    "##### Imports"
   ]
  },
  {
   "cell_type": "code",
   "execution_count": null,
   "metadata": {},
   "outputs": [
    {
     "name": "stderr",
     "output_type": "stream",
     "text": [
      "c:\\Users\\User\\anaconda3\\envs\\deeplearning\\lib\\site-packages\\tqdm\\auto.py:21: TqdmWarning: IProgress not found. Please update jupyter and ipywidgets. See https://ipywidgets.readthedocs.io/en/stable/user_install.html\n",
      "  from .autonotebook import tqdm as notebook_tqdm\n"
     ]
    }
   ],
   "source": [
    "from scripts.embed_extraction import *\n",
    "from scripts.feature_extraction import fix_encoding\n",
    "from scripts.plotting import * "
   ]
  },
  {
   "cell_type": "markdown",
   "metadata": {},
   "source": [
    "Progress tracking"
   ]
  },
  {
   "cell_type": "code",
   "execution_count": 2,
   "metadata": {},
   "outputs": [],
   "source": [
    "# track progress\n",
    "tqdm.pandas()"
   ]
  },
  {
   "cell_type": "markdown",
   "metadata": {},
   "source": [
    "Check if GPU and CUDA are available/recognized"
   ]
  },
  {
   "cell_type": "code",
   "execution_count": 3,
   "metadata": {},
   "outputs": [
    {
     "name": "stdout",
     "output_type": "stream",
     "text": [
      "CUDA Available: True\n",
      "CUDA Version: 12.1\n",
      "Device: NVIDIA GeForce RTX 3060\n"
     ]
    }
   ],
   "source": [
    "# cuda version and gpu recognition \n",
    "print(f\"CUDA Available: {torch.cuda.is_available()}\")\n",
    "print(f\"CUDA Version: {torch.version.cuda if torch.cuda.is_available() else 'Not available.'}\")\n",
    "print(f\"Device: {torch.cuda.get_device_name(0) if torch.cuda.is_available() else 'CPU'}\")"
   ]
  },
  {
   "cell_type": "markdown",
   "metadata": {},
   "source": [
    "### Datasets\n",
    "- we shuffle the real data, since it has ordering based on authors"
   ]
  },
  {
   "cell_type": "code",
   "execution_count": 4,
   "metadata": {},
   "outputs": [],
   "source": [
    "## real users data\n",
    "#df_real = pd.read_csv(\"../final_data/pandora/PANDORA_full.csv\", encoding = \"utf-8\")"
   ]
  },
  {
   "cell_type": "code",
   "execution_count": 5,
   "metadata": {},
   "outputs": [],
   "source": [
    "## simulated data\n",
    "## before moderation\n",
    "#df_bef = pd.read_csv(\"../final_data/simulator/exante/before_mod/SIMULATOR_exante_bef_full.csv\", encoding = \"utf-8\")\n",
    "## ofsa\n",
    "#df_ofsa = pd.read_csv(\"../final_data/simulator/exante/after_mod/SIMULATOR_exante_ofsa_full.csv\", encoding = \"utf-8\")\n",
    "## neutral\n",
    "#df_neut = pd.read_csv(\"../final_data/simulator/exante/after_mod/SIMULATOR_exante_neut_full.csv\", encoding = \"utf-8\")\n",
    "## empathizing\n",
    "#df_emp = pd.read_csv(\"../final_data/simulator/exante/after_mod/SIMULATOR_exante_emp_full.csv\", encoding = \"utf-8\")\n",
    "## prescriptive\n",
    "#df_pres = pd.read_csv(\"../final_data/simulator/exante/after_mod/SIMULATOR_exante_pres_full.csv\", encoding = \"utf-8\")"
   ]
  },
  {
   "cell_type": "markdown",
   "metadata": {},
   "source": [
    "##### Shuffling real data\n",
    "- to avoid algorithmic bias related to processing order\n",
    "- only real data, the simulated data has no specific ordering"
   ]
  },
  {
   "cell_type": "code",
   "execution_count": 6,
   "metadata": {},
   "outputs": [],
   "source": [
    "## shuffle data\n",
    "#df_real = shuffle(df_real, random_state = SEED).reset_index(drop = True)"
   ]
  },
  {
   "cell_type": "markdown",
   "metadata": {},
   "source": [
    "##### Test data\n",
    "- since we need to validate the simulator, we have to sample the real data to have it comparable with the simulated\n",
    "- we don't base ourselves on the proportions of the specific toxicities obscene, threat, insult and identity attack\n",
    "    - because we want to look at the differences of exactly these features in real and simulated clusters\n",
    "    - and we also use them for fine tuning the models\n",
    "- therefore we use the a binning of the \"toxicity\" feature, and sample the real data accordingly to its levels in the simulated\n",
    "- this way, we keep the ratio of general toxic and non-toxic comments as in the simulator, but we don't impact the proportions of the specific toxic features"
   ]
  },
  {
   "cell_type": "code",
   "execution_count": 7,
   "metadata": {},
   "outputs": [],
   "source": [
    "## toxicity bins and labels\n",
    "#bins = [0.0, 0.2, 0.4, 0.6, 0.8, 1.0]\n",
    "#labels = [\"very low\", \"low\", \"medium\", \"high\", \"very high\"]\n",
    "#\n",
    "## binning of real and sim data\n",
    "#df_real[\"tox_bin\"] = pd.cut(df_real[\"toxicity\"], bins = bins, labels = labels, include_lowest = True)\n",
    "#df_bef[\"tox_bin\"] = pd.cut(df_bef[\"toxicity\"], bins = bins, labels = labels, include_lowest = True)"
   ]
  },
  {
   "cell_type": "code",
   "execution_count": 8,
   "metadata": {},
   "outputs": [],
   "source": [
    "## distribution of toxicity levels in the simulated data\n",
    "#bef_tox_dist = df_bef[\"tox_bin\"].value_counts(normalize = True).sort_index()"
   ]
  },
  {
   "cell_type": "code",
   "execution_count": 9,
   "metadata": {},
   "outputs": [],
   "source": [
    "## num of samples to draw from the real data\n",
    "#n_samples = 50002 # just to make it 50k\n",
    "## sample for each level and shuffle\n",
    "#df_test = pd.concat([df_real[df_real[\"tox_bin\"] == bin_label].sample(n = int(bef_tox_dist[bin_label] * n_samples), replace = False, random_state = SEED)\n",
    "#    for bin_label in bef_tox_dist.index]).sample(frac = 1, random_state = SEED)"
   ]
  },
  {
   "cell_type": "code",
   "execution_count": 10,
   "metadata": {},
   "outputs": [],
   "source": [
    "#df_test[\"tox_bin\"].value_counts(normalize = True)"
   ]
  },
  {
   "cell_type": "code",
   "execution_count": 11,
   "metadata": {},
   "outputs": [],
   "source": [
    "#df_bef[\"tox_bin\"].value_counts(normalize = True)"
   ]
  },
  {
   "cell_type": "markdown",
   "metadata": {},
   "source": [
    "##### Storing processed datasets"
   ]
  },
  {
   "cell_type": "code",
   "execution_count": 12,
   "metadata": {},
   "outputs": [],
   "source": [
    "## store real data\n",
    "#df_real.to_csv(\"../final_data/pandora/PANDORA.csv\", index = False, encoding = \"utf-8\")\n",
    "## sample of real data\n",
    "#df_test.to_csv(\"../final_data/pandora/PANDORA_test.csv\", index = False, encoding = \"utf-8\")\n",
    "## store simulated data\n",
    "#df_bef.to_csv(\"../final_data/simulator/exante/before_mod/SIMULATOR_exante_bef.csv\", index = False, encoding = \"utf-8\")\n",
    "#df_ofsa.to_csv(\"../final_data/simulator/exante/after_mod/SIMULATOR_exante_ofsa.csv\", index = False, encoding = \"utf-8\")\n",
    "#df_neut.to_csv(\"../final_data/simulator/exante/after_mod/SIMULATOR_exante_neut.csv\", index = False, encoding = \"utf-8\")\n",
    "#df_emp.to_csv(\"../final_data/simulator/exante/after_mod/SIMULATOR_exante_emp.csv\", index = False, encoding = \"utf-8\")\n",
    "#df_pres.to_csv(\"../final_data/simulator/exante/after_mod/SIMULATOR_exante_pres.csv\", index = False, encoding = \"utf-8\")"
   ]
  },
  {
   "cell_type": "markdown",
   "metadata": {},
   "source": [
    "### Datasets\n",
    "- i only read the comment_id, textual column and toxic features (for fine-tuning) to get the embeddings, in order to reduce memory usage"
   ]
  },
  {
   "cell_type": "code",
   "execution_count": 13,
   "metadata": {},
   "outputs": [],
   "source": [
    "cols_to_keep = [\"comment_id\", \"llm_body\", \"obscene\", \"threat\", \"insult\", \"identity_attack\"]"
   ]
  },
  {
   "cell_type": "markdown",
   "metadata": {},
   "source": [
    "##### Real"
   ]
  },
  {
   "cell_type": "code",
   "execution_count": 14,
   "metadata": {},
   "outputs": [],
   "source": [
    "# real users data\n",
    "df_real = pd.read_csv(\"../final_data/pandora/PANDORA.csv\", encoding = \"utf-8\", usecols = cols_to_keep)"
   ]
  },
  {
   "cell_type": "code",
   "execution_count": 15,
   "metadata": {},
   "outputs": [
    {
     "data": {
      "text/html": [
       "<div>\n",
       "<style scoped>\n",
       "    .dataframe tbody tr th:only-of-type {\n",
       "        vertical-align: middle;\n",
       "    }\n",
       "\n",
       "    .dataframe tbody tr th {\n",
       "        vertical-align: top;\n",
       "    }\n",
       "\n",
       "    .dataframe thead th {\n",
       "        text-align: right;\n",
       "    }\n",
       "</style>\n",
       "<table border=\"1\" class=\"dataframe\">\n",
       "  <thead>\n",
       "    <tr style=\"text-align: right;\">\n",
       "      <th></th>\n",
       "      <th>comment_id</th>\n",
       "      <th>llm_body</th>\n",
       "      <th>obscene</th>\n",
       "      <th>threat</th>\n",
       "      <th>insult</th>\n",
       "      <th>identity_attack</th>\n",
       "    </tr>\n",
       "  </thead>\n",
       "  <tbody>\n",
       "    <tr>\n",
       "      <th>0</th>\n",
       "      <td>2691290</td>\n",
       "      <td>i am not going to mason freshman year but i am...</td>\n",
       "      <td>0.000195</td>\n",
       "      <td>0.000112</td>\n",
       "      <td>0.0</td>\n",
       "      <td>0.000140</td>\n",
       "    </tr>\n",
       "    <tr>\n",
       "      <th>1</th>\n",
       "      <td>167000</td>\n",
       "      <td>I do not hate it because it is a TLA. I hate i...</td>\n",
       "      <td>0.000729</td>\n",
       "      <td>0.000197</td>\n",
       "      <td>0.0</td>\n",
       "      <td>0.000270</td>\n",
       "    </tr>\n",
       "    <tr>\n",
       "      <th>2</th>\n",
       "      <td>1886741</td>\n",
       "      <td>A game I have never heard of is an obvious one...</td>\n",
       "      <td>0.948036</td>\n",
       "      <td>0.002100</td>\n",
       "      <td>0.0</td>\n",
       "      <td>0.002519</td>\n",
       "    </tr>\n",
       "  </tbody>\n",
       "</table>\n",
       "</div>"
      ],
      "text/plain": [
       "   comment_id                                           llm_body   obscene    threat  insult  identity_attack\n",
       "0     2691290  i am not going to mason freshman year but i am...  0.000195  0.000112     0.0         0.000140\n",
       "1      167000  I do not hate it because it is a TLA. I hate i...  0.000729  0.000197     0.0         0.000270\n",
       "2     1886741  A game I have never heard of is an obvious one...  0.948036  0.002100     0.0         0.002519"
      ]
     },
     "execution_count": 15,
     "metadata": {},
     "output_type": "execute_result"
    }
   ],
   "source": [
    "df_real.head(3)"
   ]
  },
  {
   "cell_type": "markdown",
   "metadata": {},
   "source": [
    "##### Simulated"
   ]
  },
  {
   "cell_type": "code",
   "execution_count": 16,
   "metadata": {},
   "outputs": [],
   "source": [
    "# simulated data before moderation\n",
    "df_bef = pd.read_csv(\"../final_data/simulator/exante/before_mod/SIMULATOR_exante_bef.csv\", encoding = \"utf-8\", usecols = cols_to_keep)\n",
    "# ofsa\n",
    "df_ofsa = pd.read_csv(\"../final_data/simulator/exante/after_mod/SIMULATOR_exante_ofsa.csv\", encoding = \"utf-8\", usecols = cols_to_keep)\n",
    "# neutral\n",
    "df_neut = pd.read_csv(\"../final_data/simulator/exante/after_mod/SIMULATOR_exante_neut.csv\", encoding = \"utf-8\", usecols = cols_to_keep)\n",
    "# empathizing\n",
    "df_emp = pd.read_csv(\"../final_data/simulator/exante/after_mod/SIMULATOR_exante_emp.csv\", encoding = \"utf-8\", usecols = cols_to_keep)\n",
    "# prescriptive\n",
    "df_pres = pd.read_csv(\"../final_data/simulator/exante/after_mod/SIMULATOR_exante_pres.csv\", encoding = \"utf-8\", usecols = cols_to_keep)"
   ]
  },
  {
   "cell_type": "code",
   "execution_count": 17,
   "metadata": {},
   "outputs": [
    {
     "data": {
      "text/html": [
       "<div>\n",
       "<style scoped>\n",
       "    .dataframe tbody tr th:only-of-type {\n",
       "        vertical-align: middle;\n",
       "    }\n",
       "\n",
       "    .dataframe tbody tr th {\n",
       "        vertical-align: top;\n",
       "    }\n",
       "\n",
       "    .dataframe thead th {\n",
       "        text-align: right;\n",
       "    }\n",
       "</style>\n",
       "<table border=\"1\" class=\"dataframe\">\n",
       "  <thead>\n",
       "    <tr style=\"text-align: right;\">\n",
       "      <th></th>\n",
       "      <th>comment_id</th>\n",
       "      <th>llm_body</th>\n",
       "      <th>obscene</th>\n",
       "      <th>threat</th>\n",
       "      <th>insult</th>\n",
       "      <th>identity_attack</th>\n",
       "    </tr>\n",
       "  </thead>\n",
       "  <tbody>\n",
       "    <tr>\n",
       "      <th>0</th>\n",
       "      <td>2</td>\n",
       "      <td>Since I strongly lean towards the republican s...</td>\n",
       "      <td>0.000166</td>\n",
       "      <td>0.000128</td>\n",
       "      <td>0.0</td>\n",
       "      <td>0.000160</td>\n",
       "    </tr>\n",
       "    <tr>\n",
       "      <th>1</th>\n",
       "      <td>3</td>\n",
       "      <td>\"Republican is the only way to go! Liberal pol...</td>\n",
       "      <td>0.000633</td>\n",
       "      <td>0.000614</td>\n",
       "      <td>0.0</td>\n",
       "      <td>0.003106</td>\n",
       "    </tr>\n",
       "    <tr>\n",
       "      <th>2</th>\n",
       "      <td>4</td>\n",
       "      <td>As This_Ex_Is_On_Fire, an art enthusiast, I am...</td>\n",
       "      <td>0.002575</td>\n",
       "      <td>0.000449</td>\n",
       "      <td>0.0</td>\n",
       "      <td>0.000502</td>\n",
       "    </tr>\n",
       "  </tbody>\n",
       "</table>\n",
       "</div>"
      ],
      "text/plain": [
       "   comment_id                                           llm_body   obscene    threat  insult  identity_attack\n",
       "0           2  Since I strongly lean towards the republican s...  0.000166  0.000128     0.0         0.000160\n",
       "1           3  \"Republican is the only way to go! Liberal pol...  0.000633  0.000614     0.0         0.003106\n",
       "2           4  As This_Ex_Is_On_Fire, an art enthusiast, I am...  0.002575  0.000449     0.0         0.000502"
      ]
     },
     "execution_count": 17,
     "metadata": {},
     "output_type": "execute_result"
    }
   ],
   "source": [
    "df_bef.head(3)"
   ]
  },
  {
   "cell_type": "markdown",
   "metadata": {},
   "source": [
    "##### Fix potential erroneous character decodings"
   ]
  },
  {
   "cell_type": "code",
   "execution_count": 18,
   "metadata": {},
   "outputs": [
    {
     "name": "stderr",
     "output_type": "stream",
     "text": [
      "100%|██████████| 2710671/2710671 [00:03<00:00, 792821.11it/s]"
     ]
    },
    {
     "name": "stdout",
     "output_type": "stream",
     "text": [
      "Text encoding fixed.\n",
      "\n"
     ]
    },
    {
     "name": "stderr",
     "output_type": "stream",
     "text": [
      "\n"
     ]
    }
   ],
   "source": [
    "fix_encoding(df_real, \"llm_body\")"
   ]
  },
  {
   "cell_type": "code",
   "execution_count": 19,
   "metadata": {},
   "outputs": [
    {
     "name": "stderr",
     "output_type": "stream",
     "text": [
      "100%|██████████| 3131/3131 [00:00<00:00, 522182.43it/s]\n"
     ]
    },
    {
     "name": "stdout",
     "output_type": "stream",
     "text": [
      "Text encoding fixed.\n",
      "\n"
     ]
    },
    {
     "name": "stderr",
     "output_type": "stream",
     "text": [
      "100%|██████████| 2579/2579 [00:00<00:00, 515985.02it/s]\n"
     ]
    },
    {
     "name": "stdout",
     "output_type": "stream",
     "text": [
      "Text encoding fixed.\n",
      "\n"
     ]
    },
    {
     "name": "stderr",
     "output_type": "stream",
     "text": [
      "100%|██████████| 2620/2620 [00:00<00:00, 654891.33it/s]\n"
     ]
    },
    {
     "name": "stdout",
     "output_type": "stream",
     "text": [
      "Text encoding fixed.\n",
      "\n"
     ]
    },
    {
     "name": "stderr",
     "output_type": "stream",
     "text": [
      "100%|██████████| 2624/2624 [00:00<00:00, 655773.92it/s]\n"
     ]
    },
    {
     "name": "stdout",
     "output_type": "stream",
     "text": [
      "Text encoding fixed.\n",
      "\n"
     ]
    },
    {
     "name": "stderr",
     "output_type": "stream",
     "text": [
      "100%|██████████| 2599/2599 [00:00<00:00, 649603.49it/s]"
     ]
    },
    {
     "name": "stdout",
     "output_type": "stream",
     "text": [
      "Text encoding fixed.\n",
      "\n"
     ]
    },
    {
     "name": "stderr",
     "output_type": "stream",
     "text": [
      "\n"
     ]
    }
   ],
   "source": [
    "fix_encoding(df_bef, \"llm_body\")\n",
    "fix_encoding(df_ofsa, \"llm_body\")\n",
    "fix_encoding(df_neut, \"llm_body\")\n",
    "fix_encoding(df_emp, \"llm_body\")\n",
    "fix_encoding(df_pres, \"llm_body\")"
   ]
  },
  {
   "cell_type": "markdown",
   "metadata": {},
   "source": [
    "### Discretize toxicity for fine-tuning"
   ]
  },
  {
   "cell_type": "code",
   "execution_count": 20,
   "metadata": {},
   "outputs": [],
   "source": [
    "# bins\n",
    "bins = [0, 0.33, 0.66, 1]\n",
    "# labels\n",
    "labels = [\"low\", \"medium\", \"high\"]\n",
    "\n",
    "# discretization of toxic features\n",
    "tox_feat = [\"obscene\", \"threat\", \"insult\", \"identity_attack\"]\n",
    "\n",
    "# manual width\n",
    "for c in tox_feat:\n",
    "    df_real[c] = pd.cut(df_real[c], bins = bins, labels = labels, right = True, include_lowest = True)"
   ]
  },
  {
   "cell_type": "code",
   "execution_count": 21,
   "metadata": {},
   "outputs": [
    {
     "data": {
      "text/html": [
       "<div>\n",
       "<style scoped>\n",
       "    .dataframe tbody tr th:only-of-type {\n",
       "        vertical-align: middle;\n",
       "    }\n",
       "\n",
       "    .dataframe tbody tr th {\n",
       "        vertical-align: top;\n",
       "    }\n",
       "\n",
       "    .dataframe thead th {\n",
       "        text-align: right;\n",
       "    }\n",
       "</style>\n",
       "<table border=\"1\" class=\"dataframe\">\n",
       "  <thead>\n",
       "    <tr style=\"text-align: right;\">\n",
       "      <th></th>\n",
       "      <th>comment_id</th>\n",
       "      <th>llm_body</th>\n",
       "      <th>obscene</th>\n",
       "      <th>threat</th>\n",
       "      <th>insult</th>\n",
       "      <th>identity_attack</th>\n",
       "    </tr>\n",
       "  </thead>\n",
       "  <tbody>\n",
       "    <tr>\n",
       "      <th>0</th>\n",
       "      <td>2691290</td>\n",
       "      <td>i am not going to mason freshman year but i am...</td>\n",
       "      <td>low</td>\n",
       "      <td>low</td>\n",
       "      <td>low</td>\n",
       "      <td>low</td>\n",
       "    </tr>\n",
       "    <tr>\n",
       "      <th>1</th>\n",
       "      <td>167000</td>\n",
       "      <td>I do not hate it because it is a TLA. I hate i...</td>\n",
       "      <td>low</td>\n",
       "      <td>low</td>\n",
       "      <td>low</td>\n",
       "      <td>low</td>\n",
       "    </tr>\n",
       "    <tr>\n",
       "      <th>2</th>\n",
       "      <td>1886741</td>\n",
       "      <td>A game I have never heard of is an obvious one...</td>\n",
       "      <td>high</td>\n",
       "      <td>low</td>\n",
       "      <td>low</td>\n",
       "      <td>low</td>\n",
       "    </tr>\n",
       "    <tr>\n",
       "      <th>3</th>\n",
       "      <td>1034242</td>\n",
       "      <td>Oh no. You know I cannot resist a challenge.</td>\n",
       "      <td>low</td>\n",
       "      <td>low</td>\n",
       "      <td>low</td>\n",
       "      <td>low</td>\n",
       "    </tr>\n",
       "    <tr>\n",
       "      <th>4</th>\n",
       "      <td>844977</td>\n",
       "      <td>Hey, you got to be careful when crushing rocks...</td>\n",
       "      <td>low</td>\n",
       "      <td>low</td>\n",
       "      <td>low</td>\n",
       "      <td>low</td>\n",
       "    </tr>\n",
       "  </tbody>\n",
       "</table>\n",
       "</div>"
      ],
      "text/plain": [
       "   comment_id                                           llm_body obscene threat insult identity_attack\n",
       "0     2691290  i am not going to mason freshman year but i am...     low    low    low             low\n",
       "1      167000  I do not hate it because it is a TLA. I hate i...     low    low    low             low\n",
       "2     1886741  A game I have never heard of is an obvious one...    high    low    low             low\n",
       "3     1034242       Oh no. You know I cannot resist a challenge.     low    low    low             low\n",
       "4      844977  Hey, you got to be careful when crushing rocks...     low    low    low             low"
      ]
     },
     "execution_count": 21,
     "metadata": {},
     "output_type": "execute_result"
    }
   ],
   "source": [
    "df_real.head()"
   ]
  },
  {
   "cell_type": "code",
   "execution_count": 22,
   "metadata": {},
   "outputs": [
    {
     "name": "stdout",
     "output_type": "stream",
     "text": [
      "Shape real: (2710671, 6) Missing values: 0\n",
      "\n",
      "Shape before mod: (3131, 6) Missing values: 0\n",
      "\n",
      "Shape ofsa: (2579, 6) Missing values: 0\n",
      "\n",
      "Shape neutral: (2620, 6) Missing values: 0\n",
      "\n",
      "Shape empathizing: (2624, 6) Missing values: 0\n",
      "\n",
      "Shape prescriptive: (2599, 6) Missing values: 0\n",
      "\n"
     ]
    }
   ],
   "source": [
    "# shapes\n",
    "print(f\"Shape real: {df_real.shape} Missing values: {df_real['llm_body'].isna().sum()}\\n\")\n",
    "print(f\"Shape before mod: {df_bef.shape} Missing values: {df_bef['llm_body'].isna().sum()}\\n\")\n",
    "print(f\"Shape ofsa: {df_ofsa.shape} Missing values: {df_ofsa['llm_body'].isna().sum()}\\n\")\n",
    "print(f\"Shape neutral: {df_neut.shape} Missing values: {df_neut['llm_body'].isna().sum()}\\n\")\n",
    "print(f\"Shape empathizing: {df_emp.shape} Missing values: {df_emp['llm_body'].isna().sum()}\\n\")\n",
    "print(f\"Shape prescriptive: {df_pres.shape} Missing values: {df_pres['llm_body'].isna().sum()}\\n\")"
   ]
  },
  {
   "cell_type": "markdown",
   "metadata": {},
   "source": [
    "## Fine-tuning and embeddings extraction\n",
    "- the main idea is to fine-tune a BERT model for each of the toxicity types, therefore obtaining a multi(four)-headed model\n",
    "- then, for each comment, we pass it to the each of the heads and we take the last hidden state embedding representations\n",
    "- we therefore concatenate the STANDARDIZED embeddings, finding the toxicity-based embedding for each of the comments\n",
    "- we can then perform PCA on the embeddings to find a compressed representation, better suited to perform more efficiently the analyses"
   ]
  },
  {
   "cell_type": "code",
   "execution_count": 23,
   "metadata": {},
   "outputs": [],
   "source": [
    "# text to process\n",
    "text_col = \"llm_body\""
   ]
  },
  {
   "cell_type": "markdown",
   "metadata": {},
   "source": [
    "Toxicity classes distribution"
   ]
  },
  {
   "cell_type": "code",
   "execution_count": 24,
   "metadata": {},
   "outputs": [
    {
     "name": "stdout",
     "output_type": "stream",
     "text": [
      "obscene\n",
      "low       2508006\n",
      "high       140468\n",
      "medium      62197\n",
      "Name: count, dtype: int64\n",
      "\n",
      "threat\n",
      "low       2704877\n",
      "medium       4508\n",
      "high         1286\n",
      "Name: count, dtype: int64\n",
      "\n",
      "insult\n",
      "low       2706440\n",
      "high         2142\n",
      "medium       2089\n",
      "Name: count, dtype: int64\n",
      "\n",
      "identity_attack\n",
      "low       2701619\n",
      "medium       6762\n",
      "high         2290\n",
      "Name: count, dtype: int64\n",
      "\n"
     ]
    }
   ],
   "source": [
    "for tox in tox_feat:\n",
    "    print(f\"{df_real[tox].value_counts()}\\n\")"
   ]
  },
  {
   "cell_type": "markdown",
   "metadata": {},
   "source": [
    "### Fine-Tuning BERTs on toxicity\n",
    "- some options: bert-base-uncased, distilbert-base-uncased, cardiffnlp/twitter-roberta-base, google/mobilebert-uncased\n",
    "- we choose bert-base-uncased\n",
    "- we perform fine-tuning of each bert model on a sample of the real data (max 50k samples), since fine-tuning on all 2.7M comments would be too computationally demanding and also fine-tuning of LLMs doesn't require huge amounts of labelled data\n",
    "- since there is a huge class imbalance for threat, insult and identity attack, we first somewhat balance the data, undersampling most of the majority class"
   ]
  },
  {
   "cell_type": "markdown",
   "metadata": {},
   "source": [
    "##### OBSCENE"
   ]
  },
  {
   "cell_type": "code",
   "execution_count": 25,
   "metadata": {},
   "outputs": [],
   "source": [
    "target = \"obscene\""
   ]
  },
  {
   "cell_type": "code",
   "execution_count": null,
   "metadata": {},
   "outputs": [
    {
     "name": "stdout",
     "output_type": "stream",
     "text": [
      "Processing Obscene data...\n",
      "\n",
      "Original class distribution: Counter({'low': 2508006, 'high': 140468, 'medium': 62197})\n",
      "More balanced class distribution: Counter({'low': 248788, 'high': 140468, 'medium': 62197})\n",
      "Splitting into FT and test set...\n",
      "Shape of data for FT: (449453, 6)\n",
      "Shape of the test data: (2000, 6)\n"
     ]
    }
   ],
   "source": [
    "# datasets for train/val and test\n",
    "df_obs, df_obs_test = ft_data(df_real, target, imb_ratio = 4, test_size = 0.1)"
   ]
  },
  {
   "cell_type": "code",
   "execution_count": 27,
   "metadata": {},
   "outputs": [
    {
     "name": "stdout",
     "output_type": "stream",
     "text": [
      "Original class distribution:\n",
      "Counter({'low': 247686, 'high': 139846, 'medium': 61921})\n",
      "Number of labels: 3, Label Mapping: {'high': 0, 'low': 1, 'medium': 2}\n",
      "\n",
      "Sampling balanced training set...\n",
      "\n",
      "Training set size: 18000\n",
      "Training set class distribution:\n",
      "Counter({1: 6000, 2: 6000, 0: 6000})\n",
      "\n",
      "\n",
      "Validation set size: 1999\n",
      "Validation set class distribution:\n",
      "Counter({1: 1102, 0: 622, 2: 275})\n",
      "\n",
      "\n",
      "Fine-tuning BERT on Obscene\n",
      "\n"
     ]
    },
    {
     "name": "stderr",
     "output_type": "stream",
     "text": [
      "Some weights of BertForSequenceClassification were not initialized from the model checkpoint at bert-base-uncased and are newly initialized: ['classifier.bias', 'classifier.weight']\n",
      "You should probably TRAIN this model on a down-stream task to be able to use it for predictions and inference.\n"
     ]
    },
    {
     "name": "stdout",
     "output_type": "stream",
     "text": [
      "Frozen embeddings and first 8 layers, training only the top 4 layers.\n"
     ]
    },
    {
     "name": "stderr",
     "output_type": "stream",
     "text": [
      "Epoch 1/7: 100%|██████████| 563/563 [03:48<00:00,  2.46it/s, loss=0.781]\n"
     ]
    },
    {
     "name": "stdout",
     "output_type": "stream",
     "text": [
      "Epoch 1 - Train Loss: 0.78884, Train F1: 0.60413\n",
      "Epoch 1 - Val Loss: 0.34555, Val F1: 0.80017\n",
      "\n"
     ]
    },
    {
     "name": "stderr",
     "output_type": "stream",
     "text": [
      "Epoch 2/7: 100%|██████████| 563/563 [03:46<00:00,  2.49it/s, loss=0.449]\n"
     ]
    },
    {
     "name": "stdout",
     "output_type": "stream",
     "text": [
      "Epoch 2 - Train Loss: 0.44234, Train F1: 0.81480\n",
      "Epoch 2 - Val Loss: 0.31130, Val F1: 0.79907\n",
      "\n"
     ]
    },
    {
     "name": "stderr",
     "output_type": "stream",
     "text": [
      "Epoch 3/7: 100%|██████████| 563/563 [03:45<00:00,  2.49it/s, loss=0.313] \n"
     ]
    },
    {
     "name": "stdout",
     "output_type": "stream",
     "text": [
      "Epoch 3 - Train Loss: 0.38810, Train F1: 0.84178\n",
      "Epoch 3 - Val Loss: 0.32026, Val F1: 0.80670\n",
      "\n"
     ]
    },
    {
     "name": "stderr",
     "output_type": "stream",
     "text": [
      "Epoch 4/7: 100%|██████████| 563/563 [03:45<00:00,  2.49it/s, loss=0.35] \n"
     ]
    },
    {
     "name": "stdout",
     "output_type": "stream",
     "text": [
      "Epoch 4 - Train Loss: 0.36197, Train F1: 0.85014\n",
      "Epoch 4 - Val Loss: 0.33425, Val F1: 0.78609\n",
      "\n"
     ]
    },
    {
     "name": "stderr",
     "output_type": "stream",
     "text": [
      "Epoch 5/7: 100%|██████████| 563/563 [03:48<00:00,  2.47it/s, loss=0.422]\n"
     ]
    },
    {
     "name": "stdout",
     "output_type": "stream",
     "text": [
      "Epoch 5 - Train Loss: 0.34816, Train F1: 0.85864\n",
      "Epoch 5 - Val Loss: 0.38601, Val F1: 0.77454\n",
      "\n"
     ]
    },
    {
     "name": "stderr",
     "output_type": "stream",
     "text": [
      "Epoch 6/7: 100%|██████████| 563/563 [03:47<00:00,  2.48it/s, loss=0.398] \n"
     ]
    },
    {
     "name": "stdout",
     "output_type": "stream",
     "text": [
      "Epoch 6 - Train Loss: 0.33103, Train F1: 0.86560\n",
      "Epoch 6 - Val Loss: 0.35087, Val F1: 0.79094\n",
      "\n"
     ]
    },
    {
     "name": "stderr",
     "output_type": "stream",
     "text": [
      "Epoch 7/7: 100%|██████████| 563/563 [03:47<00:00,  2.48it/s, loss=0.343] \n"
     ]
    },
    {
     "name": "stdout",
     "output_type": "stream",
     "text": [
      "Epoch 7 - Train Loss: 0.31711, Train F1: 0.87005\n",
      "Epoch 7 - Val Loss: 0.33030, Val F1: 0.80166\n",
      "\n",
      "Fine-tuned model saved for obscene\n",
      "\n"
     ]
    }
   ],
   "source": [
    "# fine-tune a BERT model for each balanced toxic trait\n",
    "train_loss_obs, val_loss_obs, train_f1_obs, val_f1_obs = finetune_bert(df_obs, text_col, label_col = target, exp_name = target,\n",
    "                                                                        epochs = 7, lr = 3e-5, dropout = 0.3, n_freeze = 8, batch_size = 32, \n",
    "                                                                        sample_size = 20000, val_size = 0.1, stop_early = False, balance = True,\n",
    "                                                                        bert_variant = \"bert-base-uncased\")"
   ]
  },
  {
   "cell_type": "code",
   "execution_count": 114,
   "metadata": {},
   "outputs": [
    {
     "data": {
      "image/png": "[encoded data removed]",
      "text/plain": [
       "<Figure size 1100x500 with 2 Axes>"
      ]
     },
     "metadata": {},
     "output_type": "display_data"
    }
   ],
   "source": [
    "plot_learn_curve(train_loss_obs, val_loss_obs, train_f1_obs, val_f1_obs, target, \"F1-score\")"
   ]
  },
  {
   "cell_type": "code",
   "execution_count": 29,
   "metadata": {},
   "outputs": [
    {
     "name": "stdout",
     "output_type": "stream",
     "text": [
      "Number of labels: 3, Label Mapping: {'high': 0, 'low': 1, 'medium': 2}\n",
      "Test set size: 2000\n",
      "Test set class distribution:\n",
      "Counter({1: 1102, 0: 622, 2: 276})\n",
      "\n",
      "Test Loss: 0.33703, Test F1: 0.78915\n",
      "\n"
     ]
    }
   ],
   "source": [
    "# evaluation on test set\n",
    "test_loss, test_f1 = inference_bert(df_obs_test, text_col, label_col = target, exp_name = target, batch_size = 32)"
   ]
  },
  {
   "cell_type": "markdown",
   "metadata": {},
   "source": [
    "##### THREAT"
   ]
  },
  {
   "cell_type": "code",
   "execution_count": 30,
   "metadata": {},
   "outputs": [],
   "source": [
    "target = \"threat\""
   ]
  },
  {
   "cell_type": "code",
   "execution_count": 31,
   "metadata": {},
   "outputs": [
    {
     "name": "stdout",
     "output_type": "stream",
     "text": [
      "Processing Threat data...\n",
      "\n",
      "Original class distribution: Counter({'low': 2704877, 'medium': 4508, 'high': 1286})\n",
      "More balanced class distribution: Counter({'low': 5144, 'medium': 4508, 'high': 1286})\n",
      "Splitting into FT and test set...\n",
      "Shape of data for FT: (9844, 6)\n",
      "Shape of the test data: (1094, 6)\n"
     ]
    }
   ],
   "source": [
    "# datasets for train/val and test\n",
    "df_thr, df_thr_test = ft_data(df_real, target, imb_ratio = 4, test_size = 0.1)"
   ]
  },
  {
   "cell_type": "code",
   "execution_count": null,
   "metadata": {},
   "outputs": [
    {
     "name": "stdout",
     "output_type": "stream",
     "text": [
      "Original class distribution:\n",
      "Counter({'low': 4630, 'medium': 4057, 'high': 1157})\n",
      "Number of labels: 3, Label Mapping: {'high': 0, 'low': 1, 'medium': 2}\n",
      "\n",
      "Sampling balanced training set...\n",
      "\n",
      "Training set size: 6947\n",
      "Training set class distribution:\n",
      "Counter({1: 2953, 2: 2953, 0: 1041})\n",
      "\n",
      "\n",
      "Validation set size: 984\n",
      "Validation set class distribution:\n",
      "Counter({1: 463, 2: 405, 0: 116})\n",
      "\n",
      "\n",
      "Fine-tuning BERT on Threat\n",
      "\n"
     ]
    },
    {
     "name": "stderr",
     "output_type": "stream",
     "text": [
      "Some weights of BertForSequenceClassification were not initialized from the model checkpoint at bert-base-uncased and are newly initialized: ['classifier.bias', 'classifier.weight']\n",
      "You should probably TRAIN this model on a down-stream task to be able to use it for predictions and inference.\n"
     ]
    },
    {
     "name": "stdout",
     "output_type": "stream",
     "text": [
      "Frozen embeddings and first 8 layers, training only the top 4 layers.\n"
     ]
    },
    {
     "name": "stderr",
     "output_type": "stream",
     "text": [
      "Epoch 1/7: 100%|██████████| 218/218 [01:27<00:00,  2.50it/s, loss=0.219]\n"
     ]
    },
    {
     "name": "stdout",
     "output_type": "stream",
     "text": [
      "Epoch 1 - Train Loss: 0.73781, Train F1: 0.49329\n",
      "Epoch 1 - Val Loss: 0.38856, Val F1: 0.71922\n",
      "\n"
     ]
    },
    {
     "name": "stderr",
     "output_type": "stream",
     "text": [
      "Epoch 2/7: 100%|██████████| 218/218 [01:27<00:00,  2.49it/s, loss=0.119]\n"
     ]
    },
    {
     "name": "stdout",
     "output_type": "stream",
     "text": [
      "Epoch 2 - Train Loss: 0.39509, Train F1: 0.70481\n",
      "Epoch 2 - Val Loss: 0.37512, Val F1: 0.75155\n",
      "\n"
     ]
    },
    {
     "name": "stderr",
     "output_type": "stream",
     "text": [
      "Epoch 3/7: 100%|██████████| 218/218 [01:29<00:00,  2.45it/s, loss=0.548]\n"
     ]
    },
    {
     "name": "stdout",
     "output_type": "stream",
     "text": [
      "Epoch 3 - Train Loss: 0.36147, Train F1: 0.74746\n",
      "Epoch 3 - Val Loss: 0.36322, Val F1: 0.76735\n",
      "\n"
     ]
    },
    {
     "name": "stderr",
     "output_type": "stream",
     "text": [
      "Epoch 4/7: 100%|██████████| 218/218 [01:28<00:00,  2.46it/s, loss=0.0437]\n"
     ]
    },
    {
     "name": "stdout",
     "output_type": "stream",
     "text": [
      "Epoch 4 - Train Loss: 0.33152, Train F1: 0.77179\n",
      "Epoch 4 - Val Loss: 0.35897, Val F1: 0.76425\n",
      "\n"
     ]
    },
    {
     "name": "stderr",
     "output_type": "stream",
     "text": [
      "Epoch 5/7: 100%|██████████| 218/218 [01:28<00:00,  2.47it/s, loss=0.196]\n"
     ]
    },
    {
     "name": "stdout",
     "output_type": "stream",
     "text": [
      "Epoch 5 - Train Loss: 0.31822, Train F1: 0.78072\n",
      "Epoch 5 - Val Loss: 0.41977, Val F1: 0.74407\n",
      "\n"
     ]
    },
    {
     "name": "stderr",
     "output_type": "stream",
     "text": [
      "Epoch 6/7: 100%|██████████| 218/218 [01:28<00:00,  2.47it/s, loss=0.948]\n"
     ]
    },
    {
     "name": "stdout",
     "output_type": "stream",
     "text": [
      "Epoch 6 - Train Loss: 0.30091, Train F1: 0.79973\n",
      "Epoch 6 - Val Loss: 0.46432, Val F1: 0.72689\n",
      "\n"
     ]
    },
    {
     "name": "stderr",
     "output_type": "stream",
     "text": [
      "Epoch 7/7: 100%|██████████| 218/218 [01:28<00:00,  2.47it/s, loss=0.453]\n"
     ]
    },
    {
     "name": "stdout",
     "output_type": "stream",
     "text": [
      "Epoch 7 - Train Loss: 0.29656, Train F1: 0.79941\n",
      "Epoch 7 - Val Loss: 0.42139, Val F1: 0.74556\n",
      "\n",
      "Fine-tuned model saved for threat\n",
      "\n"
     ]
    }
   ],
   "source": [
    "# fine-tune a BERT model for each balanced toxic trait\n",
    "train_loss_thr, val_loss_thr, train_f1_thr, val_f1_thr = finetune_bert(df_thr, text_col, label_col = target, exp_name = target,\n",
    "                                                                        epochs = 7, lr = 2e-5, dropout = 0.3, n_freeze = 8, batch_size = 32, \n",
    "                                                                        sample_size = 20000, val_size = 0.1, stop_early = False, balance = True,\n",
    "                                                                        bert_variant = \"bert-base-uncased\")"
   ]
  },
  {
   "cell_type": "code",
   "execution_count": 116,
   "metadata": {},
   "outputs": [
    {
     "data": {
      "image/png": "[encoded data removed]",
      "text/plain": [
       "<Figure size 1100x500 with 2 Axes>"
      ]
     },
     "metadata": {},
     "output_type": "display_data"
    }
   ],
   "source": [
    "plot_learn_curve(train_loss_thr, val_loss_thr, train_f1_thr, val_f1_thr, target, \"F1-score\")"
   ]
  },
  {
   "cell_type": "code",
   "execution_count": 34,
   "metadata": {},
   "outputs": [
    {
     "name": "stdout",
     "output_type": "stream",
     "text": [
      "Number of labels: 3, Label Mapping: {'high': 0, 'low': 1, 'medium': 2}\n",
      "Test set size: 1094\n",
      "Test set class distribution:\n",
      "Counter({1: 514, 2: 451, 0: 129})\n",
      "\n",
      "Test Loss: 0.37751, Test F1: 0.75781\n",
      "\n"
     ]
    }
   ],
   "source": [
    "# evaluation on test set\n",
    "test_loss, test_f1 = inference_bert(df_thr_test, text_col, label_col = target, exp_name = target, batch_size = 32)"
   ]
  },
  {
   "cell_type": "markdown",
   "metadata": {},
   "source": [
    "##### INSULT"
   ]
  },
  {
   "cell_type": "code",
   "execution_count": 35,
   "metadata": {},
   "outputs": [],
   "source": [
    "target = \"insult\""
   ]
  },
  {
   "cell_type": "code",
   "execution_count": 36,
   "metadata": {},
   "outputs": [
    {
     "name": "stdout",
     "output_type": "stream",
     "text": [
      "Processing Insult data...\n",
      "\n",
      "Original class distribution: Counter({'low': 2706440, 'high': 2142, 'medium': 2089})\n",
      "More balanced class distribution: Counter({'low': 8356, 'high': 2142, 'medium': 2089})\n",
      "Splitting into FT and test set...\n",
      "Shape of data for FT: (11328, 6)\n",
      "Shape of the test data: (1259, 6)\n"
     ]
    }
   ],
   "source": [
    "# datasets for train/val and test\n",
    "df_ins, df_ins_test = ft_data(df_real, target, imb_ratio = 4, test_size = 0.1)"
   ]
  },
  {
   "cell_type": "code",
   "execution_count": null,
   "metadata": {},
   "outputs": [
    {
     "name": "stdout",
     "output_type": "stream",
     "text": [
      "Original class distribution:\n",
      "Counter({'low': 7520, 'high': 1928, 'medium': 1880})\n",
      "Number of labels: 3, Label Mapping: {'high': 0, 'low': 1, 'medium': 2}\n",
      "\n",
      "Sampling balanced training set...\n",
      "\n",
      "Training set size: 6825\n",
      "Training set class distribution:\n",
      "Counter({1: 3398, 0: 1735, 2: 1692})\n",
      "\n",
      "\n",
      "Validation set size: 1132\n",
      "Validation set class distribution:\n",
      "Counter({1: 751, 0: 193, 2: 188})\n",
      "\n",
      "\n",
      "Fine-tuning BERT on Insult\n",
      "\n"
     ]
    },
    {
     "name": "stderr",
     "output_type": "stream",
     "text": [
      "Some weights of BertForSequenceClassification were not initialized from the model checkpoint at bert-base-uncased and are newly initialized: ['classifier.bias', 'classifier.weight']\n",
      "You should probably TRAIN this model on a down-stream task to be able to use it for predictions and inference.\n"
     ]
    },
    {
     "name": "stdout",
     "output_type": "stream",
     "text": [
      "Frozen embeddings and first 8 layers, training only the top 4 layers.\n"
     ]
    },
    {
     "name": "stderr",
     "output_type": "stream",
     "text": [
      "Epoch 1/7: 100%|██████████| 214/214 [01:27<00:00,  2.45it/s, loss=0.306]\n"
     ]
    },
    {
     "name": "stdout",
     "output_type": "stream",
     "text": [
      "Epoch 1 - Train Loss: 0.75986, Train F1: 0.58167\n",
      "Epoch 1 - Val Loss: 0.38520, Val F1: 0.73654\n",
      "\n"
     ]
    },
    {
     "name": "stderr",
     "output_type": "stream",
     "text": [
      "Epoch 2/7: 100%|██████████| 214/214 [01:26<00:00,  2.47it/s, loss=0.196] \n"
     ]
    },
    {
     "name": "stdout",
     "output_type": "stream",
     "text": [
      "Epoch 2 - Train Loss: 0.29888, Train F1: 0.83832\n",
      "Epoch 2 - Val Loss: 0.25512, Val F1: 0.82327\n",
      "\n"
     ]
    },
    {
     "name": "stderr",
     "output_type": "stream",
     "text": [
      "Epoch 3/7: 100%|██████████| 214/214 [01:27<00:00,  2.44it/s, loss=0.207] \n"
     ]
    },
    {
     "name": "stdout",
     "output_type": "stream",
     "text": [
      "Epoch 3 - Train Loss: 0.26176, Train F1: 0.85869\n",
      "Epoch 3 - Val Loss: 0.14901, Val F1: 0.87577\n",
      "\n"
     ]
    },
    {
     "name": "stderr",
     "output_type": "stream",
     "text": [
      "Epoch 4/7: 100%|██████████| 214/214 [01:27<00:00,  2.44it/s, loss=0.427] \n"
     ]
    },
    {
     "name": "stdout",
     "output_type": "stream",
     "text": [
      "Epoch 4 - Train Loss: 0.24011, Train F1: 0.86668\n",
      "Epoch 4 - Val Loss: 0.14117, Val F1: 0.87688\n",
      "\n"
     ]
    },
    {
     "name": "stderr",
     "output_type": "stream",
     "text": [
      "Epoch 5/7: 100%|██████████| 214/214 [01:26<00:00,  2.46it/s, loss=0.35]  \n"
     ]
    },
    {
     "name": "stdout",
     "output_type": "stream",
     "text": [
      "Epoch 5 - Train Loss: 0.22433, Train F1: 0.87734\n",
      "Epoch 5 - Val Loss: 0.14769, Val F1: 0.88881\n",
      "\n"
     ]
    },
    {
     "name": "stderr",
     "output_type": "stream",
     "text": [
      "Epoch 6/7: 100%|██████████| 214/214 [01:27<00:00,  2.45it/s, loss=0.264] \n"
     ]
    },
    {
     "name": "stdout",
     "output_type": "stream",
     "text": [
      "Epoch 6 - Train Loss: 0.21123, Train F1: 0.88342\n",
      "Epoch 6 - Val Loss: 0.14194, Val F1: 0.89011\n",
      "\n"
     ]
    },
    {
     "name": "stderr",
     "output_type": "stream",
     "text": [
      "Epoch 7/7: 100%|██████████| 214/214 [01:27<00:00,  2.45it/s, loss=0.45]  \n"
     ]
    },
    {
     "name": "stdout",
     "output_type": "stream",
     "text": [
      "Epoch 7 - Train Loss: 0.20634, Train F1: 0.88716\n",
      "Epoch 7 - Val Loss: 0.13888, Val F1: 0.89092\n",
      "\n",
      "Fine-tuned model saved for insult\n",
      "\n"
     ]
    }
   ],
   "source": [
    "# fine-tune a BERT model for each balanced toxic trait\n",
    "train_loss_ins, val_loss_ins, train_f1_ins, val_f1_ins = finetune_bert(df_ins, text_col, label_col = target, exp_name = target,\n",
    "                                                                        epochs = 7, lr = 4e-5, dropout = 0.3, n_freeze = 8, batch_size = 32, \n",
    "                                                                        sample_size = 20000, val_size = 0.1, stop_early = False, balance = True,\n",
    "                                                                        bert_variant = \"bert-base-uncased\")"
   ]
  },
  {
   "cell_type": "code",
   "execution_count": 117,
   "metadata": {},
   "outputs": [
    {
     "data": {
      "image/png": "[encoded data removed]",
      "text/plain": [
       "<Figure size 1100x500 with 2 Axes>"
      ]
     },
     "metadata": {},
     "output_type": "display_data"
    }
   ],
   "source": [
    "plot_learn_curve(train_loss_ins, val_loss_ins, train_f1_ins, val_f1_ins, target, \"F1-score\")"
   ]
  },
  {
   "cell_type": "code",
   "execution_count": 39,
   "metadata": {},
   "outputs": [
    {
     "name": "stdout",
     "output_type": "stream",
     "text": [
      "Number of labels: 3, Label Mapping: {'high': 0, 'low': 1, 'medium': 2}\n",
      "Test set size: 1259\n",
      "Test set class distribution:\n",
      "Counter({1: 836, 0: 214, 2: 209})\n",
      "\n",
      "Test Loss: 0.14133, Test F1: 0.90103\n",
      "\n"
     ]
    }
   ],
   "source": [
    "# evaluation on test set\n",
    "test_loss, test_f1 = inference_bert(df_ins_test, text_col, label_col = target, exp_name = target, batch_size = 32)"
   ]
  },
  {
   "cell_type": "markdown",
   "metadata": {},
   "source": [
    "##### IDENTITY ATTACK"
   ]
  },
  {
   "cell_type": "code",
   "execution_count": 40,
   "metadata": {},
   "outputs": [],
   "source": [
    "target = \"identity_attack\""
   ]
  },
  {
   "cell_type": "code",
   "execution_count": 41,
   "metadata": {},
   "outputs": [
    {
     "name": "stdout",
     "output_type": "stream",
     "text": [
      "Processing Identity_attack data...\n",
      "\n",
      "Original class distribution: Counter({'low': 2701619, 'medium': 6762, 'high': 2290})\n",
      "More balanced class distribution: Counter({'low': 9160, 'medium': 6762, 'high': 2290})\n",
      "Splitting into FT and test set...\n",
      "Shape of data for FT: (16390, 6)\n",
      "Shape of the test data: (1822, 6)\n"
     ]
    }
   ],
   "source": [
    "# datasets for train/val and test\n",
    "df_idatt, df_idatt_test = ft_data(df_real, target, imb_ratio = 4, test_size = 0.1)"
   ]
  },
  {
   "cell_type": "code",
   "execution_count": 42,
   "metadata": {},
   "outputs": [
    {
     "name": "stdout",
     "output_type": "stream",
     "text": [
      "Original class distribution:\n",
      "Counter({'low': 8244, 'medium': 6085, 'high': 2061})\n",
      "Number of labels: 3, Label Mapping: {'high': 0, 'low': 1, 'medium': 2}\n",
      "\n",
      "Sampling balanced training set...\n",
      "\n",
      "Training set size: 11689\n",
      "Training set class distribution:\n",
      "Counter({1: 4917, 2: 4917, 0: 1855})\n",
      "\n",
      "\n",
      "Validation set size: 1638\n",
      "Validation set class distribution:\n",
      "Counter({1: 824, 2: 608, 0: 206})\n",
      "\n",
      "\n",
      "Fine-tuning BERT on Identity_attack\n",
      "\n"
     ]
    },
    {
     "name": "stderr",
     "output_type": "stream",
     "text": [
      "Some weights of BertForSequenceClassification were not initialized from the model checkpoint at bert-base-uncased and are newly initialized: ['classifier.bias', 'classifier.weight']\n",
      "You should probably TRAIN this model on a down-stream task to be able to use it for predictions and inference.\n"
     ]
    },
    {
     "name": "stdout",
     "output_type": "stream",
     "text": [
      "Frozen embeddings and first 8 layers, training only the top 4 layers.\n"
     ]
    },
    {
     "name": "stderr",
     "output_type": "stream",
     "text": [
      "Epoch 1/7: 100%|██████████| 366/366 [02:30<00:00,  2.43it/s, loss=0.493]\n"
     ]
    },
    {
     "name": "stdout",
     "output_type": "stream",
     "text": [
      "Epoch 1 - Train Loss: 0.70374, Train F1: 0.53682\n",
      "Epoch 1 - Val Loss: 0.37523, Val F1: 0.76359\n",
      "\n"
     ]
    },
    {
     "name": "stderr",
     "output_type": "stream",
     "text": [
      "Epoch 2/7: 100%|██████████| 366/366 [02:29<00:00,  2.46it/s, loss=0.427]\n"
     ]
    },
    {
     "name": "stdout",
     "output_type": "stream",
     "text": [
      "Epoch 2 - Train Loss: 0.39506, Train F1: 0.74944\n",
      "Epoch 2 - Val Loss: 0.40840, Val F1: 0.76069\n",
      "\n"
     ]
    },
    {
     "name": "stderr",
     "output_type": "stream",
     "text": [
      "Epoch 3/7: 100%|██████████| 366/366 [02:29<00:00,  2.45it/s, loss=0.252] \n"
     ]
    },
    {
     "name": "stdout",
     "output_type": "stream",
     "text": [
      "Epoch 3 - Train Loss: 0.34885, Train F1: 0.78473\n",
      "Epoch 3 - Val Loss: 0.34318, Val F1: 0.78406\n",
      "\n"
     ]
    },
    {
     "name": "stderr",
     "output_type": "stream",
     "text": [
      "Epoch 4/7: 100%|██████████| 366/366 [02:30<00:00,  2.42it/s, loss=0.165] \n"
     ]
    },
    {
     "name": "stdout",
     "output_type": "stream",
     "text": [
      "Epoch 4 - Train Loss: 0.31668, Train F1: 0.80440\n",
      "Epoch 4 - Val Loss: 0.31422, Val F1: 0.81652\n",
      "\n"
     ]
    },
    {
     "name": "stderr",
     "output_type": "stream",
     "text": [
      "Epoch 5/7: 100%|██████████| 366/366 [02:29<00:00,  2.44it/s, loss=0.0569]\n"
     ]
    },
    {
     "name": "stdout",
     "output_type": "stream",
     "text": [
      "Epoch 5 - Train Loss: 0.30522, Train F1: 0.81716\n",
      "Epoch 5 - Val Loss: 0.29875, Val F1: 0.82371\n",
      "\n"
     ]
    },
    {
     "name": "stderr",
     "output_type": "stream",
     "text": [
      "Epoch 6/7: 100%|██████████| 366/366 [02:29<00:00,  2.44it/s, loss=0.088] \n"
     ]
    },
    {
     "name": "stdout",
     "output_type": "stream",
     "text": [
      "Epoch 6 - Train Loss: 0.29385, Train F1: 0.82472\n",
      "Epoch 6 - Val Loss: 0.35761, Val F1: 0.78437\n",
      "\n"
     ]
    },
    {
     "name": "stderr",
     "output_type": "stream",
     "text": [
      "Epoch 7/7: 100%|██████████| 366/366 [02:31<00:00,  2.41it/s, loss=0.109] \n"
     ]
    },
    {
     "name": "stdout",
     "output_type": "stream",
     "text": [
      "Epoch 7 - Train Loss: 0.28112, Train F1: 0.82922\n",
      "Epoch 7 - Val Loss: 0.34708, Val F1: 0.79251\n",
      "\n",
      "Fine-tuned model saved for identity_attack\n",
      "\n"
     ]
    }
   ],
   "source": [
    "# fine-tune a BERT model for each balanced toxic trait\n",
    "train_loss_idatt, val_loss_idatt, train_f1_idatt, val_f1_idatt = finetune_bert(df_idatt, text_col, label_col = target, exp_name = target,\n",
    "                                                                        epochs = 7, lr = 3e-5, dropout = 0.3, n_freeze = 8, batch_size = 32, \n",
    "                                                                        sample_size = 20000, val_size = 0.1, stop_early = False, balance = True,\n",
    "                                                                        bert_variant = \"bert-base-uncased\")"
   ]
  },
  {
   "cell_type": "code",
   "execution_count": 118,
   "metadata": {},
   "outputs": [
    {
     "data": {
      "image/png": "[encoded data removed]",
      "text/plain": [
       "<Figure size 1100x500 with 2 Axes>"
      ]
     },
     "metadata": {},
     "output_type": "display_data"
    }
   ],
   "source": [
    "plot_learn_curve(train_loss_idatt, val_loss_idatt, train_f1_idatt, val_f1_idatt, target, \"F1-score\")"
   ]
  },
  {
   "cell_type": "code",
   "execution_count": 44,
   "metadata": {},
   "outputs": [
    {
     "name": "stdout",
     "output_type": "stream",
     "text": [
      "Number of labels: 3, Label Mapping: {'high': 0, 'low': 1, 'medium': 2}\n",
      "Test set size: 1822\n",
      "Test set class distribution:\n",
      "Counter({1: 916, 2: 677, 0: 229})\n",
      "\n",
      "Test Loss: 0.28942, Test F1: 0.82047\n",
      "\n"
     ]
    }
   ],
   "source": [
    "# evaluation on test set\n",
    "test_loss, test_f1 = inference_bert(df_idatt_test, text_col, label_col = target, exp_name = target, batch_size = 32)"
   ]
  },
  {
   "cell_type": "markdown",
   "metadata": {},
   "source": [
    "### Embeddings extraction\n",
    "- with the 2.7M comments it takes at least 80 hours\n",
    "- also, i have very low frequencies for 3/4 toxicity types, so i need to make sure to select some in the sampled dataset\n",
    "    - otherwise, by randomly selecting from the original dataset, it would pick only majority classes (low) and some high class for obscene"
   ]
  },
  {
   "cell_type": "code",
   "execution_count": 4,
   "metadata": {},
   "outputs": [],
   "source": [
    "# toxic traits\n",
    "tox_feat = [\"obscene\", \"threat\", \"insult\", \"identity_attack\"]"
   ]
  },
  {
   "cell_type": "markdown",
   "metadata": {},
   "source": [
    "##### Load sample of real data"
   ]
  },
  {
   "cell_type": "code",
   "execution_count": 24,
   "metadata": {},
   "outputs": [
    {
     "name": "stdout",
     "output_type": "stream",
     "text": [
      "Shape: (50000, 139)\n"
     ]
    },
    {
     "data": {
      "text/html": [
       "<div>\n",
       "<style scoped>\n",
       "    .dataframe tbody tr th:only-of-type {\n",
       "        vertical-align: middle;\n",
       "    }\n",
       "\n",
       "    .dataframe tbody tr th {\n",
       "        vertical-align: top;\n",
       "    }\n",
       "\n",
       "    .dataframe thead th {\n",
       "        text-align: right;\n",
       "    }\n",
       "</style>\n",
       "<table border=\"1\" class=\"dataframe\">\n",
       "  <thead>\n",
       "    <tr style=\"text-align: right;\">\n",
       "      <th></th>\n",
       "      <th>author</th>\n",
       "      <th>comment_id</th>\n",
       "      <th>llm_body</th>\n",
       "      <th>std_body</th>\n",
       "      <th>gender</th>\n",
       "      <th>age</th>\n",
       "      <th>openness</th>\n",
       "      <th>conscientiousness</th>\n",
       "      <th>extraversion</th>\n",
       "      <th>agreeableness</th>\n",
       "      <th>neuroticism</th>\n",
       "      <th>score</th>\n",
       "      <th>subreddit</th>\n",
       "      <th>id</th>\n",
       "      <th>parent_id</th>\n",
       "      <th>date</th>\n",
       "      <th>time_of_day</th>\n",
       "      <th>num_punct</th>\n",
       "      <th>num_sents</th>\n",
       "      <th>num_words_upp</th>\n",
       "      <th>num_emoji</th>\n",
       "      <th>num_emoji_pos</th>\n",
       "      <th>num_emoji_neg</th>\n",
       "      <th>emoji_unique</th>\n",
       "      <th>emoji_list</th>\n",
       "      <th>fear</th>\n",
       "      <th>anger</th>\n",
       "      <th>anticip</th>\n",
       "      <th>trust</th>\n",
       "      <th>surprise</th>\n",
       "      <th>positive</th>\n",
       "      <th>negative</th>\n",
       "      <th>sadness</th>\n",
       "      <th>disgust</th>\n",
       "      <th>joy</th>\n",
       "      <th>polarity</th>\n",
       "      <th>subjectivity</th>\n",
       "      <th>valence</th>\n",
       "      <th>arousal</th>\n",
       "      <th>dominance</th>\n",
       "      <th>flesch</th>\n",
       "      <th>flesch_kincaid</th>\n",
       "      <th>fog</th>\n",
       "      <th>smog</th>\n",
       "      <th>ari</th>\n",
       "      <th>coleman_liau</th>\n",
       "      <th>dale_chall</th>\n",
       "      <th>linsear</th>\n",
       "      <th>difficult_words</th>\n",
       "      <th>num_words</th>\n",
       "      <th>num_words_unique</th>\n",
       "      <th>num_words_adj</th>\n",
       "      <th>num_words_noun</th>\n",
       "      <th>num_words_verb</th>\n",
       "      <th>num_words_lex</th>\n",
       "      <th>num_stopw</th>\n",
       "      <th>toxicity</th>\n",
       "      <th>severe_toxicity</th>\n",
       "      <th>obscene</th>\n",
       "      <th>threat</th>\n",
       "      <th>insult</th>\n",
       "      <th>identity_attack</th>\n",
       "      <th>is_toxic</th>\n",
       "      <th>go</th>\n",
       "      <th>holy fuck</th>\n",
       "      <th>homosexual</th>\n",
       "      <th>say</th>\n",
       "      <th>know</th>\n",
       "      <th>well</th>\n",
       "      <th>bunch</th>\n",
       "      <th>shit</th>\n",
       "      <th>man</th>\n",
       "      <th>racist</th>\n",
       "      <th>would</th>\n",
       "      <th>stupid</th>\n",
       "      <th>also</th>\n",
       "      <th>guy</th>\n",
       "      <th>liberal</th>\n",
       "      <th>make</th>\n",
       "      <th>country</th>\n",
       "      <th>religion</th>\n",
       "      <th>real</th>\n",
       "      <th>crap</th>\n",
       "      <th>right</th>\n",
       "      <th>keep</th>\n",
       "      <th>people</th>\n",
       "      <th>dick</th>\n",
       "      <th>need</th>\n",
       "      <th>asshole</th>\n",
       "      <th>nothing</th>\n",
       "      <th>woman</th>\n",
       "      <th>bitch</th>\n",
       "      <th>one</th>\n",
       "      <th>give</th>\n",
       "      <th>fuck shit</th>\n",
       "      <th>die</th>\n",
       "      <th>black</th>\n",
       "      <th>immigrant</th>\n",
       "      <th>kill</th>\n",
       "      <th>dude</th>\n",
       "      <th>fucking</th>\n",
       "      <th>nigga</th>\n",
       "      <th>suck</th>\n",
       "      <th>take</th>\n",
       "      <th>good</th>\n",
       "      <th>try</th>\n",
       "      <th>idiot</th>\n",
       "      <th>call</th>\n",
       "      <th>insult insult</th>\n",
       "      <th>life</th>\n",
       "      <th>think</th>\n",
       "      <th>society</th>\n",
       "      <th>fuckin</th>\n",
       "      <th>someone</th>\n",
       "      <th>want</th>\n",
       "      <th>stop</th>\n",
       "      <th>see</th>\n",
       "      <th>f cking</th>\n",
       "      <th>way</th>\n",
       "      <th>time</th>\n",
       "      <th>damn</th>\n",
       "      <th>white</th>\n",
       "      <th>fuck</th>\n",
       "      <th>government</th>\n",
       "      <th>get</th>\n",
       "      <th>u</th>\n",
       "      <th>gay</th>\n",
       "      <th>even</th>\n",
       "      <th>death</th>\n",
       "      <th>thing</th>\n",
       "      <th>control</th>\n",
       "      <th>money</th>\n",
       "      <th>muslim</th>\n",
       "      <th>family</th>\n",
       "      <th>hope</th>\n",
       "      <th>really</th>\n",
       "      <th>like</th>\n",
       "      <th>is_real</th>\n",
       "      <th>tox_bin</th>\n",
       "    </tr>\n",
       "  </thead>\n",
       "  <tbody>\n",
       "    <tr>\n",
       "      <th>0</th>\n",
       "      <td>quiteafewfireflies</td>\n",
       "      <td>306083</td>\n",
       "      <td>Oh, and I have so, so many flaws, haha. They j...</td>\n",
       "      <td>oh many flaw haha mostly affect anyone else</td>\n",
       "      <td>f</td>\n",
       "      <td>32.0</td>\n",
       "      <td>very high</td>\n",
       "      <td>very low</td>\n",
       "      <td>medium</td>\n",
       "      <td>medium</td>\n",
       "      <td>very high</td>\n",
       "      <td>1.0</td>\n",
       "      <td>entp</td>\n",
       "      <td>d1kyxpz</td>\n",
       "      <td>t1_d1kvevw</td>\n",
       "      <td>2016-03-31</td>\n",
       "      <td>21:22:18</td>\n",
       "      <td>5</td>\n",
       "      <td>2</td>\n",
       "      <td>0</td>\n",
       "      <td>0</td>\n",
       "      <td>0</td>\n",
       "      <td>0</td>\n",
       "      <td></td>\n",
       "      <td></td>\n",
       "      <td>0.0</td>\n",
       "      <td>0.0</td>\n",
       "      <td>0.0</td>\n",
       "      <td>0.0</td>\n",
       "      <td>0.0</td>\n",
       "      <td>0.0</td>\n",
       "      <td>0.0</td>\n",
       "      <td>0.0</td>\n",
       "      <td>0.0</td>\n",
       "      <td>0.0</td>\n",
       "      <td>0.425</td>\n",
       "      <td>0.45</td>\n",
       "      <td>0.052826</td>\n",
       "      <td>0.041652</td>\n",
       "      <td>0.050913</td>\n",
       "      <td>87.72</td>\n",
       "      <td>3.3</td>\n",
       "      <td>3.60</td>\n",
       "      <td>0.0</td>\n",
       "      <td>1.9</td>\n",
       "      <td>2.52</td>\n",
       "      <td>6.71</td>\n",
       "      <td>4.00</td>\n",
       "      <td>2.0</td>\n",
       "      <td>18</td>\n",
       "      <td>17</td>\n",
       "      <td>2</td>\n",
       "      <td>4</td>\n",
       "      <td>3</td>\n",
       "      <td>9</td>\n",
       "      <td>10</td>\n",
       "      <td>0.004256</td>\n",
       "      <td>0.000098</td>\n",
       "      <td>0.000337</td>\n",
       "      <td>0.000113</td>\n",
       "      <td>0.0</td>\n",
       "      <td>0.000168</td>\n",
       "      <td>0</td>\n",
       "      <td>0.0</td>\n",
       "      <td>0.0</td>\n",
       "      <td>0.0</td>\n",
       "      <td>0.0</td>\n",
       "      <td>0.000000</td>\n",
       "      <td>0.0</td>\n",
       "      <td>0.0</td>\n",
       "      <td>0.0</td>\n",
       "      <td>0.0</td>\n",
       "      <td>0.0</td>\n",
       "      <td>0.0</td>\n",
       "      <td>0.0</td>\n",
       "      <td>0.0</td>\n",
       "      <td>0.0</td>\n",
       "      <td>0.0</td>\n",
       "      <td>0.0</td>\n",
       "      <td>0.0</td>\n",
       "      <td>0.0</td>\n",
       "      <td>0.0</td>\n",
       "      <td>0.0</td>\n",
       "      <td>0.0</td>\n",
       "      <td>0.0</td>\n",
       "      <td>0.0</td>\n",
       "      <td>0.0</td>\n",
       "      <td>0.0</td>\n",
       "      <td>0.0</td>\n",
       "      <td>0.0</td>\n",
       "      <td>0.0</td>\n",
       "      <td>0.0</td>\n",
       "      <td>0.0</td>\n",
       "      <td>0.0</td>\n",
       "      <td>0.0</td>\n",
       "      <td>0.0</td>\n",
       "      <td>0.0</td>\n",
       "      <td>0.0</td>\n",
       "      <td>0.0</td>\n",
       "      <td>0.0</td>\n",
       "      <td>0.0</td>\n",
       "      <td>0.0</td>\n",
       "      <td>0.0</td>\n",
       "      <td>0.0</td>\n",
       "      <td>0.0</td>\n",
       "      <td>0.0</td>\n",
       "      <td>0.0</td>\n",
       "      <td>0.0</td>\n",
       "      <td>0.0</td>\n",
       "      <td>0.0</td>\n",
       "      <td>0.0</td>\n",
       "      <td>0.0</td>\n",
       "      <td>0.0</td>\n",
       "      <td>0.0</td>\n",
       "      <td>0.0</td>\n",
       "      <td>0.0</td>\n",
       "      <td>0.0</td>\n",
       "      <td>0.0</td>\n",
       "      <td>0.0</td>\n",
       "      <td>0.0</td>\n",
       "      <td>0.0</td>\n",
       "      <td>0.0</td>\n",
       "      <td>0.0</td>\n",
       "      <td>0.0</td>\n",
       "      <td>0.000000</td>\n",
       "      <td>0.0</td>\n",
       "      <td>0.0</td>\n",
       "      <td>0.0</td>\n",
       "      <td>0.0</td>\n",
       "      <td>0.0</td>\n",
       "      <td>0.0</td>\n",
       "      <td>0.0</td>\n",
       "      <td>0.0</td>\n",
       "      <td>0.0</td>\n",
       "      <td>0.0</td>\n",
       "      <td>0.0</td>\n",
       "      <td>0.0</td>\n",
       "      <td>1</td>\n",
       "      <td>very low</td>\n",
       "    </tr>\n",
       "    <tr>\n",
       "      <th>1</th>\n",
       "      <td>Djzongreethesecond</td>\n",
       "      <td>134780</td>\n",
       "      <td>I was going to vote for Rand Paul but I guess ...</td>\n",
       "      <td>go vote rand paul guess not probably trump guess</td>\n",
       "      <td>t</td>\n",
       "      <td>16.0</td>\n",
       "      <td>medium</td>\n",
       "      <td>very low</td>\n",
       "      <td>medium</td>\n",
       "      <td>very low</td>\n",
       "      <td>very high</td>\n",
       "      <td>1.0</td>\n",
       "      <td>entp</td>\n",
       "      <td>d2bdphw</td>\n",
       "      <td>t3_4frij8</td>\n",
       "      <td>2016-04-21</td>\n",
       "      <td>05:39:21</td>\n",
       "      <td>1</td>\n",
       "      <td>1</td>\n",
       "      <td>0</td>\n",
       "      <td>0</td>\n",
       "      <td>0</td>\n",
       "      <td>0</td>\n",
       "      <td></td>\n",
       "      <td></td>\n",
       "      <td>0.0</td>\n",
       "      <td>0.1</td>\n",
       "      <td>0.0</td>\n",
       "      <td>0.1</td>\n",
       "      <td>0.3</td>\n",
       "      <td>0.1</td>\n",
       "      <td>0.1</td>\n",
       "      <td>0.1</td>\n",
       "      <td>0.0</td>\n",
       "      <td>0.1</td>\n",
       "      <td>0.000</td>\n",
       "      <td>0.00</td>\n",
       "      <td>0.120190</td>\n",
       "      <td>0.085048</td>\n",
       "      <td>0.094619</td>\n",
       "      <td>86.03</td>\n",
       "      <td>6.0</td>\n",
       "      <td>9.71</td>\n",
       "      <td>0.0</td>\n",
       "      <td>4.7</td>\n",
       "      <td>2.85</td>\n",
       "      <td>7.90</td>\n",
       "      <td>10.50</td>\n",
       "      <td>1.0</td>\n",
       "      <td>20</td>\n",
       "      <td>16</td>\n",
       "      <td>1</td>\n",
       "      <td>8</td>\n",
       "      <td>3</td>\n",
       "      <td>12</td>\n",
       "      <td>11</td>\n",
       "      <td>0.000937</td>\n",
       "      <td>0.000104</td>\n",
       "      <td>0.000168</td>\n",
       "      <td>0.000119</td>\n",
       "      <td>0.0</td>\n",
       "      <td>0.000159</td>\n",
       "      <td>0</td>\n",
       "      <td>1.0</td>\n",
       "      <td>0.0</td>\n",
       "      <td>0.0</td>\n",
       "      <td>0.0</td>\n",
       "      <td>0.000000</td>\n",
       "      <td>0.0</td>\n",
       "      <td>0.0</td>\n",
       "      <td>0.0</td>\n",
       "      <td>0.0</td>\n",
       "      <td>0.0</td>\n",
       "      <td>0.0</td>\n",
       "      <td>0.0</td>\n",
       "      <td>0.0</td>\n",
       "      <td>0.0</td>\n",
       "      <td>0.0</td>\n",
       "      <td>0.0</td>\n",
       "      <td>0.0</td>\n",
       "      <td>0.0</td>\n",
       "      <td>0.0</td>\n",
       "      <td>0.0</td>\n",
       "      <td>0.0</td>\n",
       "      <td>0.0</td>\n",
       "      <td>0.0</td>\n",
       "      <td>0.0</td>\n",
       "      <td>0.0</td>\n",
       "      <td>0.0</td>\n",
       "      <td>0.0</td>\n",
       "      <td>0.0</td>\n",
       "      <td>0.0</td>\n",
       "      <td>0.0</td>\n",
       "      <td>0.0</td>\n",
       "      <td>0.0</td>\n",
       "      <td>0.0</td>\n",
       "      <td>0.0</td>\n",
       "      <td>0.0</td>\n",
       "      <td>0.0</td>\n",
       "      <td>0.0</td>\n",
       "      <td>0.0</td>\n",
       "      <td>0.0</td>\n",
       "      <td>0.0</td>\n",
       "      <td>0.0</td>\n",
       "      <td>0.0</td>\n",
       "      <td>0.0</td>\n",
       "      <td>0.0</td>\n",
       "      <td>0.0</td>\n",
       "      <td>0.0</td>\n",
       "      <td>0.0</td>\n",
       "      <td>0.0</td>\n",
       "      <td>0.0</td>\n",
       "      <td>0.0</td>\n",
       "      <td>0.0</td>\n",
       "      <td>0.0</td>\n",
       "      <td>0.0</td>\n",
       "      <td>0.0</td>\n",
       "      <td>0.0</td>\n",
       "      <td>0.0</td>\n",
       "      <td>0.0</td>\n",
       "      <td>0.0</td>\n",
       "      <td>0.0</td>\n",
       "      <td>0.0</td>\n",
       "      <td>0.0</td>\n",
       "      <td>0.000000</td>\n",
       "      <td>0.0</td>\n",
       "      <td>0.0</td>\n",
       "      <td>0.0</td>\n",
       "      <td>0.0</td>\n",
       "      <td>0.0</td>\n",
       "      <td>0.0</td>\n",
       "      <td>0.0</td>\n",
       "      <td>0.0</td>\n",
       "      <td>0.0</td>\n",
       "      <td>0.0</td>\n",
       "      <td>0.0</td>\n",
       "      <td>0.0</td>\n",
       "      <td>1</td>\n",
       "      <td>very low</td>\n",
       "    </tr>\n",
       "    <tr>\n",
       "      <th>2</th>\n",
       "      <td>goodthankyou</td>\n",
       "      <td>617969</td>\n",
       "      <td>How about walking her home? That is how my ISF...</td>\n",
       "      <td>walk home isfp get know</td>\n",
       "      <td>f</td>\n",
       "      <td>NaN</td>\n",
       "      <td>very low</td>\n",
       "      <td>very low</td>\n",
       "      <td>low</td>\n",
       "      <td>very high</td>\n",
       "      <td>very high</td>\n",
       "      <td>1.0</td>\n",
       "      <td>isfp</td>\n",
       "      <td>ds9w0n9</td>\n",
       "      <td>t3_7nzjky</td>\n",
       "      <td>2018-01-06</td>\n",
       "      <td>14:05:13</td>\n",
       "      <td>3</td>\n",
       "      <td>2</td>\n",
       "      <td>1</td>\n",
       "      <td>1</td>\n",
       "      <td>1</td>\n",
       "      <td>0</td>\n",
       "      <td>:)</td>\n",
       "      <td>:)</td>\n",
       "      <td>0.0</td>\n",
       "      <td>0.0</td>\n",
       "      <td>0.0</td>\n",
       "      <td>0.0</td>\n",
       "      <td>0.0</td>\n",
       "      <td>0.0</td>\n",
       "      <td>0.0</td>\n",
       "      <td>0.0</td>\n",
       "      <td>0.0</td>\n",
       "      <td>0.0</td>\n",
       "      <td>0.500</td>\n",
       "      <td>1.00</td>\n",
       "      <td>0.136882</td>\n",
       "      <td>0.065353</td>\n",
       "      <td>0.119412</td>\n",
       "      <td>106.67</td>\n",
       "      <td>0.1</td>\n",
       "      <td>2.80</td>\n",
       "      <td>0.0</td>\n",
       "      <td>-0.9</td>\n",
       "      <td>-0.06</td>\n",
       "      <td>6.24</td>\n",
       "      <td>2.75</td>\n",
       "      <td>1.0</td>\n",
       "      <td>14</td>\n",
       "      <td>13</td>\n",
       "      <td>0</td>\n",
       "      <td>2</td>\n",
       "      <td>4</td>\n",
       "      <td>6</td>\n",
       "      <td>9</td>\n",
       "      <td>0.000925</td>\n",
       "      <td>0.000107</td>\n",
       "      <td>0.000163</td>\n",
       "      <td>0.000127</td>\n",
       "      <td>0.0</td>\n",
       "      <td>0.000144</td>\n",
       "      <td>0</td>\n",
       "      <td>0.0</td>\n",
       "      <td>0.0</td>\n",
       "      <td>0.0</td>\n",
       "      <td>0.0</td>\n",
       "      <td>0.763596</td>\n",
       "      <td>0.0</td>\n",
       "      <td>0.0</td>\n",
       "      <td>0.0</td>\n",
       "      <td>0.0</td>\n",
       "      <td>0.0</td>\n",
       "      <td>0.0</td>\n",
       "      <td>0.0</td>\n",
       "      <td>0.0</td>\n",
       "      <td>0.0</td>\n",
       "      <td>0.0</td>\n",
       "      <td>0.0</td>\n",
       "      <td>0.0</td>\n",
       "      <td>0.0</td>\n",
       "      <td>0.0</td>\n",
       "      <td>0.0</td>\n",
       "      <td>0.0</td>\n",
       "      <td>0.0</td>\n",
       "      <td>0.0</td>\n",
       "      <td>0.0</td>\n",
       "      <td>0.0</td>\n",
       "      <td>0.0</td>\n",
       "      <td>0.0</td>\n",
       "      <td>0.0</td>\n",
       "      <td>0.0</td>\n",
       "      <td>0.0</td>\n",
       "      <td>0.0</td>\n",
       "      <td>0.0</td>\n",
       "      <td>0.0</td>\n",
       "      <td>0.0</td>\n",
       "      <td>0.0</td>\n",
       "      <td>0.0</td>\n",
       "      <td>0.0</td>\n",
       "      <td>0.0</td>\n",
       "      <td>0.0</td>\n",
       "      <td>0.0</td>\n",
       "      <td>0.0</td>\n",
       "      <td>0.0</td>\n",
       "      <td>0.0</td>\n",
       "      <td>0.0</td>\n",
       "      <td>0.0</td>\n",
       "      <td>0.0</td>\n",
       "      <td>0.0</td>\n",
       "      <td>0.0</td>\n",
       "      <td>0.0</td>\n",
       "      <td>0.0</td>\n",
       "      <td>0.0</td>\n",
       "      <td>0.0</td>\n",
       "      <td>0.0</td>\n",
       "      <td>0.0</td>\n",
       "      <td>0.0</td>\n",
       "      <td>0.0</td>\n",
       "      <td>0.0</td>\n",
       "      <td>0.0</td>\n",
       "      <td>0.0</td>\n",
       "      <td>0.0</td>\n",
       "      <td>0.0</td>\n",
       "      <td>0.645695</td>\n",
       "      <td>0.0</td>\n",
       "      <td>0.0</td>\n",
       "      <td>0.0</td>\n",
       "      <td>0.0</td>\n",
       "      <td>0.0</td>\n",
       "      <td>0.0</td>\n",
       "      <td>0.0</td>\n",
       "      <td>0.0</td>\n",
       "      <td>0.0</td>\n",
       "      <td>0.0</td>\n",
       "      <td>0.0</td>\n",
       "      <td>0.0</td>\n",
       "      <td>1</td>\n",
       "      <td>very low</td>\n",
       "    </tr>\n",
       "  </tbody>\n",
       "</table>\n",
       "</div>"
      ],
      "text/plain": [
       "               author  comment_id                                           llm_body                                          std_body gender   age   openness conscientiousness extraversion agreeableness neuroticism  score subreddit       id   parent_id        date time_of_day  num_punct  num_sents  num_words_upp  num_emoji  num_emoji_pos  num_emoji_neg emoji_unique emoji_list  fear  anger  anticip  trust  surprise  positive  negative  sadness  disgust  joy  polarity  subjectivity   valence   arousal  dominance  flesch  flesch_kincaid   fog  smog  ari  coleman_liau  dale_chall  linsear  difficult_words  num_words  num_words_unique  num_words_adj  num_words_noun  num_words_verb  num_words_lex  num_stopw  toxicity  severe_toxicity   obscene    threat  insult  identity_attack  is_toxic   go  holy fuck  homosexual  say      know  well  bunch  shit  man  racist  would  stupid  also  guy  liberal  make  country  religion  real  crap  right  keep  people  dick  need  asshole  nothing  \\\n",
       "0  quiteafewfireflies      306083  Oh, and I have so, so many flaws, haha. They j...       oh many flaw haha mostly affect anyone else      f  32.0  very high          very low       medium        medium   very high    1.0      entp  d1kyxpz  t1_d1kvevw  2016-03-31    21:22:18          5          2              0          0              0              0                           0.0    0.0      0.0    0.0       0.0       0.0       0.0      0.0      0.0  0.0     0.425          0.45  0.052826  0.041652   0.050913   87.72             3.3  3.60   0.0  1.9          2.52        6.71     4.00              2.0         18                17              2               4               3              9         10  0.004256         0.000098  0.000337  0.000113     0.0         0.000168         0  0.0        0.0         0.0  0.0  0.000000   0.0    0.0   0.0  0.0     0.0    0.0     0.0   0.0  0.0      0.0   0.0      0.0       0.0   0.0   0.0    0.0   0.0     0.0   0.0   0.0      0.0      0.0   \n",
       "1  Djzongreethesecond      134780  I was going to vote for Rand Paul but I guess ...  go vote rand paul guess not probably trump guess      t  16.0     medium          very low       medium      very low   very high    1.0      entp  d2bdphw   t3_4frij8  2016-04-21    05:39:21          1          1              0          0              0              0                           0.0    0.1      0.0    0.1       0.3       0.1       0.1      0.1      0.0  0.1     0.000          0.00  0.120190  0.085048   0.094619   86.03             6.0  9.71   0.0  4.7          2.85        7.90    10.50              1.0         20                16              1               8               3             12         11  0.000937         0.000104  0.000168  0.000119     0.0         0.000159         0  1.0        0.0         0.0  0.0  0.000000   0.0    0.0   0.0  0.0     0.0    0.0     0.0   0.0  0.0      0.0   0.0      0.0       0.0   0.0   0.0    0.0   0.0     0.0   0.0   0.0      0.0      0.0   \n",
       "2        goodthankyou      617969  How about walking her home? That is how my ISF...                           walk home isfp get know      f   NaN   very low          very low          low     very high   very high    1.0      isfp  ds9w0n9   t3_7nzjky  2018-01-06    14:05:13          3          2              1          1              1              0           :)         :)   0.0    0.0      0.0    0.0       0.0       0.0       0.0      0.0      0.0  0.0     0.500          1.00  0.136882  0.065353   0.119412  106.67             0.1  2.80   0.0 -0.9         -0.06        6.24     2.75              1.0         14                13              0               2               4              6          9  0.000925         0.000107  0.000163  0.000127     0.0         0.000144         0  0.0        0.0         0.0  0.0  0.763596   0.0    0.0   0.0  0.0     0.0    0.0     0.0   0.0  0.0      0.0   0.0      0.0       0.0   0.0   0.0    0.0   0.0     0.0   0.0   0.0      0.0      0.0   \n",
       "\n",
       "   woman  bitch  one  give  fuck shit  die  black  immigrant  kill  dude  fucking  nigga  suck  take  good  try  idiot  call  insult insult  life  think  society  fuckin  someone  want  stop  see  f cking  way  time  damn  white  fuck  government       get    u  gay  even  death  thing  control  money  muslim  family  hope  really  like  is_real   tox_bin  \n",
       "0    0.0    0.0  0.0   0.0        0.0  0.0    0.0        0.0   0.0   0.0      0.0    0.0   0.0   0.0   0.0  0.0    0.0   0.0            0.0   0.0    0.0      0.0     0.0      0.0   0.0   0.0  0.0      0.0  0.0   0.0   0.0    0.0   0.0         0.0  0.000000  0.0  0.0   0.0    0.0    0.0      0.0    0.0     0.0     0.0   0.0     0.0   0.0        1  very low  \n",
       "1    0.0    0.0  0.0   0.0        0.0  0.0    0.0        0.0   0.0   0.0      0.0    0.0   0.0   0.0   0.0  0.0    0.0   0.0            0.0   0.0    0.0      0.0     0.0      0.0   0.0   0.0  0.0      0.0  0.0   0.0   0.0    0.0   0.0         0.0  0.000000  0.0  0.0   0.0    0.0    0.0      0.0    0.0     0.0     0.0   0.0     0.0   0.0        1  very low  \n",
       "2    0.0    0.0  0.0   0.0        0.0  0.0    0.0        0.0   0.0   0.0      0.0    0.0   0.0   0.0   0.0  0.0    0.0   0.0            0.0   0.0    0.0      0.0     0.0      0.0   0.0   0.0  0.0      0.0  0.0   0.0   0.0    0.0   0.0         0.0  0.645695  0.0  0.0   0.0    0.0    0.0      0.0    0.0     0.0     0.0   0.0     0.0   0.0        1  very low  "
      ]
     },
     "execution_count": 24,
     "metadata": {},
     "output_type": "execute_result"
    }
   ],
   "source": [
    "df_test = pd.read_csv(\"../final_data/pandora/PANDORA_test.csv\", encoding = \"utf-8\")\n",
    "print(f\"Shape: {df_test.shape}\")\n",
    "df_test.head(3)"
   ]
  },
  {
   "cell_type": "markdown",
   "metadata": {},
   "source": [
    "Fix encoding"
   ]
  },
  {
   "cell_type": "code",
   "execution_count": 25,
   "metadata": {},
   "outputs": [
    {
     "name": "stderr",
     "output_type": "stream",
     "text": [
      "100%|██████████| 50000/50000 [00:00<00:00, 712526.93it/s]"
     ]
    },
    {
     "name": "stdout",
     "output_type": "stream",
     "text": [
      "Text encoding fixed.\n",
      "\n"
     ]
    },
    {
     "name": "stderr",
     "output_type": "stream",
     "text": [
      "\n"
     ]
    }
   ],
   "source": [
    "fix_encoding(df_test, \"llm_body\")"
   ]
  },
  {
   "cell_type": "markdown",
   "metadata": {},
   "source": [
    "##### Extraction strategy"
   ]
  },
  {
   "cell_type": "code",
   "execution_count": 62,
   "metadata": {},
   "outputs": [],
   "source": [
    "# define what strategy to use: [CLS] token or mean pooling of tokens' embs\n",
    "pooling = \"cls\" # cls, mean\n",
    "text_col = \"llm_body\""
   ]
  },
  {
   "cell_type": "code",
   "execution_count": 63,
   "metadata": {},
   "outputs": [
    {
     "name": "stdout",
     "output_type": "stream",
     "text": [
      "\n",
      "Extracting embeddings for Obscene\n"
     ]
    },
    {
     "name": "stderr",
     "output_type": "stream",
     "text": [
      "100%|██████████| 50000/50000 [09:10<00:00, 90.85it/s]\n"
     ]
    },
    {
     "name": "stdout",
     "output_type": "stream",
     "text": [
      "\n",
      "Extracting embeddings for Threat\n"
     ]
    },
    {
     "name": "stderr",
     "output_type": "stream",
     "text": [
      "100%|██████████| 50000/50000 [09:00<00:00, 92.53it/s]\n"
     ]
    },
    {
     "name": "stdout",
     "output_type": "stream",
     "text": [
      "\n",
      "Extracting embeddings for Insult\n"
     ]
    },
    {
     "name": "stderr",
     "output_type": "stream",
     "text": [
      "100%|██████████| 50000/50000 [09:07<00:00, 91.29it/s]\n"
     ]
    },
    {
     "name": "stdout",
     "output_type": "stream",
     "text": [
      "\n",
      "Extracting embeddings for Identity_attack\n"
     ]
    },
    {
     "name": "stderr",
     "output_type": "stream",
     "text": [
      "100%|██████████| 50000/50000 [08:51<00:00, 94.08it/s] \n"
     ]
    }
   ],
   "source": [
    "# extract concatenation of text embeddings for each fine-tuned model\n",
    "real_embs = extract_embeddings(df_test, text_col, traits = tox_feat, pooling = pooling)"
   ]
  },
  {
   "cell_type": "code",
   "execution_count": 78,
   "metadata": {},
   "outputs": [
    {
     "name": "stdout",
     "output_type": "stream",
     "text": [
      "\n",
      "Extracting embeddings for Obscene\n"
     ]
    },
    {
     "name": "stderr",
     "output_type": "stream",
     "text": [
      "100%|██████████| 3131/3131 [00:34<00:00, 91.27it/s] \n"
     ]
    },
    {
     "name": "stdout",
     "output_type": "stream",
     "text": [
      "\n",
      "Extracting embeddings for Threat\n"
     ]
    },
    {
     "name": "stderr",
     "output_type": "stream",
     "text": [
      "100%|██████████| 3131/3131 [00:31<00:00, 98.04it/s] \n"
     ]
    },
    {
     "name": "stdout",
     "output_type": "stream",
     "text": [
      "\n",
      "Extracting embeddings for Insult\n"
     ]
    },
    {
     "name": "stderr",
     "output_type": "stream",
     "text": [
      "100%|██████████| 3131/3131 [00:31<00:00, 97.87it/s] \n"
     ]
    },
    {
     "name": "stdout",
     "output_type": "stream",
     "text": [
      "\n",
      "Extracting embeddings for Identity_attack\n"
     ]
    },
    {
     "name": "stderr",
     "output_type": "stream",
     "text": [
      "100%|██████████| 3131/3131 [00:32<00:00, 97.03it/s] \n"
     ]
    },
    {
     "name": "stdout",
     "output_type": "stream",
     "text": [
      "\n",
      "Extracting embeddings for Obscene\n"
     ]
    },
    {
     "name": "stderr",
     "output_type": "stream",
     "text": [
      "100%|██████████| 2579/2579 [00:26<00:00, 98.21it/s] \n"
     ]
    },
    {
     "name": "stdout",
     "output_type": "stream",
     "text": [
      "\n",
      "Extracting embeddings for Threat\n"
     ]
    },
    {
     "name": "stderr",
     "output_type": "stream",
     "text": [
      "100%|██████████| 2579/2579 [00:26<00:00, 97.66it/s] \n"
     ]
    },
    {
     "name": "stdout",
     "output_type": "stream",
     "text": [
      "\n",
      "Extracting embeddings for Insult\n"
     ]
    },
    {
     "name": "stderr",
     "output_type": "stream",
     "text": [
      "100%|██████████| 2579/2579 [00:26<00:00, 97.19it/s] \n"
     ]
    },
    {
     "name": "stdout",
     "output_type": "stream",
     "text": [
      "\n",
      "Extracting embeddings for Identity_attack\n"
     ]
    },
    {
     "name": "stderr",
     "output_type": "stream",
     "text": [
      "100%|██████████| 2579/2579 [00:26<00:00, 96.87it/s] \n"
     ]
    },
    {
     "name": "stdout",
     "output_type": "stream",
     "text": [
      "\n",
      "Extracting embeddings for Obscene\n"
     ]
    },
    {
     "name": "stderr",
     "output_type": "stream",
     "text": [
      "100%|██████████| 2620/2620 [00:26<00:00, 98.14it/s] \n"
     ]
    },
    {
     "name": "stdout",
     "output_type": "stream",
     "text": [
      "\n",
      "Extracting embeddings for Threat\n"
     ]
    },
    {
     "name": "stderr",
     "output_type": "stream",
     "text": [
      "100%|██████████| 2620/2620 [00:26<00:00, 98.02it/s] \n"
     ]
    },
    {
     "name": "stdout",
     "output_type": "stream",
     "text": [
      "\n",
      "Extracting embeddings for Insult\n"
     ]
    },
    {
     "name": "stderr",
     "output_type": "stream",
     "text": [
      "100%|██████████| 2620/2620 [00:26<00:00, 98.38it/s] \n"
     ]
    },
    {
     "name": "stdout",
     "output_type": "stream",
     "text": [
      "\n",
      "Extracting embeddings for Identity_attack\n"
     ]
    },
    {
     "name": "stderr",
     "output_type": "stream",
     "text": [
      "100%|██████████| 2620/2620 [00:26<00:00, 98.10it/s] \n"
     ]
    },
    {
     "name": "stdout",
     "output_type": "stream",
     "text": [
      "\n",
      "Extracting embeddings for Obscene\n"
     ]
    },
    {
     "name": "stderr",
     "output_type": "stream",
     "text": [
      "100%|██████████| 2624/2624 [00:26<00:00, 97.69it/s] \n"
     ]
    },
    {
     "name": "stdout",
     "output_type": "stream",
     "text": [
      "\n",
      "Extracting embeddings for Threat\n"
     ]
    },
    {
     "name": "stderr",
     "output_type": "stream",
     "text": [
      "100%|██████████| 2624/2624 [00:27<00:00, 95.68it/s] \n"
     ]
    },
    {
     "name": "stdout",
     "output_type": "stream",
     "text": [
      "\n",
      "Extracting embeddings for Insult\n"
     ]
    },
    {
     "name": "stderr",
     "output_type": "stream",
     "text": [
      "100%|██████████| 2624/2624 [00:26<00:00, 97.65it/s] \n"
     ]
    },
    {
     "name": "stdout",
     "output_type": "stream",
     "text": [
      "\n",
      "Extracting embeddings for Identity_attack\n"
     ]
    },
    {
     "name": "stderr",
     "output_type": "stream",
     "text": [
      "100%|██████████| 2624/2624 [00:27<00:00, 96.59it/s] \n"
     ]
    },
    {
     "name": "stdout",
     "output_type": "stream",
     "text": [
      "\n",
      "Extracting embeddings for Obscene\n"
     ]
    },
    {
     "name": "stderr",
     "output_type": "stream",
     "text": [
      "100%|██████████| 2599/2599 [00:26<00:00, 97.94it/s] \n"
     ]
    },
    {
     "name": "stdout",
     "output_type": "stream",
     "text": [
      "\n",
      "Extracting embeddings for Threat\n"
     ]
    },
    {
     "name": "stderr",
     "output_type": "stream",
     "text": [
      "100%|██████████| 2599/2599 [00:26<00:00, 97.75it/s] \n"
     ]
    },
    {
     "name": "stdout",
     "output_type": "stream",
     "text": [
      "\n",
      "Extracting embeddings for Insult\n"
     ]
    },
    {
     "name": "stderr",
     "output_type": "stream",
     "text": [
      "100%|██████████| 2599/2599 [00:26<00:00, 97.15it/s] \n"
     ]
    },
    {
     "name": "stdout",
     "output_type": "stream",
     "text": [
      "\n",
      "Extracting embeddings for Identity_attack\n"
     ]
    },
    {
     "name": "stderr",
     "output_type": "stream",
     "text": [
      "100%|██████████| 2599/2599 [00:26<00:00, 97.79it/s] \n"
     ]
    }
   ],
   "source": [
    "# extract embeddings for the simulated data\n",
    "bef_embs = extract_embeddings(df_bef, text_col, traits = tox_feat, pooling = pooling)\n",
    "ofsa_embs = extract_embeddings(df_ofsa, text_col, traits = tox_feat, pooling = pooling)\n",
    "neut_embs = extract_embeddings(df_neut, text_col, traits = tox_feat, pooling = pooling)\n",
    "emp_embs = extract_embeddings(df_emp, text_col, traits = tox_feat, pooling = pooling)\n",
    "pres_embs = extract_embeddings(df_pres, text_col, traits = tox_feat, pooling = pooling)"
   ]
  },
  {
   "cell_type": "code",
   "execution_count": 64,
   "metadata": {},
   "outputs": [
    {
     "name": "stdout",
     "output_type": "stream",
     "text": [
      "Shape real: (50000, 3072)\n"
     ]
    }
   ],
   "source": [
    "# real\n",
    "print(f\"Shape real: {real_embs.shape}\")"
   ]
  },
  {
   "cell_type": "code",
   "execution_count": null,
   "metadata": {},
   "outputs": [
    {
     "name": "stdout",
     "output_type": "stream",
     "text": [
      "Shape real: (11761, 3072)\n",
      "Shape before: (3131, 3072)\n",
      "Shape ofsa: (2579, 3072)\n",
      "Shape neutral: (2620, 3072)\n",
      "Shape empathizing: (2624, 3072)\n",
      "Shape prescriptive: (2599, 3072)\n"
     ]
    }
   ],
   "source": [
    "# simulated\n",
    "print(f\"Shape before: {bef_embs.shape}\")\n",
    "print(f\"Shape ofsa: {ofsa_embs.shape}\")\n",
    "print(f\"Shape neutral: {neut_embs.shape}\")\n",
    "print(f\"Shape empathizing: {emp_embs.shape}\")\n",
    "print(f\"Shape prescriptive: {pres_embs.shape}\")"
   ]
  },
  {
   "cell_type": "markdown",
   "metadata": {},
   "source": [
    "##### Store complete embeddings"
   ]
  },
  {
   "cell_type": "code",
   "execution_count": null,
   "metadata": {},
   "outputs": [],
   "source": [
    "## real data embeddings\n",
    "#np.save(f\"../final_data/pandora/embeddings_tox/PANDORA_test_embs_3072_{pooling}.npy\", real_embs)\n",
    "#\n",
    "## simulator ex-ante embeddings\n",
    "## before moderation\n",
    "#np.save(f\"../final_data/simulator/exante/before_mod/embeddings_tox/SIMULATOR_exante_bef_embs_3072_{pooling}.npy\", bef_embs)\n",
    "## after moderation\n",
    "#np.save(f\"../final_data/simulator/exante/after_mod/embeddings_tox/SIMULATOR_exante_ofsa_embs_3072_{pooling}.npy\", ofsa_embs)\n",
    "#np.save(f\"../final_data/simulator/exante/after_mod/embeddings_tox/SIMULATOR_exante_neut_embs_3072_{pooling}.npy\", neut_embs)\n",
    "#np.save(f\"../final_data/simulator/exante/after_mod/embeddings_tox/SIMULATOR_exante_emp_embs_3072_{pooling}.npy\", emp_embs)\n",
    "#np.save(f\"../final_data/simulator/exante/after_mod/embeddings_tox/SIMULATOR_exante_pres_embs_3072_{pooling}.npy\", pres_embs)"
   ]
  },
  {
   "cell_type": "markdown",
   "metadata": {},
   "source": [
    "##### Load embeddings"
   ]
  },
  {
   "cell_type": "code",
   "execution_count": 5,
   "metadata": {},
   "outputs": [],
   "source": [
    "pooling = \"cls\" # cls, mean"
   ]
  },
  {
   "cell_type": "code",
   "execution_count": 6,
   "metadata": {},
   "outputs": [],
   "source": [
    "# real data embeddings\n",
    "real_embs = np.load(f\"../final_data/pandora/embeddings_tox/PANDORA_test_embs_3072_{pooling}.npy\")\n",
    "\n",
    "# simulator ex-ante embeddings\n",
    "# before moderation\n",
    "bef_embs = np.load(f\"../final_data/simulator/exante/before_mod/embeddings_tox/SIMULATOR_exante_bef_embs_3072_{pooling}.npy\")\n",
    "# after moderation\n",
    "ofsa_embs = np.load(f\"../final_data/simulator/exante/after_mod/embeddings_tox/SIMULATOR_exante_ofsa_embs_3072_{pooling}.npy\")\n",
    "neut_embs = np.load(f\"../final_data/simulator/exante/after_mod/embeddings_tox/SIMULATOR_exante_neut_embs_3072_{pooling}.npy\")\n",
    "emp_embs = np.load(f\"../final_data/simulator/exante/after_mod/embeddings_tox/SIMULATOR_exante_emp_embs_3072_{pooling}.npy\")\n",
    "pres_embs = np.load(f\"../final_data/simulator/exante/after_mod/embeddings_tox/SIMULATOR_exante_pres_embs_3072_{pooling}.npy\")"
   ]
  },
  {
   "cell_type": "markdown",
   "metadata": {},
   "source": [
    "##### Standardization of embeddings"
   ]
  },
  {
   "cell_type": "code",
   "execution_count": 7,
   "metadata": {},
   "outputs": [],
   "source": [
    "real_embs_std, scaler = zscore_scale(real_embs)"
   ]
  },
  {
   "cell_type": "code",
   "execution_count": 8,
   "metadata": {},
   "outputs": [],
   "source": [
    "bef_embs_std = scaler.transform(bef_embs)\n",
    "ofsa_embs_std = scaler.transform(ofsa_embs)\n",
    "neut_embs_std = scaler.transform(neut_embs)\n",
    "emp_embs_std = scaler.transform(emp_embs)\n",
    "pres_embs_std = scaler.transform(pres_embs)"
   ]
  },
  {
   "cell_type": "markdown",
   "metadata": {},
   "source": [
    "### Embeddings compression with PCA\n",
    "- the idea is to first remove noise by using PCA, retaining at least 90% of embeddings' variance\n",
    "- therefore apply clustering on the reduced space to find toxic profiles\n",
    "- the PCA is fitted exclusively on the real data\n",
    "- we then transform all the embeddings accordingly, since the real data represents the actual personality-related language"
   ]
  },
  {
   "cell_type": "markdown",
   "metadata": {},
   "source": [
    "##### PCA"
   ]
  },
  {
   "cell_type": "code",
   "execution_count": 37,
   "metadata": {},
   "outputs": [
    {
     "name": "stdout",
     "output_type": "stream",
     "text": [
      "Shape before PCA: (50000, 3072)\n",
      "Shape after PCA: (50000, 357)\n"
     ]
    },
    {
     "data": {
      "image/png": "[encoded data removed]",
      "text/plain": [
       "<Figure size 1000x500 with 1 Axes>"
      ]
     },
     "metadata": {},
     "output_type": "display_data"
    }
   ],
   "source": [
    "real_embs_pca, fitted_pca = apply_pca(real_embs_std, explain_perc = 0.9)"
   ]
  },
  {
   "cell_type": "code",
   "execution_count": 54,
   "metadata": {},
   "outputs": [],
   "source": [
    "bef_embs_pca = fitted_pca.transform(bef_embs_std)\n",
    "ofsa_embs_pca = fitted_pca.transform(ofsa_embs_std)\n",
    "neut_embs_pca = fitted_pca.transform(neut_embs_std)\n",
    "emp_embs_pca = fitted_pca.transform(emp_embs_std)\n",
    "pres_embs_pca = fitted_pca.transform(pres_embs_std)"
   ]
  },
  {
   "cell_type": "markdown",
   "metadata": {},
   "source": [
    "##### Add comment ID to embeddings (for future cross-analyses)"
   ]
  },
  {
   "cell_type": "code",
   "execution_count": 46,
   "metadata": {},
   "outputs": [],
   "source": [
    "real_embs_pca = add_comment_id(df_test, real_embs_pca)\n",
    "bef_embs_pca = add_comment_id(df_bef, bef_embs_pca)\n",
    "ofsa_embs_pca = add_comment_id(df_ofsa, ofsa_embs_pca)\n",
    "neut_embs_pca = add_comment_id(df_neut, neut_embs_pca)\n",
    "emp_embs_pca = add_comment_id(df_emp, emp_embs_pca)\n",
    "pres_embs_pca = add_comment_id(df_pres, pres_embs_pca)"
   ]
  },
  {
   "cell_type": "markdown",
   "metadata": {},
   "source": [
    "##### Store compressed embeddings"
   ]
  },
  {
   "cell_type": "code",
   "execution_count": 47,
   "metadata": {},
   "outputs": [],
   "source": [
    "# real data\n",
    "np.save(f\"../final_data/pandora/embeddings_tox/{pooling}/PANDORA_test_embs_{real_embs_pca.shape[1]-1}.npy\", real_embs_pca)"
   ]
  },
  {
   "cell_type": "code",
   "execution_count": 48,
   "metadata": {},
   "outputs": [],
   "source": [
    "# before mod\n",
    "np.save(f\"../final_data/simulator/exante/before_mod/embeddings_tox/{pooling}/SIMULATOR_exante_bef_embs_{bef_embs_pca.shape[1]-1}.npy\", bef_embs_pca)\n",
    "# after mod\n",
    "np.save(f\"../final_data/simulator/exante/after_mod/embeddings_tox/{pooling}/SIMULATOR_exante_ofsa_embs_{ofsa_embs_pca.shape[1]-1}.npy\", ofsa_embs_pca)\n",
    "np.save(f\"../final_data/simulator/exante/after_mod/embeddings_tox/{pooling}/SIMULATOR_exante_neut_embs_{neut_embs_pca.shape[1]-1}.npy\", neut_embs_pca)\n",
    "np.save(f\"../final_data/simulator/exante/after_mod/embeddings_tox/{pooling}/SIMULATOR_exante_emp_embs_{emp_embs_pca.shape[1]-1}.npy\", emp_embs_pca)\n",
    "np.save(f\"../final_data/simulator/exante/after_mod/embeddings_tox/{pooling}/SIMULATOR_exante_pres_embs_{pres_embs_pca.shape[1]-1}.npy\", pres_embs_pca)"
   ]
  }
 ],
 "metadata": {
  "kernelspec": {
   "display_name": "deeplearning",
   "language": "python",
   "name": "python3"
  },
  "language_info": {
   "codemirror_mode": {
    "name": "ipython",
    "version": 3
   },
   "file_extension": ".py",
   "mimetype": "text/x-python",
   "name": "python",
   "nbconvert_exporter": "python",
   "pygments_lexer": "ipython3",
   "version": "3.9.16"
  }
 },
 "nbformat": 4,
 "nbformat_minor": 2
}
